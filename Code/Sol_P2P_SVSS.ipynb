{
 "cells": [
  {
   "cell_type": "code",
   "execution_count": 1,
   "metadata": {},
   "outputs": [],
   "source": [
    "import numpy as np\n",
    "\n",
    "import matplotlib as mpl\n",
    "import matplotlib\n",
    "# matplotlib.use('agg')\n",
    "# matplotlib.use('TkAgg')\n",
    "# matplotlib.use('qtagg')\n",
    "import matplotlib.pyplot as plt\n",
    "import matplotlib.gridspec as gridspec\n",
    "from matplotlib.pyplot import *\n",
    "from matplotlib.ticker import (MultipleLocator, FormatStrFormatter,\n",
    "                               AutoMinorLocator)\n",
    "from math import *\n",
    "#import pandas as pd\n",
    "\n",
    "from scipy import interpolate\n",
    "from scipy.optimize import curve_fit \n",
    "\n",
    "from astropy.io import fits\n",
    "from astropy.table import Table\n",
    "from astropy.table import vstack\n",
    "from astropy.coordinates import SkyCoord, ICRS, Galactic\n",
    "# import astropy.units as u\n",
    "import astropy.units as units\n",
    "import astropy.coordinates as coord\n",
    "#from matplotlib.colors import LogNorm\n",
    "\n",
    "# from mpl_toolkits.axes_grid1 import make_axes_locatable\n",
    "# #import matplotlib.ticker as mtick\n",
    "\n",
    "\n",
    "import os\n",
    "#%matplotlib widget\n",
    "import seaborn as sns\n",
    "import os, sys\n",
    "\n",
    "\n",
    "# from astropy.io import ascii\n",
    "# from astropy.coordinates import galactocentric_frame_defaults\n",
    "\n",
    "import sklearn\n",
    "import pandas as pd\n",
    "from sklearn.neighbors import KNeighborsClassifier\n",
    "\n",
    "from scipy import interpolate\n",
    "\n",
    "import random\n",
    "from scipy import integrate\n",
    "\n",
    "\n",
    "gcolor = ['c','blue','g','r','orange', 'green','cyan']"
   ]
  },
  {
   "cell_type": "code",
   "execution_count": 2,
   "metadata": {},
   "outputs": [],
   "source": [
    "import ppxf as ppxf_package\n",
    "from ppxf.ppxf import ppxf\n",
    "import ppxf.ppxf_util as util\n",
    "import ppxf.sps_util as lib\n",
    "import sys,glob\n",
    "from pathlib import Path\n",
    "\n",
    "from ppxf.ppxf import ppxf, robust_sigma\n",
    "\n",
    "from vorbin.voronoi_2d_binning import voronoi_2d_binning\n",
    "from plotbin.display_bins import display_bins\n",
    "\n",
    "from tqdm import tqdm  "
   ]
  },
  {
   "cell_type": "markdown",
   "metadata": {},
   "source": [
    "# Global Setting"
   ]
  },
  {
   "cell_type": "markdown",
   "metadata": {},
   "source": [
    "## Galaxy information"
   ]
  },
  {
   "cell_type": "code",
   "execution_count": 3,
   "metadata": {},
   "outputs": [],
   "source": [
    "c = 299792.458  # spped of light [km/s]\n",
    "\n",
    "galaxy_name = 'VCC_1588'\n",
    "spectrum_filename = 'VCC1588_stack.fits'\n",
    "spectrum_z = 0.0042"
   ]
  },
  {
   "cell_type": "markdown",
   "metadata": {},
   "source": [
    "## basic fitting parameters"
   ]
  },
  {
   "cell_type": "code",
   "execution_count": null,
   "metadata": {},
   "outputs": [],
   "source": [
    "lam_range_temp = [4800, 5300]\n",
    "redshift = spectrum_z           # redshift from\n",
    "objfile = Path('./../Ori_Data/'+spectrum_filename)"
   ]
  },
  {
   "cell_type": "code",
   "execution_count": null,
   "metadata": {},
   "outputs": [],
   "source": [
    "# templates\n",
    "\n",
    "sps_name = 'emiles'\n",
    "ppxf_dir = Path(lib.__file__).parent\n",
    "basename = f\"spectra_{sps_name}_9.0.npz\"\n",
    "filename = ppxf_dir / 'sps_models' / basename"
   ]
  },
  {
   "cell_type": "code",
   "execution_count": null,
   "metadata": {},
   "outputs": [],
   "source": [
    "# vel_s = c * spectrum_z\n",
    "vel_s = 0\n",
    "vel_dis_s = 40 # Set the dis v = 40 km/s"
   ]
  },
  {
   "cell_type": "markdown",
   "metadata": {},
   "source": [
    "# Data Input"
   ]
  },
  {
   "cell_type": "code",
   "execution_count": null,
   "metadata": {},
   "outputs": [],
   "source": [
    "## Code from example\n",
    "\n",
    "class read_data_cube:\n",
    "    def __init__(self, filename, lam_range, redshift):\n",
    "        \"\"\"Read data cube, de-redshift, log rebin and compute coordinates of each spaxel.\"\"\"\n",
    "\n",
    "        self.read_fits_file(filename)\n",
    "\n",
    "        # Only use the specified rest-frame wavelength range\n",
    "        wave = self.wave/(1 + redshift)      # de-redshift the spectrum\n",
    "        w = (wave > lam_range[0]) & (wave < lam_range[1])\n",
    "        wave = wave[w]\n",
    "        cube = self.cube[w, ...]\n",
    "        cubevar = self.cubevar[w, ...]\n",
    "\n",
    "        signal = np.nanmedian(cube, 0)\n",
    "        noise = np.sqrt(np.nanmedian(cubevar, 0))\n",
    "\n",
    "        # Create coordinates centred on the brightest spaxel\n",
    "        jm = np.argmax(signal)\n",
    "        row, col = map(np.ravel, np.indices(cube.shape[-2:]))\n",
    "        x = (col - col[jm])*self.pixsize_x\n",
    "        y = (row - row[jm])*self.pixsize_y\n",
    "\n",
    "        # Transform cube into 2-dim array of spectra\n",
    "        npix = cube.shape[0]\n",
    "        spectra = cube.reshape(npix, -1)        # create array of spectra [npix, nx*ny]\n",
    "        variance = cubevar.reshape(npix, -1)    # create array of variance [npix, nx*ny]\n",
    "\n",
    "        c = 299792.458  # speed of light in km/s\n",
    "        velscale = np.min(c*np.diff(np.log(wave)))  # Preserve smallest velocity step\n",
    "        lam_range_temp = [np.min(wave), np.max(wave)]\n",
    "        spectra, ln_lam_gal, velscale = util.log_rebin(lam_range_temp, spectra, velscale=velscale)\n",
    "\n",
    "        # Coordinates and spectra only for spaxels with enough signal\n",
    "        self.spectra = spectra\n",
    "        self.variance = variance\n",
    "        self.x = x\n",
    "        self.y = y\n",
    "        self.signal = signal.ravel()\n",
    "        self.noise = noise.ravel()\n",
    "\n",
    "        self.col = col + 1   # start counting from 1\n",
    "        self.row = row + 1\n",
    "        self.velscale = velscale\n",
    "        self.ln_lam_gal = ln_lam_gal\n",
    "        self.fwhm_gal = self.fwhm_gal/(1 + redshift)\n",
    "\n",
    "        self.velfield = np.ndarray(shape=self.cube.shape[1:3])\n",
    "        self.sigfield = np.ndarray(shape=self.cube.shape[1:3])\n",
    "\n",
    "        # self.CD1_1 = self.CD1_1\n",
    "        # self.CD1_2 = self.CD1_2\n",
    "        # self.CD2_1 = self.CD2_1\n",
    "        # self.CD2_2 = self.CD2_2\n",
    "        # self.CRVAL1 = self.CRVAL1\n",
    "        # self.CRVAL2 = self.CRVAL2\n",
    "\n",
    "###############################################################################\n",
    "\n",
    "    def read_fits_file(self, filename):\n",
    "        \"\"\"\n",
    "        Read MUSE cube, noise, wavelength, spectral FWHM and pixel size.\n",
    "\n",
    "        It must return the cube and cuberr as (npix, nx, ny) and wave as (npix,)\n",
    "\n",
    "        IMPORTANT: This is not a general function! Its details depend on the\n",
    "        way the data were stored in the FITS file and the available keywords in\n",
    "        the FITS header. One may have to adapt the function to properly read\n",
    "        the FITS file under analysis.                \n",
    "        \"\"\"\n",
    "\n",
    "        Cut_LHS = 50\n",
    "        Cut_RHS = 120\n",
    "\n",
    "        hdu = fits.open(filename)\n",
    "        head = hdu[0].header\n",
    "        # cube = hdu[0].data[Cut_LHS:-Cut_RHS,:,:] * (10 ** 18)\n",
    "        cube = hdu[0].data[Cut_LHS:-Cut_RHS,:,:]\n",
    "        # cube = hdu[0].data * (10 ** 18)\n",
    "        cubevar = np.empty_like(cube)  # This file contains no errors\n",
    "\n",
    "        # Only use the specified rest-frame wavelength range\n",
    "        wave = head['CRVAL3'] + head['CD3_3']*np.arange(cube.shape[0]) + head['CD3_3']*Cut_LHS\n",
    "\n",
    "        self.cube = cube\n",
    "        self.cubevar = cubevar\n",
    "        self.wave = wave\n",
    "        \n",
    "        # self.fwhm_gal = 2.62  # Median FWHM = 2.62Å. Range: 2.51--2.88 (ESO instrument manual). \n",
    "        self.fwhm_gal = 1\n",
    "        # self.pixsize = abs(head[\"CDELT1\"])*3600    # 0.2\"\n",
    "        self.pixsize_x = abs(np.sqrt((head['CD1_1'])**2+(head['CD2_1'])**2))*3600\n",
    "        self.pixsize_y = abs(np.sqrt((head['CD1_2'])**2+(head['CD2_2'])**2))*3600\n",
    "\n",
    "        self.CD1_1 = head['CD1_1']\n",
    "        self.CD1_2 = head['CD1_2']\n",
    "        self.CD2_1 = head['CD2_1']\n",
    "        self.CD2_2 = head['CD2_2']\n",
    "        self.CRVAL1 = head['CRVAL1']\n",
    "        self.CRVAL2 = head['CRVAL2']"
   ]
  },
  {
   "cell_type": "code",
   "execution_count": null,
   "metadata": {},
   "outputs": [],
   "source": [
    "Galaxy_info = read_data_cube(objfile, lam_range_temp, redshift)"
   ]
  },
  {
   "cell_type": "markdown",
   "metadata": {},
   "source": [
    "# Fitting"
   ]
  },
  {
   "cell_type": "markdown",
   "metadata": {},
   "source": [
    "## Parameters pre-set"
   ]
  },
  {
   "cell_type": "code",
   "execution_count": null,
   "metadata": {},
   "outputs": [],
   "source": [
    "FWHM_gal = None   # set this to None to skip templates broadening\n",
    "sps = lib.sps_lib(filename, Galaxy_info.velscale, FWHM_gal, norm_range=[4800, 5300])\n",
    "# sps = lib.sps_lib(filename, Galaxy_info.velscale, FWHM_gal)"
   ]
  },
  {
   "cell_type": "code",
   "execution_count": null,
   "metadata": {},
   "outputs": [],
   "source": [
    "npix, *reg_dim = sps.templates.shape\n",
    "sps.templates = sps.templates.reshape(npix, -1)\n",
    "sps.templates /= np.median(sps.templates) # Normalizes stellar templates by a scalar\n",
    "regul_err = 0.01 # Desired regularization error\n",
    "\n",
    "lam_range_temp = np.exp(sps.ln_lam_temp[[0, -1]])\n",
    "mask0 = util.determine_mask(Galaxy_info.ln_lam_gal, lam_range_temp, width=1000)\n",
    "# nbins = np.unique(bin_num).size\n",
    "# velbin, sigbin, lg_age_bin, metalbin, nspax = np.zeros((5, nbins))\n",
    "# optimal_templates = np.empty((npix, nbins))\n",
    "lam_gal = np.exp(Galaxy_info.ln_lam_gal)"
   ]
  },
  {
   "cell_type": "markdown",
   "metadata": {},
   "source": [
    "## FTF (First time fitting)"
   ]
  },
  {
   "cell_type": "code",
   "execution_count": null,
   "metadata": {},
   "outputs": [],
   "source": [
    "def Cube_sol(Galaxy_cube, redshift):\n",
    "    \n",
    "    plt.figure(figsize=(16, 3))\n",
    "    ##-----------------------------------------------\n",
    "    galaxies = np.ndarray(shape= (Galaxy_cube.spectra[:,0].shape[0],Galaxy_cube.cube.shape[1],Galaxy_cube.cube.shape[2]))\n",
    "    # print(Galaxy_cube.cube.shape)\n",
    "    for i in range(Galaxy_cube.cube.shape[1]):\n",
    "        for j in range(Galaxy_cube.cube.shape[2]):\n",
    "            # galaxy,logLam1,velscale = util.log_rebin(np.array([np.min(Galaxy_cube.wave), np.max(Galaxy_cube.wave)]),Galaxy_cube.cube[:,i,j])\n",
    "            # galaxy = galaxy/np.median(galaxy)\n",
    "\n",
    "            galaxies[:,i,j] = Galaxy_cube.spectra[:,i*max(Galaxy_cube.col)+j]\n",
    "    # plt.plot(galaxies[:,10,20])\n",
    "\n",
    "    # logLam10 = logLam1[:]\n",
    "    # logLam1 = logLam10[200:-200]\n",
    "\n",
    "    velscale_ratio = 2\n",
    "    velscale = Galaxy_cube.velscale\n",
    "\n",
    "    velfield = np.ndarray(shape=galaxies.shape[1:3])+np.nan\n",
    "    sigfield = np.ndarray(shape=galaxies.shape[1:3])+np.nan\n",
    "    tempnum = np.ndarray(shape=galaxies.shape[1:3])\n",
    "    Bestfitfield = np.ndarray(shape=galaxies.shape)\n",
    "\n",
    "    optimal_templates = np.ndarray(shape=(npix,galaxies.shape[1],galaxies.shape[2]))\n",
    "    # pp_field = [[None]*Galaxy_cube.cube.shape[2]]*Galaxy_cube.cube.shape[1]\n",
    "    # print(pp_field[0][1])\n",
    "\n",
    "    for i in tqdm(range(galaxies.shape[1])):\n",
    "        for j in range(galaxies.shape[2]):\n",
    "            # if(i == 11 and j == 43):                 # -------------------------- Here is the test sentence -------------------------- Here is the test sentence\n",
    "                plot_TF = True if (i == 11 and j == 43) else False\n",
    "                tmpgalaxy = galaxies[:,i,j]\n",
    "                noise = np.full_like(tmpgalaxy,0.1)\n",
    "                noise = np.ones_like(tmpgalaxy)\n",
    "                if np.count_nonzero(tmpgalaxy) > 50:\n",
    "                    pp = ppxf(sps.templates, tmpgalaxy, noise, velscale, [vel_s, vel_dis_s],\n",
    "                            plot=plot_TF, mask=mask0, lam=lam_gal, lam_temp=sps.lam_temp, quiet=not plot_TF)\n",
    "                    # pp_field[i][j]=pp\n",
    "                    Bestfitfield[:,i,j]=pp.bestfit\n",
    "\n",
    "                    pp.optimal_template = sps.templates.reshape(sps.templates.shape[0], -1) @ pp.weights\n",
    "                    optimal_templates[:,i,j] = pp.optimal_template\n",
    "                    velfield[i,j] = pp.sol[0]\n",
    "                    sigfield[i,j] = pp.sol[1]\n",
    "                    weights = pp.weights\n",
    "                    indwt = np.where(weights == np.max(weights))[0]\n",
    "                    tempnum[i,j] = indwt[0]\n",
    "\n",
    "    # return velfield, sigfield, pp_field\n",
    "    return velfield, sigfield, Bestfitfield, optimal_templates"
   ]
  },
  {
   "cell_type": "code",
   "execution_count": null,
   "metadata": {},
   "outputs": [],
   "source": [
    "velfield, sigfield, Bestfitfield, optimal_templates = Cube_sol(Galaxy_info, redshift)"
   ]
  },
  {
   "cell_type": "code",
   "execution_count": null,
   "metadata": {},
   "outputs": [],
   "source": [
    "Index_Wave = pd.DataFrame({\n",
    "        'Index':['H_beta','Fe_5015','Mg_b','Fe_5270','Fe_5270_s'],\n",
    "        'BPC_range':[[4827.875,4847.875],[4946.500,4977.750],[5142.625,5161.375],[5233.150,5248.150],[5233.000,5250.000]],\n",
    "        'CBP_range':[[4847.875,4876.625],[4977.750,5054.000],[5160.125,5192.625],[5245.650,5285.650],[5256.500,5278.500]],\n",
    "        'RPC_range':[[4876.625,4891.625],[5054.000,5065.250],[5191.375,5206.375],[5285.650,5318.150],[5285.500,5308.000]]\n",
    "})"
   ]
  },
  {
   "cell_type": "code",
   "execution_count": null,
   "metadata": {},
   "outputs": [],
   "source": [
    "Index_use = [0,1,2]"
   ]
  },
  {
   "cell_type": "code",
   "execution_count": null,
   "metadata": {},
   "outputs": [],
   "source": [
    "fig, ax = plt.subplots(1, 1, facecolor='white', figsize=(16,4), dpi=300, tight_layout=True)\n",
    "gs1 = gridspec.GridSpec(1, 1)\n",
    "gs1.update(left=0.05, right=.95, bottom=0.05, top=0.95, hspace=0.0)\n",
    "ax1 = plt.subplot(gs1[0])\n",
    "\n",
    "ax1.plot(lam_gal,Galaxy_info.spectra[:,1000], c='tab:blue', lw=1, alpha=.9)\n",
    "ax1.plot(lam_gal,Bestfitfield[:,11,43], c='tab:red')\n",
    "\n",
    "for i in Index_use:\n",
    "    LHS = Index_Wave.loc[i,'CBP_range'][0]\n",
    "    RHS = Index_Wave.loc[i,'CBP_range'][1]\n",
    "    ax1.fill([LHS,RHS,RHS,LHS], [1000,1000,-10000,-1000], color='tab:gray', alpha=.5)\n",
    "\n",
    "for i in Index_use:\n",
    "    LHS = Index_Wave.loc[i,'BPC_range'][0]\n",
    "    RHS = Index_Wave.loc[i,'BPC_range'][1]\n",
    "    ax1.fill([LHS,RHS,RHS,LHS], [1000,1000,-10000,-1000], color='tab:gray', alpha=.3)\n",
    "for i in Index_use:\n",
    "    LHS = Index_Wave.loc[i,'RPC_range'][0]\n",
    "    RHS = Index_Wave.loc[i,'RPC_range'][1]\n",
    "    ax1.fill([LHS,RHS,RHS,LHS], [1000,1000,-10000,-1000], color='tab:gray', alpha=.3)\n",
    "\n",
    "\n",
    "ax1.xaxis.set_minor_locator(AutoMinorLocator(5))\n",
    "ax1.yaxis.set_minor_locator(AutoMinorLocator(5))\n",
    "ax1.tick_params(axis='both', which='both', labelsize='x-small', right=True, top=True, direction='in')\n",
    "\n",
    "\n",
    "ax1.set_xlabel(r'', size=11)\n",
    "ax1.set_ylabel(r'', size=11)\n",
    "\n",
    "ax1.set_ylim(40,120)\n",
    "# ax1.set_xlim(0,1)\n",
    "ax1.set_xlabel(r'Wave Length $[\\AA]$', size=11)\n",
    "ax1.legend()\n",
    "\n",
    "# plt.savefig('./', format='pdf', bbox_inches='tight')"
   ]
  },
  {
   "cell_type": "markdown",
   "metadata": {},
   "source": [
    "## STF (second time fitting)"
   ]
  },
  {
   "cell_type": "markdown",
   "metadata": {},
   "source": [
    "### STF parameters setting"
   ]
  },
  {
   "cell_type": "code",
   "execution_count": null,
   "metadata": {},
   "outputs": [],
   "source": [
    "lam_range_gal = [np.min(lam_gal), np.max(lam_gal)]\n",
    "gas_templates, gas_names, line_wave = util.emission_lines(sps.ln_lam_temp, lam_range_gal, Galaxy_info.fwhm_gal)"
   ]
  },
  {
   "cell_type": "code",
   "execution_count": null,
   "metadata": {},
   "outputs": [],
   "source": [
    "ngas_comp = 1   # I use three gas kinematic components\n",
    "gas_templates = np.tile(gas_templates, ngas_comp)\n",
    "gas_names = np.asarray([a + f\"_({p+1})\" for p in range(ngas_comp) for a in gas_names])\n",
    "line_wave = np.tile(line_wave, ngas_comp)"
   ]
  },
  {
   "cell_type": "code",
   "execution_count": null,
   "metadata": {},
   "outputs": [],
   "source": [
    "galaxies = np.ndarray(shape= (Galaxy_info.spectra[:,0].shape[0],Galaxy_info.cube.shape[1],Galaxy_info.cube.shape[2]))"
   ]
  },
  {
   "cell_type": "markdown",
   "metadata": {},
   "source": [
    "### Fitting"
   ]
  },
  {
   "cell_type": "code",
   "execution_count": null,
   "metadata": {},
   "outputs": [],
   "source": [
    "Galaxy_info"
   ]
  },
  {
   "cell_type": "code",
   "execution_count": null,
   "metadata": {},
   "outputs": [],
   "source": [
    "PP_box = []\n",
    "for i in tqdm(range(galaxies.shape[1])):\n",
    "    for j in range(galaxies.shape[2]):\n",
    "        galaxy = Galaxy_info.spectra[:,i*max(Galaxy_info.col)+j]\n",
    "        noise = np.ones_like(galaxy)\n",
    "\n",
    "        template = optimal_templates[:,i,j]\n",
    "        stars_gas_templates = np.column_stack([template, gas_templates])\n",
    "\n",
    "        component = [0] + [1]*2\n",
    "        gas_component=np.array(component) > 0\n",
    "        moments = [-2, 2]\n",
    "        ncomp = len(moments)\n",
    "        tied = [['', ''] for _ in range(ncomp)]\n",
    "\n",
    "        start = [[velfield[i,j], sigfield[i,j]],\n",
    "        [velfield[i,j], 50]]\n",
    "\n",
    "        vlim = lambda x: velfield[i,j] + x*np.array([-100, 100])\n",
    "        bounds = [[vlim(2), [20, 300]],\n",
    "                  [vlim(2), [20, 100]]]\n",
    "\n",
    "        pp = ppxf(stars_gas_templates, galaxy, noise, Galaxy_info.velscale, start,\n",
    "            plot=1, moments=moments, degree=8, mdegree=-1, component=component, \n",
    "            gas_component=gas_component, gas_names=gas_names,\n",
    "            lam=lam_gal, lam_temp=sps.lam_temp, tied=tied,\n",
    "            bounds=bounds,\n",
    "            global_search=True)\n",
    "        \n",
    "        PP_box += [pp]"
   ]
  },
  {
   "cell_type": "code",
   "execution_count": null,
   "metadata": {},
   "outputs": [],
   "source": [
    "def CK_SpFT(I_index, J_index):\n",
    "    K_index = I_index*max(Galaxy_info.col)+J_index\n",
    "\n",
    "    fig, ax = plt.subplots(1, 1, facecolor='white', figsize=(16,12), dpi=300, tight_layout=True)\n",
    "    gs1 = gridspec.GridSpec(1, 1)\n",
    "    gs1.update(left=0.05, right=.95, bottom=0.65, top=0.95, hspace=0.0)\n",
    "    ax1 = plt.subplot(gs1[0])\n",
    "\n",
    "    gs2 = gridspec.GridSpec(1, 1)\n",
    "    gs2.update(left=0.05, right=.95, bottom=0.35, top=0.65, hspace=0.0)\n",
    "    ax2 = plt.subplot(gs2[0])\n",
    "\n",
    "    gs3 = gridspec.GridSpec(1, 1)\n",
    "    gs3.update(left=0.05, right=.95, bottom=0.05, top=0.35, hspace=0.0)\n",
    "    ax3 = plt.subplot(gs3[0])\n",
    "\n",
    "\n",
    "# -------------------------------------------------------------------------------------------------------------------------------------\n",
    "\n",
    "    ax1.plot(lam_gal,Galaxy_info.spectra[:,K_index], c='tab:blue', lw=1, alpha=.9, label=galaxy_name+'\\npixel:[{:},{:}]'.format(I_index, J_index))\n",
    "    ax1.plot(lam_gal,Bestfitfield[:,I_index,J_index], '--', c='tab:red', alpha=.9)\n",
    "\n",
    "    for i in Index_use:\n",
    "        LHS = Index_Wave.loc[i,'CBP_range'][0]\n",
    "        RHS = Index_Wave.loc[i,'CBP_range'][1]\n",
    "        ax1.fill([LHS,RHS,RHS,LHS], [1000,1000,-10000,-1000], color='tab:gray', alpha=.5, zorder = 0)\n",
    "        ax2.fill([LHS,RHS,RHS,LHS], [1000,1000,-10000,-1000], color='tab:gray', alpha=.5, zorder = 0)\n",
    "        ax3.fill([LHS,RHS,RHS,LHS], [1000,1000,-10000,-1000], color='tab:gray', alpha=.5, zorder = 0)\n",
    "\n",
    "    for i in Index_use:\n",
    "        LHS = Index_Wave.loc[i,'BPC_range'][0]\n",
    "        RHS = Index_Wave.loc[i,'BPC_range'][1]\n",
    "        ax1.fill([LHS,RHS,RHS,LHS], [1000,1000,-10000,-1000], color='tab:gray', alpha=.3, zorder = 0)\n",
    "        ax2.fill([LHS,RHS,RHS,LHS], [1000,1000,-10000,-1000], color='tab:gray', alpha=.3, zorder = 0)\n",
    "        ax3.fill([LHS,RHS,RHS,LHS], [1000,1000,-10000,-1000], color='tab:gray', alpha=.3, zorder = 0)\n",
    "    for i in Index_use:\n",
    "        LHS = Index_Wave.loc[i,'RPC_range'][0]\n",
    "        RHS = Index_Wave.loc[i,'RPC_range'][1]\n",
    "        ax1.fill([LHS,RHS,RHS,LHS], [1000,1000,-10000,-1000], color='tab:gray', alpha=.3, zorder = 0)\n",
    "        ax2.fill([LHS,RHS,RHS,LHS], [1000,1000,-10000,-1000], color='tab:gray', alpha=.3, zorder = 0)\n",
    "        ax3.fill([LHS,RHS,RHS,LHS], [1000,1000,-10000,-1000], color='tab:gray', alpha=.3, zorder = 0)\n",
    "\n",
    "    for i in [0]:\n",
    "        ax1.plot(lam_gal, PP_box[K_index].gas_bestfit_templates[:,i], color='tab:orange', zorder = 1, alpha=.9)\n",
    "\n",
    "    for i in [1]:\n",
    "        ax1.plot(lam_gal, PP_box[K_index].gas_bestfit_templates[:,i], color='tab:purple', zorder = 1, alpha=.9)\n",
    "\n",
    "    ax1.plot(lam_gal,PP_box[K_index].bestfit, '-', lw=.7, c='tab:red')\n",
    "\n",
    "\n",
    "# -------------------------------------------------------------------------------------------------------------------------------------\n",
    "\n",
    "    ax2.plot(lam_gal, np.zeros(lam_gal.shape), '-', color='k', lw=.7, alpha=.9, zorder = 0)\n",
    "    ax2.plot(lam_gal, [np.median(Galaxy_info.spectra[:,K_index]-PP_box[K_index].bestfit)]*lam_gal.shape[0], '--', color='tab:blue', lw=1, alpha=.9, zorder = 1)\n",
    "    MPSig = np.median(Galaxy_info.spectra[:,K_index]-PP_box[K_index].bestfit) + np.std(Galaxy_info.spectra[:,K_index]-PP_box[K_index].bestfit)\n",
    "    MMSig = np.median(Galaxy_info.spectra[:,K_index]-PP_box[K_index].bestfit) - np.std(Galaxy_info.spectra[:,K_index]-PP_box[K_index].bestfit)\n",
    "    ax2.fill([min(lam_gal), max(lam_gal), max(lam_gal), min(lam_gal)], [MPSig, MPSig, MMSig, MMSig], color='tab:gray', alpha=.2,\n",
    "             label=r'Raange:{:1.3f}$\\pm${:1.3f}'.format(np.median(Galaxy_info.spectra[:,K_index]-PP_box[K_index].bestfit), np.std(Galaxy_info.spectra[:,K_index]-PP_box[K_index].bestfit)), zorder=1)\n",
    "    ax2.plot(lam_gal, Galaxy_info.spectra[:,K_index]-PP_box[K_index].bestfit, '+', ms=2, mew=3, color='tab:green', alpha=.9, zorder=2)\n",
    "\n",
    "# -------------------------------------------------------------------------------------------------------------------------------------\n",
    "\n",
    "    ax3.plot(lam_gal, Galaxy_info.spectra[:,K_index]-Bestfitfield[:,I_index,J_index], '+', ms=2, mew=3, color='tab:green', alpha=.9, zorder=2)\n",
    "    for i in [0]:\n",
    "        ax3.plot(lam_gal, PP_box[K_index].gas_bestfit_templates[:,i], color='tab:orange', zorder = 2, alpha=.9)\n",
    "    for i in [1]:\n",
    "        ax3.plot(lam_gal, PP_box[K_index].gas_bestfit_templates[:,i], color='tab:purple', zorder = 2, alpha=.9)\n",
    "    \n",
    "    ax3.plot(lam_gal, PP_box[K_index].gas_bestfit_templates[:,0]+PP_box[K_index].gas_bestfit_templates[:,1, ], lw=.7, color='tab:red', zorder = 2, alpha=.9)\n",
    "\n",
    "\n",
    "# -------------------------------------------------------------------------------------------------------------------------------------\n",
    "\n",
    "\n",
    "    ax1.xaxis.set_minor_locator(AutoMinorLocator(5))\n",
    "    ax1.yaxis.set_minor_locator(AutoMinorLocator(5))\n",
    "    ax1.tick_params(axis='both', which='both', labelsize='x-small', right=True, top=True, direction='in')\n",
    "    ax2.xaxis.set_minor_locator(AutoMinorLocator(5))\n",
    "    ax2.yaxis.set_minor_locator(AutoMinorLocator(5))\n",
    "    ax2.tick_params(axis='both', which='both', labelsize='x-small', right=True, top=True, direction='in')\n",
    "    ax3.xaxis.set_minor_locator(AutoMinorLocator(5))\n",
    "    ax3.yaxis.set_minor_locator(AutoMinorLocator(5))\n",
    "    ax3.tick_params(axis='both', which='both', labelsize='x-small', right=True, top=True, direction='in')\n",
    "    \n",
    "\n",
    "    ax1.set_xlim(min(lam_gal), max(lam_gal))\n",
    "    ax2.set_xlim(min(lam_gal), max(lam_gal))\n",
    "    ax3.set_xlim(min(lam_gal), max(lam_gal))\n",
    "    ax1.set_ylim(0,max(Galaxy_info.spectra[:,K_index])*1.1)\n",
    "    ax2.set_ylim(min(Galaxy_info.spectra[:,K_index]-PP_box[K_index].bestfit)*1.2, max(Galaxy_info.spectra[:,K_index]-PP_box[K_index].bestfit)*1.2)\n",
    "    ax3.set_ylim(min(Galaxy_info.spectra[:,K_index]-Bestfitfield[:,I_index,J_index])*1.2, max(Galaxy_info.spectra[:,K_index]-Bestfitfield[:,I_index,J_index])*1.2)\n",
    "\n",
    "    ax3.set_xlabel(r'Wave Length $[\\AA]$', size=11)\n",
    "    \n",
    "    ax1.legend()\n",
    "    ax2.legend()\n",
    "    # ax3.legend()\n",
    "\n",
    "    plt.savefig('./../FitPlot/Fit_02[24Oct22][VCC1588FullFit]/'+galaxy_name+'Fig[{:}]{:}-{:}.pdf'.format(K_index,I_index,J_index), format='pdf', bbox_inches='tight')\n",
    "    plt.clf()\n",
    "    plt.close()\n",
    "\n",
    "    PP_box[K_index] = []"
   ]
  },
  {
   "cell_type": "markdown",
   "metadata": {},
   "source": [
    "## Fit spectrum plot"
   ]
  },
  {
   "cell_type": "code",
   "execution_count": null,
   "metadata": {},
   "outputs": [],
   "source": [
    "# for i in tqdm(range(galaxies.shape[1])):\n",
    "#     for j in range(galaxies.shape[2]):\n",
    "#         CK_SpFT(i,j)"
   ]
  },
  {
   "cell_type": "markdown",
   "metadata": {},
   "source": [
    "# Spectrum Index"
   ]
  },
  {
   "cell_type": "code",
   "execution_count": null,
   "metadata": {},
   "outputs": [],
   "source": [
    "H_Beta_map = np.ndarray(shape=Galaxy_info.cube.shape[1:3])\n",
    "Fe_5015_map = np.ndarray(shape=Galaxy_info.cube.shape[1:3])\n",
    "Mg_b_map = np.ndarray(shape=Galaxy_info.cube.shape[1:3])"
   ]
  },
  {
   "cell_type": "code",
   "execution_count": null,
   "metadata": {},
   "outputs": [],
   "source": [
    "LP = np.mean([Index_Wave.loc[0,'BPC_range'][0],Index_Wave.loc[0,'BPC_range'][1]])\n",
    "RP = np.mean([Index_Wave.loc[0,'RPC_range'][0],Index_Wave.loc[0,'RPC_range'][1]])"
   ]
  },
  {
   "cell_type": "code",
   "execution_count": null,
   "metadata": {},
   "outputs": [],
   "source": [
    "x_wave = np.ndarray(shape=(len(lam_gal[ np.where((lam_gal>LP) & (lam_gal<RP)) ]),Galaxy_info.cube.shape[1],Galaxy_info.cube.shape[2]))\n",
    "y_spectrum = np.ndarray(shape=(len(lam_gal[ np.where((lam_gal>LP) & (lam_gal<RP)) ]),Galaxy_info.cube.shape[1],Galaxy_info.cube.shape[2]))\n",
    "y_SL = np.ndarray(shape=(len(lam_gal[ np.where((lam_gal>LP) & (lam_gal<RP)) ]),Galaxy_info.cube.shape[1],Galaxy_info.cube.shape[2]))"
   ]
  },
  {
   "cell_type": "code",
   "execution_count": null,
   "metadata": {},
   "outputs": [],
   "source": [
    "for i in tqdm(range(galaxies.shape[1])):\n",
    "    for j in range(galaxies.shape[2]):\n",
    "        \n",
    "        K_index = i*max(Galaxy_info.col)+j\n",
    "        spectrum_fit_NEL = PP_box[K_index].bestfit\n",
    "        for k in [0,1]:\n",
    "            spectrum_fit_NEL = spectrum_fit_NEL - PP_box[K_index].gas_bestfit_templates[:,k]\n",
    "\n",
    "\n",
    "        LP = np.mean([Index_Wave.loc[0,'BPC_range'][0],Index_Wave.loc[0,'BPC_range'][1]])\n",
    "        RP = np.mean([Index_Wave.loc[0,'RPC_range'][0],Index_Wave.loc[0,'RPC_range'][1]])\n",
    "        LCB = Index_Wave.loc[0,'CBP_range'][0]\n",
    "        RCB = Index_Wave.loc[0,'CBP_range'][1]\n",
    "        LPV = np.mean(spectrum_fit_NEL[ np.where((lam_gal>Index_Wave.loc[0,'BPC_range'][0]) & (lam_gal<Index_Wave.loc[0,'BPC_range'][1])) ])\n",
    "        RPV = np.mean(spectrum_fit_NEL[ np.where((lam_gal>Index_Wave.loc[0,'RPC_range'][0]) & (lam_gal<Index_Wave.loc[0,'RPC_range'][1])) ])\n",
    "\n",
    "        # H_Beta_map[i,j] = np.trapz(Bestfitfield[:,i,j][ np.where((lam_gal>LP) & (lam_gal<RP)) ], lam_gal[ np.where((lam_gal>LP) & (lam_gal<RP)) ]) - np.trapz([LPV,RPV],[LP,RP])\n",
    "\n",
    "        x_wave[:,i,j] = lam_gal[ np.where((lam_gal>LP) & (lam_gal<RP)) ]\n",
    "        y_spectrum[:,i,j] = spectrum_fit_NEL[ np.where((lam_gal>LP) & (lam_gal<RP)) ]\n",
    "        y_SL[:,i,j] = x_wave[:,i,j] * ((RPV-LPV)/(RP-LP)) - LP * ((RPV-LPV)/(RP-LP)) + LPV\n",
    "\n",
    "        NS = y_SL[:,i,j] - y_spectrum[:,i,j]\n",
    "        for k in range(len(y_SL[:,i,j])):\n",
    "            NS[k] = (NS[k]/y_SL[k,i,j])\n",
    "\n",
    "        H_Beta_map[i,j] = np.trapz(NS, x_wave[:,i,j])"
   ]
  },
  {
   "cell_type": "code",
   "execution_count": null,
   "metadata": {},
   "outputs": [],
   "source": []
  },
  {
   "cell_type": "code",
   "execution_count": null,
   "metadata": {},
   "outputs": [],
   "source": []
  },
  {
   "cell_type": "code",
   "execution_count": null,
   "metadata": {},
   "outputs": [],
   "source": []
  }
 ],
 "metadata": {
  "kernelspec": {
   "display_name": "Ast_Base",
   "language": "python",
   "name": "python3"
  },
  "language_info": {
   "codemirror_mode": {
    "name": "ipython",
    "version": 3
   },
   "file_extension": ".py",
   "mimetype": "text/x-python",
   "name": "python",
   "nbconvert_exporter": "python",
   "pygments_lexer": "ipython3",
   "version": "3.8.19"
  }
 },
 "nbformat": 4,
 "nbformat_minor": 2
}
