{
 "cells": [
  {
   "cell_type": "code",
   "execution_count": 152,
   "metadata": {},
   "outputs": [],
   "source": [
    "import numpy as np\n",
    "\n",
    "import matplotlib as mpl\n",
    "import matplotlib\n",
    "matplotlib.use('agg')\n",
    "# matplotlib.use('TkAgg')\n",
    "# matplotlib.use('qtagg')\n",
    "import matplotlib.pyplot as plt\n",
    "import matplotlib.gridspec as gridspec\n",
    "from matplotlib.pyplot import *\n",
    "from matplotlib.ticker import (MultipleLocator, FormatStrFormatter,\n",
    "                               AutoMinorLocator)\n",
    "from math import *\n",
    "#import pandas as pd\n",
    "\n",
    "from scipy import interpolate\n",
    "from scipy.optimize import curve_fit \n",
    "\n",
    "from astropy.io import fits\n",
    "from astropy.table import Table\n",
    "from astropy.table import vstack\n",
    "from astropy.coordinates import SkyCoord, ICRS, Galactic\n",
    "# import astropy.units as u\n",
    "import astropy.units as units\n",
    "import astropy.coordinates as coord\n",
    "#from matplotlib.colors import LogNorm\n",
    "\n",
    "# from mpl_toolkits.axes_grid1 import make_axes_locatable\n",
    "# #import matplotlib.ticker as mtick\n",
    "\n",
    "\n",
    "import os\n",
    "#%matplotlib widget\n",
    "import seaborn as sns\n",
    "import os, sys\n",
    "\n",
    "\n",
    "# from astropy.io import ascii\n",
    "# from astropy.coordinates import galactocentric_frame_defaults\n",
    "\n",
    "import sklearn\n",
    "import pandas as pd\n",
    "from sklearn.neighbors import KNeighborsClassifier\n",
    "\n",
    "from scipy import interpolate\n",
    "\n",
    "import random\n",
    "from scipy import integrate\n",
    "\n",
    "\n",
    "gcolor = ['c','blue','g','r','orange', 'green','cyan']"
   ]
  },
  {
   "cell_type": "code",
   "execution_count": 153,
   "metadata": {},
   "outputs": [],
   "source": [
    "import ppxf as ppxf_package\n",
    "from ppxf.ppxf import ppxf\n",
    "import ppxf.ppxf_util as util\n",
    "import ppxf.sps_util as lib\n",
    "import sys,glob\n",
    "from pathlib import Path\n",
    "\n",
    "from ppxf.ppxf import ppxf, robust_sigma\n",
    "\n",
    "from vorbin.voronoi_2d_binning import voronoi_2d_binning\n",
    "from plotbin.display_bins import display_bins\n",
    "\n",
    "from tqdm import tqdm "
   ]
  },
  {
   "cell_type": "code",
   "execution_count": 154,
   "metadata": {},
   "outputs": [],
   "source": [
    "# from spectres.spectral_resampling import spectres"
   ]
  },
  {
   "cell_type": "code",
   "execution_count": 155,
   "metadata": {},
   "outputs": [],
   "source": [
    "def make_bins(wavs):\n",
    "    \"\"\" Given a series of wavelength points, find the edges and widths\n",
    "    of corresponding wavelength bins. \"\"\"\n",
    "    edges = np.zeros(wavs.shape[0]+1)\n",
    "    widths = np.zeros(wavs.shape[0])\n",
    "    edges[0] = wavs[0] - (wavs[1] - wavs[0])/2\n",
    "    widths[-1] = (wavs[-1] - wavs[-2])\n",
    "    edges[-1] = wavs[-1] + (wavs[-1] - wavs[-2])/2\n",
    "    edges[1:-1] = (wavs[1:] + wavs[:-1])/2\n",
    "    widths[:-1] = edges[1:-1] - edges[:-2]\n",
    "\n",
    "    return edges, widths"
   ]
  },
  {
   "cell_type": "code",
   "execution_count": 156,
   "metadata": {},
   "outputs": [],
   "source": [
    "def spectres(new_wavs, spec_wavs, spec_fluxes, spec_errs=None, fill=None,\n",
    "             verbose=True):\n",
    "\n",
    "    \"\"\"\n",
    "    Function for resampling spectra (and optionally associated\n",
    "    uncertainties) onto a new wavelength basis.\n",
    "\n",
    "    Parameters\n",
    "    ----------\n",
    "\n",
    "    new_wavs : numpy.ndarray\n",
    "        Array containing the new wavelength sampling desired for the\n",
    "        spectrum or spectra.\n",
    "\n",
    "    spec_wavs : numpy.ndarray\n",
    "        1D array containing the current wavelength sampling of the\n",
    "        spectrum or spectra.\n",
    "\n",
    "    spec_fluxes : numpy.ndarray\n",
    "        Array containing spectral fluxes at the wavelengths specified in\n",
    "        spec_wavs, last dimension must correspond to the shape of\n",
    "        spec_wavs. Extra dimensions before this may be used to include\n",
    "        multiple spectra.\n",
    "\n",
    "    spec_errs : numpy.ndarray (optional)\n",
    "        Array of the same shape as spec_fluxes containing uncertainties\n",
    "        associated with each spectral flux value.\n",
    "\n",
    "    fill : float (optional)\n",
    "        Where new_wavs extends outside the wavelength range in spec_wavs\n",
    "        this value will be used as a filler in new_fluxes and new_errs.\n",
    "\n",
    "    verbose : bool (optional)\n",
    "        Setting verbose to False will suppress the default warning about\n",
    "        new_wavs extending outside spec_wavs and \"fill\" being used.\n",
    "\n",
    "    Returns\n",
    "    -------\n",
    "\n",
    "    new_fluxes : numpy.ndarray\n",
    "        Array of resampled flux values, first dimension is the same\n",
    "        length as new_wavs, other dimensions are the same as\n",
    "        spec_fluxes.\n",
    "\n",
    "    new_errs : numpy.ndarray\n",
    "        Array of uncertainties associated with fluxes in new_fluxes.\n",
    "        Only returned if spec_errs was specified.\n",
    "    \"\"\"\n",
    "\n",
    "    # Rename the input variables for clarity within the function.\n",
    "    old_wavs = spec_wavs\n",
    "    old_fluxes = spec_fluxes\n",
    "    old_errs = spec_errs\n",
    "\n",
    "    # Make arrays of edge positions and widths for the old and new bins\n",
    "\n",
    "    old_edges, old_widths = make_bins(old_wavs)\n",
    "    new_edges, new_widths = make_bins(new_wavs)\n",
    "\n",
    "    # Generate output arrays to be populated\n",
    "    new_fluxes = np.zeros(old_fluxes[..., 0].shape + new_wavs.shape)\n",
    "\n",
    "    if old_errs is not None:\n",
    "        if old_errs.shape != old_fluxes.shape:\n",
    "            raise ValueError(\"If specified, spec_errs must be the same shape \"\n",
    "                             \"as spec_fluxes.\")\n",
    "        else:\n",
    "            new_errs = np.copy(new_fluxes)\n",
    "\n",
    "    start = 0\n",
    "    stop = 0\n",
    "\n",
    "    # Calculate new flux and uncertainty values, looping over new bins\n",
    "    for j in range(new_wavs.shape[0]):\n",
    "\n",
    "        # Add filler values if new_wavs extends outside of spec_wavs\n",
    "        if (new_edges[j] < old_edges[0]) or (new_edges[j+1] > old_edges[-1]):\n",
    "            new_fluxes[..., j] = fill\n",
    "\n",
    "            if spec_errs is not None:\n",
    "                new_errs[..., j] = fill\n",
    "\n",
    "            # if (j == 0 or j == new_wavs.shape[0]-1) and verbose:\n",
    "            #     warnings.warn(\n",
    "            #         \"Spectres: new_wavs contains values outside the range \"\n",
    "            #         \"in spec_wavs, new_fluxes and new_errs will be filled \"\n",
    "            #         \"with the value set in the 'fill' keyword argument \"\n",
    "            #         \"(by default 0).\",\n",
    "            #         category=RuntimeWarning,\n",
    "            #     )\n",
    "            continue\n",
    "\n",
    "        # Find first old bin which is partially covered by the new bin\n",
    "        while old_edges[start+1] <= new_edges[j]:\n",
    "            start += 1\n",
    "\n",
    "        # Find last old bin which is partially covered by the new bin\n",
    "        while old_edges[stop+1] < new_edges[j+1]:\n",
    "            stop += 1\n",
    "\n",
    "        # If new bin is fully inside an old bin start and stop are equal\n",
    "        if stop == start:\n",
    "            new_fluxes[..., j] = old_fluxes[..., start]\n",
    "            if old_errs is not None:\n",
    "                new_errs[..., j] = old_errs[..., start]\n",
    "\n",
    "        # Otherwise multiply the first and last old bin widths by P_ij\n",
    "        else:\n",
    "            start_factor = ((old_edges[start+1] - new_edges[j])\n",
    "                            / (old_edges[start+1] - old_edges[start]))\n",
    "\n",
    "            end_factor = ((new_edges[j+1] - old_edges[stop])\n",
    "                          / (old_edges[stop+1] - old_edges[stop]))\n",
    "\n",
    "            old_widths[start] *= start_factor\n",
    "            old_widths[stop] *= end_factor\n",
    "\n",
    "            # Populate new_fluxes spectrum and uncertainty arrays\n",
    "            f_widths = old_widths[start:stop+1]*old_fluxes[..., start:stop+1]\n",
    "            new_fluxes[..., j] = np.sum(f_widths, axis=-1)\n",
    "            new_fluxes[..., j] /= np.sum(old_widths[start:stop+1])\n",
    "\n",
    "            if old_errs is not None:\n",
    "                e_wid = old_widths[start:stop+1]*old_errs[..., start:stop+1]\n",
    "\n",
    "                new_errs[..., j] = np.sqrt(np.sum(e_wid**2, axis=-1))\n",
    "                new_errs[..., j] /= np.sum(old_widths[start:stop+1])\n",
    "\n",
    "            # Put back the old bin widths to their initial values\n",
    "            old_widths[start] /= start_factor\n",
    "            old_widths[stop] /= end_factor\n",
    "\n",
    "    # If errors were supplied return both new_fluxes and new_errs.\n",
    "    if old_errs is not None:\n",
    "        return new_fluxes, new_errs\n",
    "\n",
    "    # Otherwise just return the new_fluxes spectrum array\n",
    "    else:\n",
    "        return new_fluxes"
   ]
  },
  {
   "cell_type": "code",
   "execution_count": 157,
   "metadata": {},
   "outputs": [],
   "source": [
    "# import spectres.spectral_resampling"
   ]
  },
  {
   "cell_type": "code",
   "execution_count": 158,
   "metadata": {},
   "outputs": [],
   "source": [
    "# from spectres import spectres"
   ]
  },
  {
   "cell_type": "code",
   "execution_count": 159,
   "metadata": {},
   "outputs": [],
   "source": [
    "def TB_reindex(TB_now):\n",
    "    TB_now = TB_now.reset_index()\n",
    "    TB_now = TB_now.drop(columns='index')\n",
    "    return TB_now"
   ]
  },
  {
   "cell_type": "markdown",
   "metadata": {},
   "source": [
    "# Global Setting"
   ]
  },
  {
   "cell_type": "markdown",
   "metadata": {},
   "source": [
    "## Galaxy information"
   ]
  },
  {
   "cell_type": "code",
   "execution_count": 160,
   "metadata": {},
   "outputs": [],
   "source": [
    "c = 299792.458  # spped of light [km/s]\n",
    "\n",
    "galaxy_name = 'VCC_1588'\n",
    "spectrum_filename = 'VCC1588_stack.fits'\n",
    "spectrum_z = 0.0042"
   ]
  },
  {
   "cell_type": "markdown",
   "metadata": {},
   "source": [
    "## basic fitting parameters"
   ]
  },
  {
   "cell_type": "code",
   "execution_count": 161,
   "metadata": {},
   "outputs": [],
   "source": [
    "lam_range_temp = [4800, 5230]\n",
    "redshift = spectrum_z           # redshift from\n",
    "objfile = Path('./../Ori_Data/'+spectrum_filename)"
   ]
  },
  {
   "cell_type": "code",
   "execution_count": 162,
   "metadata": {},
   "outputs": [],
   "source": [
    "# templates\n",
    "\n",
    "sps_name = 'emiles'\n",
    "ppxf_dir = Path(lib.__file__).parent\n",
    "basename = f\"spectra_{sps_name}_9.0.npz\"\n",
    "filename = ppxf_dir / 'sps_models' / basename"
   ]
  },
  {
   "cell_type": "code",
   "execution_count": 163,
   "metadata": {},
   "outputs": [],
   "source": [
    "# vel_s = c * spectrum_z\n",
    "vel_s = 0\n",
    "vel_dis_s = 40 # Set the dis v = 40 km/s"
   ]
  },
  {
   "cell_type": "markdown",
   "metadata": {},
   "source": [
    "# Data Input"
   ]
  },
  {
   "cell_type": "code",
   "execution_count": 164,
   "metadata": {},
   "outputs": [],
   "source": [
    "## Code from example\n",
    "\n",
    "class read_data_cube:\n",
    "    def __init__(self, filename, lam_range, redshift):\n",
    "        \"\"\"Read data cube, de-redshift, log rebin and compute coordinates of each spaxel.\"\"\"\n",
    "\n",
    "        self.read_fits_file(filename)\n",
    "\n",
    "        # Only use the specified rest-frame wavelength range\n",
    "        wave = self.wave/(1 + redshift)      # de-redshift the spectrum\n",
    "        w = (wave > lam_range[0]) & (wave < lam_range[1])\n",
    "        wave = wave[w]\n",
    "        cube = self.cube[w, ...]\n",
    "        cubevar = self.cubevar[w, ...]\n",
    "\n",
    "        signal = np.nanmedian(cube, 0)\n",
    "        noise = np.sqrt(np.nanmedian(cubevar, 0))\n",
    "\n",
    "        # Create coordinates centred on the brightest spaxel\n",
    "        jm = np.argmax(signal)\n",
    "        row, col = map(np.ravel, np.indices(cube.shape[-2:]))\n",
    "        x = (col - col[jm])*self.pixsize_x\n",
    "        y = (row - row[jm])*self.pixsize_y\n",
    "\n",
    "        # Transform cube into 2-dim array of spectra\n",
    "        npix = cube.shape[0]\n",
    "        spectra = cube.reshape(npix, -1)        # create array of spectra [npix, nx*ny]\n",
    "        variance = cubevar.reshape(npix, -1)    # create array of variance [npix, nx*ny]\n",
    "\n",
    "        c = 299792.458  # speed of light in km/s\n",
    "        velscale = np.min(c*np.diff(np.log(wave)))  # Preserve smallest velocity step\n",
    "        lam_range_temp = [np.min(wave), np.max(wave)]\n",
    "        spectra, ln_lam_gal, velscale = util.log_rebin(lam_range_temp, spectra, velscale=velscale)\n",
    "\n",
    "        # Coordinates and spectra only for spaxels with enough signal\n",
    "        self.spectra = spectra\n",
    "        self.variance = variance\n",
    "        self.x = x\n",
    "        self.y = y\n",
    "        self.signal = signal.ravel()\n",
    "        self.noise = noise.ravel()\n",
    "\n",
    "        self.col = col + 1   # start counting from 1\n",
    "        self.row = row + 1\n",
    "        self.velscale = velscale\n",
    "        self.ln_lam_gal = ln_lam_gal\n",
    "        self.fwhm_gal = self.fwhm_gal/(1 + redshift)\n",
    "\n",
    "        self.velfield = np.ndarray(shape=self.cube.shape[1:3])\n",
    "        self.sigfield = np.ndarray(shape=self.cube.shape[1:3])\n",
    "\n",
    "        # self.CD1_1 = self.CD1_1\n",
    "        # self.CD1_2 = self.CD1_2\n",
    "        # self.CD2_1 = self.CD2_1\n",
    "        # self.CD2_2 = self.CD2_2\n",
    "        # self.CRVAL1 = self.CRVAL1\n",
    "        # self.CRVAL2 = self.CRVAL2\n",
    "\n",
    "###############################################################################\n",
    "\n",
    "    def read_fits_file(self, filename):\n",
    "        \"\"\"\n",
    "        Read MUSE cube, noise, wavelength, spectral FWHM and pixel size.\n",
    "\n",
    "        It must return the cube and cuberr as (npix, nx, ny) and wave as (npix,)\n",
    "\n",
    "        IMPORTANT: This is not a general function! Its details depend on the\n",
    "        way the data were stored in the FITS file and the available keywords in\n",
    "        the FITS header. One may have to adapt the function to properly read\n",
    "        the FITS file under analysis.                \n",
    "        \"\"\"\n",
    "\n",
    "        Cut_LHS = 1\n",
    "        Cut_RHS = 1\n",
    "\n",
    "        hdu = fits.open(filename)\n",
    "        head = hdu[0].header\n",
    "        cube = hdu[0].data[Cut_LHS:-Cut_RHS,:,:] * (10 ** 18)\n",
    "        # cube = hdu[0].data[Cut_LHS:-Cut_RHS,:,:]\n",
    "        # cube = hdu[0].data * (10 ** 18)\n",
    "        cubevar = np.empty_like(cube)  # This file contains no errors\n",
    "\n",
    "        # Only use the specified rest-frame wavelength range\n",
    "        wave = head['CRVAL3'] + head['CD3_3']*np.arange(cube.shape[0]) + head['CD3_3']*Cut_LHS\n",
    "\n",
    "        self.cube = cube\n",
    "        self.cubevar = cubevar\n",
    "        self.wave = wave\n",
    "        \n",
    "        # self.fwhm_gal = 2.62  # Median FWHM = 2.62Å. Range: 2.51--2.88 (ESO instrument manual). \n",
    "        self.fwhm_gal = 1\n",
    "        # self.pixsize = abs(head[\"CDELT1\"])*3600    # 0.2\"\n",
    "        self.pixsize_x = abs(np.sqrt((head['CD1_1'])**2+(head['CD2_1'])**2))*3600\n",
    "        self.pixsize_y = abs(np.sqrt((head['CD1_2'])**2+(head['CD2_2'])**2))*3600\n",
    "\n",
    "        self.CD1_1 = head['CD1_1']\n",
    "        self.CD1_2 = head['CD1_2']\n",
    "        self.CD2_1 = head['CD2_1']\n",
    "        self.CD2_2 = head['CD2_2']\n",
    "        self.CRVAL1 = head['CRVAL1']\n",
    "        self.CRVAL2 = head['CRVAL2']"
   ]
  },
  {
   "cell_type": "code",
   "execution_count": 165,
   "metadata": {},
   "outputs": [],
   "source": [
    "Galaxy_info = read_data_cube(objfile, lam_range_temp, redshift)"
   ]
  },
  {
   "cell_type": "markdown",
   "metadata": {},
   "source": [
    "# Devide Voronoi bin"
   ]
  },
  {
   "cell_type": "markdown",
   "metadata": {},
   "source": [
    "## Parameters pre-set"
   ]
  },
  {
   "cell_type": "code",
   "execution_count": 166,
   "metadata": {},
   "outputs": [],
   "source": [
    "FWHM_gal = None   # set this to None to skip templates broadening\n",
    "sps = lib.sps_lib(filename, Galaxy_info.velscale, FWHM_gal, norm_range=[4827.875, 5206.375])\n",
    "# sps = lib.sps_lib(filename, Galaxy_info.velscale, FWHM_gal)"
   ]
  },
  {
   "cell_type": "code",
   "execution_count": 167,
   "metadata": {},
   "outputs": [],
   "source": [
    "npix, *reg_dim = sps.templates.shape\n",
    "sps.templates = sps.templates.reshape(npix, -1)\n",
    "sps.templates /= np.median(sps.templates) # Normalizes stellar templates by a scalar\n",
    "regul_err = 0.01 # Desired regularization error\n",
    "\n",
    "lam_range_temp = np.exp(sps.ln_lam_temp[[0, -1]])\n",
    "mask0 = util.determine_mask(Galaxy_info.ln_lam_gal, lam_range_temp, width=1000)\n",
    "# nbins = np.unique(bin_num).size\n",
    "# velbin, sigbin, lg_age_bin, metalbin, nspax = np.zeros((5, nbins))\n",
    "# optimal_templates = np.empty((npix, nbins))\n",
    "lam_gal = np.exp(Galaxy_info.ln_lam_gal)"
   ]
  },
  {
   "cell_type": "markdown",
   "metadata": {},
   "source": [
    "## SNR calculate"
   ]
  },
  {
   "cell_type": "code",
   "execution_count": 168,
   "metadata": {},
   "outputs": [],
   "source": [
    "SNR_map = np.ndarray(shape=Galaxy_info.cube.shape[1:3])"
   ]
  },
  {
   "cell_type": "code",
   "execution_count": 169,
   "metadata": {},
   "outputs": [],
   "source": [
    "Galaxy_P2P = pd.read_csv('./../FitData/Fit_DS_20[25Feb05][VCC1588]/'+galaxy_name+'_P2P_SFR.csv')\n",
    "Galaxy_P2P['Index'] = Galaxy_P2P.index"
   ]
  },
  {
   "cell_type": "code",
   "execution_count": 170,
   "metadata": {},
   "outputs": [],
   "source": [
    "for Index_num in range(len(Galaxy_P2P)):\n",
    "        POS_NL = (Galaxy_P2P.loc[Index_num,['K_index']])[0].replace('\\n', '').replace('[', '').replace(']', '').split()\n",
    "        for i in range(len(POS_NL)):\n",
    "                POS_NL[i] = int(POS_NL[i])\n",
    "        for k_index in POS_NL:\n",
    "                i = int(k_index/max(Galaxy_info.col))\n",
    "                j = k_index%max(Galaxy_info.col)\n",
    "\n",
    "                SNR_map[i,j] = Galaxy_P2P.loc[Index_num,'SNR']"
   ]
  },
  {
   "cell_type": "code",
   "execution_count": 171,
   "metadata": {},
   "outputs": [],
   "source": [
    "# def Calculater(i,j):\n",
    "#     K_index = i*max(Galaxy_info.col)+j\n",
    "#     sp = Galaxy_info.spectra[:,K_index]\n",
    "#     # x_wave = Galaxy_info.wave\n",
    "#     sp_cal = sp[ np.where( (lam_gal>5075) & (lam_gal<5125) ) ]\n",
    "#     # sp_cal = sp[ np.where( (x_wave>5075) & (x_wave<5125) ) ]\n",
    "    \n",
    "#     return (np.median(sp)/(np.std(sp)))"
   ]
  },
  {
   "cell_type": "code",
   "execution_count": 172,
   "metadata": {},
   "outputs": [],
   "source": [
    "# for i in tqdm(range(Galaxy_info.cube.shape[1])):\n",
    "#     for j in range(Galaxy_info.cube.shape[2]):\n",
    "#         SNR_map[i,j] = Calculater(i,j)"
   ]
  },
  {
   "cell_type": "markdown",
   "metadata": {},
   "source": [
    "## Bining"
   ]
  },
  {
   "cell_type": "code",
   "execution_count": 173,
   "metadata": {},
   "outputs": [],
   "source": [
    "signal = np.median(Galaxy_info.spectra[ np.where((lam_gal>5075) & (lam_gal<5125)) ] , 0)\n",
    "noise = np.std( Galaxy_info.spectra[ np.where((lam_gal>5075) & (lam_gal<5125)) ], 0)\n",
    "target_sn = 20"
   ]
  },
  {
   "cell_type": "code",
   "execution_count": 174,
   "metadata": {},
   "outputs": [],
   "source": [
    "for Index_num in range(len(Galaxy_P2P)):\n",
    "        POS_NL = (Galaxy_P2P.loc[Index_num,['K_index']])[0].replace('\\n', '').replace('[', '').replace(']', '').split()\n",
    "        for i in range(len(POS_NL)):\n",
    "                POS_NL[i] = int(POS_NL[i])\n",
    "        for k_index in POS_NL:\n",
    "                # signal[k_index] = Galaxy_P2P.loc[Index_num,'Signal']\n",
    "                signal[k_index] = 1\n",
    "                noise[k_index] = Galaxy_P2P.loc[Index_num,'Noise']\n",
    "                if noise[k_index] > 3:\n",
    "                        noise[k_index] = 2"
   ]
  },
  {
   "cell_type": "code",
   "execution_count": 175,
   "metadata": {},
   "outputs": [],
   "source": [
    "x_ary = []\n",
    "y_ary = []"
   ]
  },
  {
   "cell_type": "code",
   "execution_count": 176,
   "metadata": {},
   "outputs": [],
   "source": [
    "for i in range(Galaxy_info.cube.shape[1]):\n",
    "    for j in range(Galaxy_info.cube.shape[2]):\n",
    "        \n",
    "            Ori_ra  = Galaxy_info.CRVAL1 + ((i-1)*Galaxy_info.CD1_2) + ((j-1)*Galaxy_info.CD1_1)\n",
    "            Ori_dec = Galaxy_info.CRVAL2 + ((i-1)*Galaxy_info.CD2_2) + ((j-1)*Galaxy_info.CD2_1)\n",
    "            x_ary += [Ori_ra + ((Galaxy_info.CD1_2+Galaxy_info.CD1_1)/2)]\n",
    "            y_ary += [Ori_dec + ((Galaxy_info.CD2_2+Galaxy_info.CD2_1)/2)]"
   ]
  },
  {
   "cell_type": "code",
   "execution_count": 177,
   "metadata": {},
   "outputs": [],
   "source": [
    "# plt.hist(noise, range=(0,5), bins=20)"
   ]
  },
  {
   "cell_type": "code",
   "execution_count": 178,
   "metadata": {},
   "outputs": [],
   "source": [
    "VNB = voronoi_2d_binning(np.array(x_ary), np.array(y_ary), signal, noise, target_sn, plot=0)"
   ]
  },
  {
   "cell_type": "markdown",
   "metadata": {},
   "source": [
    "## Spectrum calculate"
   ]
  },
  {
   "cell_type": "code",
   "execution_count": 179,
   "metadata": {},
   "outputs": [],
   "source": [
    "def Spectrum_ReSMP(spctrum, lam_gal_wave, st, ed, v_fix):\n",
    "    Lam_gal_cpy_U = lam_gal_wave.copy()\n",
    "    for i in range(len(Lam_gal_cpy_U)):\n",
    "        Lam_gal_cpy_U[i] = Lam_gal_cpy_U[i]/(1+(v_fix/c))\n",
    "    # lam_gal = np.array(lam_gal_wave)\n",
    "    W_arg = np.arange(st, ed, (ed-st)/(len(Lam_gal_cpy_U)))\n",
    "    # W_list = []\n",
    "    # for i in range(len(lam_gal)):\n",
    "    #     W_list += [st+i*(ed-st)/(len(lam_gal_wave)-1)]\n",
    "    return spectres(W_arg, Lam_gal_cpy_U, spctrum)"
   ]
  },
  {
   "cell_type": "code",
   "execution_count": 180,
   "metadata": {},
   "outputs": [],
   "source": [
    "Lam_gal_cpy = lam_gal.copy()"
   ]
  },
  {
   "cell_type": "code",
   "execution_count": 181,
   "metadata": {},
   "outputs": [],
   "source": [
    "# lam_gal_wave_test = lam_gal\n",
    "# for i in range(len(lam_gal_wave_test)):\n",
    "#         lam_gal_wave_test[i] = lam_gal_wave_test[i]/(1+(10/c))\n",
    "\n",
    "# W_arg_test = np.arange(4820, 5210, (5210-4820)/(len(lam_gal_wave_test)))"
   ]
  },
  {
   "cell_type": "code",
   "execution_count": 182,
   "metadata": {},
   "outputs": [],
   "source": [
    "# fig, ax = plt.subplots(1, 1, facecolor='white', figsize=(16,4), dpi=150, tight_layout=True)\n",
    "# gs1 = gridspec.GridSpec(1, 1)\n",
    "# gs1.update(left=0.05, right=.95, bottom=0.05, top=0.95, hspace=0.0)\n",
    "# ax1 = plt.subplot(gs1[0])\n",
    "\n",
    "# ax1.plot(lam_gal_wave_test, Galaxy_info.spectra[:,0], alpha=.7, label='Old')\n",
    "# ax1.plot(W_arg_test, Spectrum_ReSMP(Galaxy_info.spectra[:,0], lam_gal, 4820, 5210,10), alpha=.7, label='New')\n",
    "\n",
    "\n",
    "# ax1.xaxis.set_minor_locator(AutoMinorLocator(5))\n",
    "# ax1.yaxis.set_minor_locator(AutoMinorLocator(5))\n",
    "# ax1.tick_params(axis='both', which='both', labelsize='x-small', right=True, top=True, direction='in')\n",
    "\n",
    "# # ax1.set_ylim(,)\n",
    "# # ax1.set_xlim(,)\n",
    "\n",
    "# ax1.set_xlabel(r'', size=11)\n",
    "# ax1.set_ylabel(r'', size=11)\n",
    "\n",
    "# ax1.legend()\n",
    "\n",
    "# # plt.savefig('./', format='pdf', bbox_inches='tight')"
   ]
  },
  {
   "cell_type": "code",
   "execution_count": 183,
   "metadata": {},
   "outputs": [],
   "source": [
    "Lam_gal_cpy = lam_gal.copy()\n",
    "\n",
    "VNB_spectrum = np.ndarray(shape=(Galaxy_info.spectra.shape[0], VNB[2].shape[0]))\n",
    "Spc_vel_fix = np.ndarray(shape=Galaxy_info.spectra.shape)\n",
    "\n",
    "V_field = np.ndarray(shape=Galaxy_info.spectra.shape[1])"
   ]
  },
  {
   "cell_type": "code",
   "execution_count": 184,
   "metadata": {},
   "outputs": [],
   "source": [
    "\n",
    "\n",
    "for Index_num in range(len(Galaxy_P2P)):\n",
    "        POS_NL = (Galaxy_P2P.loc[Index_num,['K_index']])[0].replace('\\n', '').replace('[', '').replace(']', '').split()\n",
    "        for i in range(len(POS_NL)):\n",
    "                POS_NL[i] = int(POS_NL[i])\n",
    "        for k_index in POS_NL:\n",
    "                del_v = Galaxy_P2P.loc[Index_num,'Component_Sol_00']\n",
    "                # if abs(del_v-V_mid) > del_v_lim:\n",
    "                #         del_v = V_mid\n",
    "                # if del_v < -del_v_lim:\n",
    "                #         del_v = -0\n",
    "                V_field[k_index] = del_v\n",
    "                # Spc_vel_fix[:,k_index] += Spectrum_ReSMP(Galaxy_info.spectra[:,k_index], lam_gal_wave = Lam_gal_cpy, st=4827.875, ed=5206.375, v_fix=del_v)"
   ]
  },
  {
   "cell_type": "code",
   "execution_count": 185,
   "metadata": {},
   "outputs": [],
   "source": [
    "del_v_lim = 300\n",
    "v_LR = 300\n",
    "\n",
    "for Index_num in range(len(VNB[2])):\n",
    "    K_index = np.where(VNB[0] == Index_num)[0]\n",
    "    V_mid = np.median(V_field[K_index])\n",
    "    for i in K_index:\n",
    "        if abs(V_field[i]-V_mid)>del_v_lim:\n",
    "            V_field[i] = V_mid\n",
    "        if abs(V_field[i]) > v_LR:\n",
    "            V_field[i] = 0\n",
    "        Spc_vel_fix[:,i] += Spectrum_ReSMP(Galaxy_info.spectra[:,i], lam_gal_wave = Lam_gal_cpy, st=4827.875, ed=5206.375, v_fix=del_v)\n",
    "    VNB_spectrum[:,Index_num] = np.median(Spc_vel_fix[:,K_index],1)"
   ]
  },
  {
   "cell_type": "markdown",
   "metadata": {},
   "source": [
    "# Fitting"
   ]
  },
  {
   "cell_type": "markdown",
   "metadata": {},
   "source": [
    "## FTF (First time fitting)"
   ]
  },
  {
   "cell_type": "code",
   "execution_count": 186,
   "metadata": {},
   "outputs": [],
   "source": [
    "lam_use = np.arange(4827.875, 5206.375, (5206.375-4827.875)/(len(lam_gal)))\n",
    "velscale = np.min(c*np.diff(np.log(lam_use)))\n",
    "\n",
    "VNB_spectrum_new, ln_lam_gal_new, velscale_new = util.log_rebin([4827.875, 5206.375], VNB_spectrum, velscale=velscale)"
   ]
  },
  {
   "cell_type": "code",
   "execution_count": 187,
   "metadata": {},
   "outputs": [],
   "source": [
    "sps = lib.sps_lib(filename, velscale_new, FWHM_gal, norm_range=[4827.875, 5206.375])\n",
    "\n",
    "npix, *reg_dim = sps.templates.shape\n",
    "sps.templates = sps.templates.reshape(npix, -1)\n",
    "sps.templates /= np.median(sps.templates) # Normalizes stellar templates by a scalar\n",
    "regul_err = 0.01 # Desired regularization error"
   ]
  },
  {
   "cell_type": "code",
   "execution_count": 188,
   "metadata": {},
   "outputs": [],
   "source": [
    "lam_gal_new = np.exp(ln_lam_gal_new)\n",
    "lam_range_temp = np.exp(sps.ln_lam_temp[[0, -1]])\n",
    "mask0_new = util.determine_mask(ln_lam_gal_new, lam_range_temp, width=500)"
   ]
  },
  {
   "cell_type": "code",
   "execution_count": 189,
   "metadata": {},
   "outputs": [
    {
     "data": {
      "text/plain": [
       "array([ True,  True,  True, ...,  True,  True,  True])"
      ]
     },
     "execution_count": 189,
     "metadata": {},
     "output_type": "execute_result"
    }
   ],
   "source": [
    "mask0_new"
   ]
  },
  {
   "cell_type": "code",
   "execution_count": null,
   "metadata": {},
   "outputs": [],
   "source": [
    "velscale_ratio = 1\n",
    "# velscale = Galaxy_info.velscale\n",
    "\n",
    "velfield_VNB = np.ndarray(shape=VNB[2].shape[0])\n",
    "sigfield_VNB = np.ndarray(shape=VNB[2].shape[0])\n",
    "tempnum_VNB = np.ndarray(shape=VNB[2].shape[0])\n",
    "Bestfitfield_VNB = np.ndarray(shape=VNB_spectrum_new.shape)\n",
    "\n",
    "optimal_templates_VNB = np.ndarray(shape=(npix,VNB[2].shape[0]))\n",
    "\n",
    "apoly=[]"
   ]
  },
  {
   "cell_type": "code",
   "execution_count": null,
   "metadata": {},
   "outputs": [
    {
     "name": "stderr",
     "output_type": "stream",
     "text": [
      "100%|██████████| 28/28 [00:14<00:00,  1.94it/s]\n"
     ]
    }
   ],
   "source": [
    "for i in tqdm(range(len(VNB[2]))):\n",
    "    plot_TF = True if (i == 1000) else False\n",
    "    tmpgalaxy = VNB_spectrum_new[:,i]\n",
    "    noise = np.full_like(tmpgalaxy,0.1)\n",
    "    noise = np.ones_like(tmpgalaxy)\n",
    "\n",
    "    pp = ppxf(sps.templates, tmpgalaxy, noise, velscale_new, [vel_s, vel_dis_s],\n",
    "                            plot=plot_TF,\n",
    "                            mask=mask0_new,\n",
    "                            velscale_ratio = 1,\n",
    "                            lam=lam_gal_new, lam_temp=sps.lam_temp,\n",
    "                            quiet=not plot_TF)\n",
    "                    # pp_field[i][j]=pp\n",
    "    Bestfitfield_VNB[:,i]=pp.bestfit\n",
    "\n",
    "    pp.optimal_template = sps.templates.reshape(sps.templates.shape[0], -1) @ pp.weights\n",
    "    optimal_templates_VNB[:,i] = pp.optimal_template\n",
    "    velfield_VNB[i] = pp.sol[0]\n",
    "    sigfield_VNB[i] = pp.sol[1]\n",
    "    weights = pp.weights\n",
    "    indwt = np.where(weights == np.max(weights))[0]\n",
    "    tempnum_VNB[i] = indwt[0]\n",
    "\n",
    "    apoly += [pp.apoly]"
   ]
  },
  {
   "cell_type": "markdown",
   "metadata": {},
   "source": [
    "## Addtional parameters setting"
   ]
  },
  {
   "cell_type": "code",
   "execution_count": 192,
   "metadata": {},
   "outputs": [],
   "source": [
    "Index_Wave = pd.DataFrame({\n",
    "        'Index':['H_beta','Fe_5015','Mg_b','Fe_5270','Fe_5270_s'],\n",
    "        'BPC_range':[[4827.875,4847.875],[4946.500,4977.750],[5142.625,5161.375],[5233.150,5248.150],[5233.000,5250.000]],\n",
    "        'CBP_range':[[4847.875,4876.625],[4977.750,5054.000],[5160.125,5192.625],[5245.650,5285.650],[5256.500,5278.500]],\n",
    "        'RPC_range':[[4876.625,4891.625],[5054.000,5065.250],[5191.375,5206.375],[5285.650,5318.150],[5285.500,5308.000]]\n",
    "})"
   ]
  },
  {
   "cell_type": "code",
   "execution_count": 193,
   "metadata": {},
   "outputs": [],
   "source": [
    "Index_use = [0,1,2]"
   ]
  },
  {
   "cell_type": "code",
   "execution_count": 194,
   "metadata": {},
   "outputs": [
    {
     "name": "stderr",
     "output_type": "stream",
     "text": [
      "C:\\Users\\VacEn-WenJin\\AppData\\Local\\Temp\\ipykernel_28992\\267478818.py:4: MatplotlibDeprecationWarning: Auto-removal of overlapping axes is deprecated since 3.6 and will be removed two minor releases later; explicitly call ax.remove() as needed.\n",
      "  ax1 = plt.subplot(gs1[0])\n",
      "No artists with labels found to put in legend.  Note that artists whose label start with an underscore are ignored when legend() is called with no argument.\n"
     ]
    },
    {
     "data": {
      "text/plain": [
       "<matplotlib.legend.Legend at 0x1c8823e76d0>"
      ]
     },
     "execution_count": 194,
     "metadata": {},
     "output_type": "execute_result"
    },
    {
     "name": "stderr",
     "output_type": "stream",
     "text": [
      "c:\\ProgramData\\Anaconda3\\envs\\Ast_Base\\lib\\site-packages\\IPython\\core\\events.py:89: UserWarning: This figure includes Axes that are not compatible with tight_layout, so results might be incorrect.\n",
      "  func(*args, **kwargs)\n"
     ]
    }
   ],
   "source": [
    "fig, ax = plt.subplots(1, 1, facecolor='white', figsize=(16,4), dpi=300, tight_layout=True)\n",
    "gs1 = gridspec.GridSpec(1, 1)\n",
    "gs1.update(left=0.05, right=.95, bottom=0.05, top=0.95, hspace=0.0)\n",
    "ax1 = plt.subplot(gs1[0])\n",
    "\n",
    "ax1.plot(lam_gal_new,VNB_spectrum_new[:,2], c='tab:blue', lw=1, alpha=.9)\n",
    "ax1.plot(lam_gal_new,Bestfitfield_VNB[:,2], c='tab:red')\n",
    "\n",
    "for i in Index_use:\n",
    "    LHS = Index_Wave.loc[i,'CBP_range'][0]\n",
    "    RHS = Index_Wave.loc[i,'CBP_range'][1]\n",
    "    ax1.fill([LHS,RHS,RHS,LHS], [1000,1000,-10000,-1000], color='tab:gray', alpha=.5)\n",
    "\n",
    "for i in Index_use:\n",
    "    LHS = Index_Wave.loc[i,'BPC_range'][0]\n",
    "    RHS = Index_Wave.loc[i,'BPC_range'][1]\n",
    "    ax1.fill([LHS,RHS,RHS,LHS], [1000,1000,-10000,-1000], color='tab:gray', alpha=.3)\n",
    "for i in Index_use:\n",
    "    LHS = Index_Wave.loc[i,'RPC_range'][0]\n",
    "    RHS = Index_Wave.loc[i,'RPC_range'][1]\n",
    "    ax1.fill([LHS,RHS,RHS,LHS], [1000,1000,-10000,-1000], color='tab:gray', alpha=.3)\n",
    "\n",
    "\n",
    "ax1.xaxis.set_minor_locator(AutoMinorLocator(5))\n",
    "ax1.yaxis.set_minor_locator(AutoMinorLocator(5))\n",
    "ax1.tick_params(axis='both', which='both', labelsize='x-small', right=True, top=True, direction='in')\n",
    "\n",
    "\n",
    "ax1.set_xlabel(r'', size=11)\n",
    "ax1.set_ylabel(r'', size=11)\n",
    "\n",
    "ax1.set_ylim(0,80)\n",
    "# ax1.set_xlim(0,1)\n",
    "ax1.set_xlabel(r'Wave Length $[\\AA]$', size=11)\n",
    "ax1.legend()\n",
    "\n",
    "# plt.savefig('./', format='pdf', bbox_inches='tight')"
   ]
  },
  {
   "cell_type": "markdown",
   "metadata": {},
   "source": [
    "## STF"
   ]
  },
  {
   "cell_type": "code",
   "execution_count": 195,
   "metadata": {},
   "outputs": [],
   "source": [
    "lam_gal = lam_gal_new"
   ]
  },
  {
   "cell_type": "markdown",
   "metadata": {},
   "source": [
    "### STF parameters setting"
   ]
  },
  {
   "cell_type": "code",
   "execution_count": 196,
   "metadata": {},
   "outputs": [
    {
     "name": "stdout",
     "output_type": "stream",
     "text": [
      "Emission lines included in gas templates:\n",
      "['Hbeta' '[OIII]5007_d']\n"
     ]
    }
   ],
   "source": [
    "lam_range_gal = [np.min(lam_gal_new), np.max(lam_gal_new)]\n",
    "gas_templates, gas_names, line_wave = util.emission_lines(sps.ln_lam_temp, lam_range_gal, Galaxy_info.fwhm_gal)"
   ]
  },
  {
   "cell_type": "code",
   "execution_count": 197,
   "metadata": {},
   "outputs": [],
   "source": [
    "ngas_comp = 1   # I use three gas kinematic components\n",
    "gas_templates = np.tile(gas_templates, ngas_comp)\n",
    "gas_names = np.asarray([a + f\"_({p+1})\" for p in range(ngas_comp) for a in gas_names])\n",
    "line_wave = np.tile(line_wave, ngas_comp)"
   ]
  },
  {
   "cell_type": "markdown",
   "metadata": {},
   "source": [
    "### Fitting"
   ]
  },
  {
   "cell_type": "code",
   "execution_count": 198,
   "metadata": {},
   "outputs": [
    {
     "name": "stderr",
     "output_type": "stream",
     "text": [
      "  0%|          | 0/28 [00:00<?, ?it/s]"
     ]
    },
    {
     "name": "stdout",
     "output_type": "stream",
     "text": [
      "differential_evolution step 1: f(x)= 2792.16\n",
      "differential_evolution step 2: f(x)= 2075.1\n",
      "differential_evolution step 3: f(x)= 1718.07\n",
      "differential_evolution step 4: f(x)= 1718.07\n",
      "differential_evolution step 5: f(x)= 1717.07\n",
      "differential_evolution step 6: f(x)= 1716.28\n",
      "differential_evolution step 7: f(x)= 1693.84\n",
      "differential_evolution step 8: f(x)= 1681.55\n"
     ]
    },
    {
     "name": "stderr",
     "output_type": "stream",
     "text": [
      "  4%|▎         | 1/28 [00:00<00:17,  1.55it/s]"
     ]
    },
    {
     "name": "stdout",
     "output_type": "stream",
     "text": [
      "differential_evolution step 9: f(x)= 1681.55\n",
      " Best Fit:       Vel     sigma\n",
      " comp.  0:      -248        20\n",
      " comp.  1:      -248        20\n",
      "chi2/DOF: 0.6832; DOF: 2460; degree = 8; mdegree = 0\n",
      "Global search - Func calls: 300\n",
      "method = capfit; Jac calls: 2; Func calls: 8; Status: 4\n",
      "linear_method = lsq_box; Nonzero Templates (>0.1%): 3/3\n",
      "Templates weights:\n",
      "     0.917       306      55.6\n",
      "Tied parameters:\n",
      "+++++++++++++++++++++++++++++++++++++++++++++++++++++++++++++++++\n",
      "gas_component           name        flux       err      V     sig\n",
      "+++++++++++++++++++++++++++++++++++++++++++++++++++++++++++++++++\n",
      "Comp:  1             Hbeta_(1)      305.9       3.6    -248    20\n",
      "Comp:  1      [OIII]5007_d_(1)      73.96       4.5    -248    20\n",
      "-----------------------------------------------------------------\n",
      "differential_evolution step 1: f(x)= 13652.8\n",
      "differential_evolution step 2: f(x)= 12529.3\n",
      "differential_evolution step 3: f(x)= 12481.6\n",
      "differential_evolution step 4: f(x)= 12455.5\n",
      "differential_evolution step 5: f(x)= 12455.5\n"
     ]
    },
    {
     "name": "stderr",
     "output_type": "stream",
     "text": [
      "  7%|▋         | 2/28 [00:01<00:13,  1.86it/s]"
     ]
    },
    {
     "name": "stdout",
     "output_type": "stream",
     "text": [
      "differential_evolution step 6: f(x)= 12454.6\n",
      " Best Fit:       Vel     sigma\n",
      " comp.  0:      -232        20\n",
      " comp.  1:      -206        21\n",
      "chi2/DOF: 5.061; DOF: 2460; degree = 8; mdegree = 0\n",
      "Global search - Func calls: 210\n",
      "method = capfit; Jac calls: 2; Func calls: 8; Status: 2\n",
      "linear_method = lsq_box; Nonzero Templates (>0.1%): 3/3\n",
      "Templates weights:\n",
      "     0.901       452       167\n",
      "Tied parameters:\n",
      "+++++++++++++++++++++++++++++++++++++++++++++++++++++++++++++++++\n",
      "gas_component           name        flux       err      V     sig\n",
      "+++++++++++++++++++++++++++++++++++++++++++++++++++++++++++++++++\n",
      "Comp:  1             Hbeta_(1)      451.6       3.6    -206    21\n",
      "Comp:  1      [OIII]5007_d_(1)      222.2       4.5    -206    21\n",
      "-----------------------------------------------------------------\n",
      "differential_evolution step 1: f(x)= 24541.8\n",
      "differential_evolution step 2: f(x)= 11637.1\n",
      "differential_evolution step 3: f(x)= 11637.1\n",
      "differential_evolution step 4: f(x)= 11637.1\n",
      "differential_evolution step 5: f(x)= 11637.1\n",
      "differential_evolution step 6: f(x)= 11008\n",
      "differential_evolution step 7: f(x)= 11008\n",
      "differential_evolution step 8: f(x)= 11008\n",
      "differential_evolution step 9: f(x)= 10925.4\n",
      "differential_evolution step 10: f(x)= 10925.4\n",
      "differential_evolution step 11: f(x)= 10925.4\n",
      "differential_evolution step 12: f(x)= 10908.4\n"
     ]
    },
    {
     "name": "stderr",
     "output_type": "stream",
     "text": [
      " 11%|█         | 3/28 [00:02<00:17,  1.42it/s]"
     ]
    },
    {
     "name": "stdout",
     "output_type": "stream",
     "text": [
      "differential_evolution step 13: f(x)= 10908.4\n",
      " Best Fit:       Vel     sigma\n",
      " comp.  0:      -245        20\n",
      " comp.  1:      -262        20\n",
      "chi2/DOF: 4.411; DOF: 2460; degree = 8; mdegree = 0\n",
      "Global search - Func calls: 420\n",
      "method = capfit; Jac calls: 2; Func calls: 8; Status: 4\n",
      "linear_method = lsq_box; Nonzero Templates (>0.1%): 2/3\n",
      "Templates weights:\n",
      "     0.914   1.6e+03       193\n",
      "Tied parameters:\n",
      "+++++++++++++++++++++++++++++++++++++++++++++++++++++++++++++++++\n",
      "gas_component           name        flux       err      V     sig\n",
      "+++++++++++++++++++++++++++++++++++++++++++++++++++++++++++++++++\n",
      "Comp:  1             Hbeta_(1)      1596.       3.6    -262    20\n",
      "Comp:  1      [OIII]5007_d_(1)      256.3       4.5    -262    20\n",
      "-----------------------------------------------------------------\n",
      "differential_evolution step 1: f(x)= 8624.83\n",
      "differential_evolution step 2: f(x)= 7333.04\n",
      "differential_evolution step 3: f(x)= 7171.22\n",
      "differential_evolution step 4: f(x)= 7169.05\n",
      "differential_evolution step 5: f(x)= 7144\n"
     ]
    },
    {
     "name": "stderr",
     "output_type": "stream",
     "text": [
      " 14%|█▍        | 4/28 [00:02<00:14,  1.69it/s]"
     ]
    },
    {
     "name": "stdout",
     "output_type": "stream",
     "text": [
      " Best Fit:       Vel     sigma\n",
      " comp.  0:      -228        20\n",
      " comp.  1:      -220        23\n",
      "chi2/DOF: 2.885; DOF: 2460; degree = 8; mdegree = 0\n",
      "Global search - Func calls: 180\n",
      "method = capfit; Jac calls: 3; Func calls: 11; Status: 2\n",
      "linear_method = lsq_box; Nonzero Templates (>0.1%): 3/3\n",
      "Templates weights:\n",
      "     0.959       380       103\n",
      "Tied parameters:\n",
      "+++++++++++++++++++++++++++++++++++++++++++++++++++++++++++++++++\n",
      "gas_component           name        flux       err      V     sig\n",
      "+++++++++++++++++++++++++++++++++++++++++++++++++++++++++++++++++\n",
      "Comp:  1             Hbeta_(1)      380.1       3.7    -220    23\n",
      "Comp:  1      [OIII]5007_d_(1)      136.7       4.6    -220    23\n",
      "-----------------------------------------------------------------\n",
      "differential_evolution step 1: f(x)= 14857.9\n"
     ]
    },
    {
     "name": "stderr",
     "output_type": "stream",
     "text": [
      " 18%|█▊        | 5/28 [00:02<00:11,  1.93it/s]"
     ]
    },
    {
     "name": "stdout",
     "output_type": "stream",
     "text": [
      "differential_evolution step 2: f(x)= 12530.7\n",
      "differential_evolution step 3: f(x)= 12530.7\n",
      "differential_evolution step 4: f(x)= 12513.4\n",
      "differential_evolution step 5: f(x)= 12513.4\n",
      " Best Fit:       Vel     sigma\n",
      " comp.  0:      -246        20\n",
      " comp.  1:      -266        24\n",
      "chi2/DOF: 5.078; DOF: 2460; degree = 8; mdegree = 0\n",
      "Global search - Func calls: 180\n",
      "method = capfit; Jac calls: 2; Func calls: 8; Status: 2\n",
      "linear_method = lsq_box; Nonzero Templates (>0.1%): 3/3\n",
      "Templates weights:\n",
      "     0.946       692       137\n",
      "Tied parameters:\n",
      "+++++++++++++++++++++++++++++++++++++++++++++++++++++++++++++++++\n",
      "gas_component           name        flux       err      V     sig\n",
      "+++++++++++++++++++++++++++++++++++++++++++++++++++++++++++++++++\n",
      "Comp:  1             Hbeta_(1)      692.4       3.7    -266    24\n",
      "Comp:  1      [OIII]5007_d_(1)      182.0       4.7    -266    24\n",
      "-----------------------------------------------------------------\n"
     ]
    },
    {
     "name": "stderr",
     "output_type": "stream",
     "text": [
      " 21%|██▏       | 6/28 [00:03<00:09,  2.27it/s]"
     ]
    },
    {
     "name": "stdout",
     "output_type": "stream",
     "text": [
      "differential_evolution step 1: f(x)= 6220.03\n",
      "differential_evolution step 2: f(x)= 6098.27\n",
      "differential_evolution step 3: f(x)= 6098.27\n",
      " Best Fit:       Vel     sigma\n",
      " comp.  0:      -258        20\n",
      " comp.  1:      -264        24\n",
      "chi2/DOF: 2.477; DOF: 2460; degree = 8; mdegree = 0\n",
      "Global search - Func calls: 120\n",
      "method = capfit; Jac calls: 2; Func calls: 8; Status: 2\n",
      "linear_method = lsq_box; Nonzero Templates (>0.1%): 3/3\n",
      "Templates weights:\n",
      "     0.936       288      63.2\n",
      "Tied parameters:\n",
      "+++++++++++++++++++++++++++++++++++++++++++++++++++++++++++++++++\n",
      "gas_component           name        flux       err      V     sig\n",
      "+++++++++++++++++++++++++++++++++++++++++++++++++++++++++++++++++\n",
      "Comp:  1             Hbeta_(1)      287.7       3.7    -264    24\n",
      "Comp:  1      [OIII]5007_d_(1)      84.07       4.6    -264    24\n",
      "-----------------------------------------------------------------\n"
     ]
    },
    {
     "name": "stderr",
     "output_type": "stream",
     "text": [
      " 25%|██▌       | 7/28 [00:03<00:08,  2.48it/s]"
     ]
    },
    {
     "name": "stdout",
     "output_type": "stream",
     "text": [
      "differential_evolution step 1: f(x)= 7691.85\n",
      "differential_evolution step 2: f(x)= 6717.76\n",
      "differential_evolution step 3: f(x)= 6509.41\n",
      "differential_evolution step 4: f(x)= 6509.41\n",
      " Best Fit:       Vel     sigma\n",
      " comp.  0:      -234        20\n",
      " comp.  1:      -233        20\n",
      "chi2/DOF: 2.635; DOF: 2460; degree = 8; mdegree = 0\n",
      "Global search - Func calls: 150\n",
      "method = capfit; Jac calls: 2; Func calls: 8; Status: 2\n",
      "linear_method = lsq_box; Nonzero Templates (>0.1%): 3/3\n",
      "Templates weights:\n",
      "     0.965       324        81\n",
      "Tied parameters:\n",
      "+++++++++++++++++++++++++++++++++++++++++++++++++++++++++++++++++\n",
      "gas_component           name        flux       err      V     sig\n",
      "+++++++++++++++++++++++++++++++++++++++++++++++++++++++++++++++++\n",
      "Comp:  1             Hbeta_(1)      323.8       3.6    -233    20\n",
      "Comp:  1      [OIII]5007_d_(1)      107.8       4.5    -233    20\n",
      "-----------------------------------------------------------------\n"
     ]
    },
    {
     "name": "stderr",
     "output_type": "stream",
     "text": [
      " 29%|██▊       | 8/28 [00:03<00:07,  2.59it/s]"
     ]
    },
    {
     "name": "stdout",
     "output_type": "stream",
     "text": [
      "differential_evolution step 1: f(x)= 9810.2\n",
      "differential_evolution step 2: f(x)= 9296.56\n",
      "differential_evolution step 3: f(x)= 9007.48\n",
      "differential_evolution step 4: f(x)= 8994.26\n",
      " Best Fit:       Vel     sigma\n",
      " comp.  0:      -252        20\n",
      " comp.  1:      -268        26\n",
      "chi2/DOF: 3.636; DOF: 2460; degree = 8; mdegree = 0\n",
      "Global search - Func calls: 150\n",
      "method = capfit; Jac calls: 3; Func calls: 11; Status: 2\n",
      "linear_method = lsq_box; Nonzero Templates (>0.1%): 3/3\n",
      "Templates weights:\n",
      "     0.966       580       107\n",
      "Tied parameters:\n",
      "+++++++++++++++++++++++++++++++++++++++++++++++++++++++++++++++++\n",
      "gas_component           name        flux       err      V     sig\n",
      "+++++++++++++++++++++++++++++++++++++++++++++++++++++++++++++++++\n",
      "Comp:  1             Hbeta_(1)      579.5       3.8    -268    26\n",
      "Comp:  1      [OIII]5007_d_(1)      142.5       4.7    -268    26\n",
      "-----------------------------------------------------------------\n",
      "differential_evolution step 1: f(x)= 53035.6\n",
      "differential_evolution step 2: f(x)= 42305.1\n",
      "differential_evolution step 3: f(x)= 42305.1\n",
      "differential_evolution step 4: f(x)= 42305.1\n"
     ]
    },
    {
     "name": "stderr",
     "output_type": "stream",
     "text": [
      " 32%|███▏      | 9/28 [00:04<00:07,  2.46it/s]"
     ]
    },
    {
     "name": "stdout",
     "output_type": "stream",
     "text": [
      "differential_evolution step 5: f(x)= 42058.9\n",
      "differential_evolution step 6: f(x)= 42058.9\n",
      " Best Fit:       Vel     sigma\n",
      " comp.  0:      -247        20\n",
      " comp.  1:      -275        29\n",
      "chi2/DOF: 17.08; DOF: 2460; degree = 8; mdegree = 0\n",
      "Global search - Func calls: 210\n",
      "method = capfit; Jac calls: 2; Func calls: 8; Status: 2\n",
      "linear_method = lsq_box; Nonzero Templates (>0.1%): 2/3\n",
      "Templates weights:\n",
      "     0.955  1.73e+03       473\n",
      "Tied parameters:\n",
      "+++++++++++++++++++++++++++++++++++++++++++++++++++++++++++++++++\n",
      "gas_component           name        flux       err      V     sig\n",
      "+++++++++++++++++++++++++++++++++++++++++++++++++++++++++++++++++\n",
      "Comp:  1             Hbeta_(1)      1735.       3.9    -275    29\n",
      "Comp:  1      [OIII]5007_d_(1)      628.6       4.9    -275    29\n",
      "-----------------------------------------------------------------\n",
      "differential_evolution step 1: f(x)= 6513.81\n"
     ]
    },
    {
     "name": "stderr",
     "output_type": "stream",
     "text": [
      " 36%|███▌      | 10/28 [00:04<00:05,  3.06it/s]"
     ]
    },
    {
     "name": "stdout",
     "output_type": "stream",
     "text": [
      " Best Fit:       Vel     sigma\n",
      " comp.  0:      -237        20\n",
      " comp.  1:      -230        34\n",
      "chi2/DOF: 2.597; DOF: 2460; degree = 8; mdegree = 0\n",
      "Global search - Func calls: 60\n",
      "method = capfit; Jac calls: 3; Func calls: 11; Status: 2\n",
      "linear_method = lsq_box; Nonzero Templates (>0.1%): 3/3\n",
      "Templates weights:\n",
      "     0.956       193      71.7\n",
      "Tied parameters:\n",
      "+++++++++++++++++++++++++++++++++++++++++++++++++++++++++++++++++\n",
      "gas_component           name        flux       err      V     sig\n",
      "+++++++++++++++++++++++++++++++++++++++++++++++++++++++++++++++++\n",
      "Comp:  1             Hbeta_(1)      193.2       4.1    -230    34\n",
      "Comp:  1      [OIII]5007_d_(1)      95.39       5.1    -230    34\n",
      "-----------------------------------------------------------------\n",
      "differential_evolution step 1: f(x)= 18015.1\n",
      "differential_evolution step 2: f(x)= 17484.8\n"
     ]
    },
    {
     "name": "stderr",
     "output_type": "stream",
     "text": [
      " 39%|███▉      | 11/28 [00:04<00:05,  3.08it/s]"
     ]
    },
    {
     "name": "stdout",
     "output_type": "stream",
     "text": [
      "differential_evolution step 3: f(x)= 17330.4\n",
      "differential_evolution step 4: f(x)= 17247.5\n",
      " Best Fit:       Vel     sigma\n",
      " comp.  0:      -248        20\n",
      " comp.  1:      -263        32\n",
      "chi2/DOF: 6.971; DOF: 2460; degree = 8; mdegree = 0\n",
      "Global search - Func calls: 150\n",
      "method = capfit; Jac calls: 2; Func calls: 8; Status: 2\n",
      "linear_method = lsq_box; Nonzero Templates (>0.1%): 2/3\n",
      "Templates weights:\n",
      "     0.981       892       201\n",
      "Tied parameters:\n",
      "+++++++++++++++++++++++++++++++++++++++++++++++++++++++++++++++++\n",
      "gas_component           name        flux       err      V     sig\n",
      "+++++++++++++++++++++++++++++++++++++++++++++++++++++++++++++++++\n",
      "Comp:  1             Hbeta_(1)      891.8       4.0    -263    32\n",
      "Comp:  1      [OIII]5007_d_(1)      267.8       5.0    -263    32\n",
      "-----------------------------------------------------------------\n"
     ]
    },
    {
     "name": "stderr",
     "output_type": "stream",
     "text": [
      " 43%|████▎     | 12/28 [00:04<00:04,  3.26it/s]"
     ]
    },
    {
     "name": "stdout",
     "output_type": "stream",
     "text": [
      "differential_evolution step 1: f(x)= 26077.2\n",
      "differential_evolution step 2: f(x)= 25948.5\n",
      "differential_evolution step 3: f(x)= 25948.5\n",
      " Best Fit:       Vel     sigma\n",
      " comp.  0:      -260        20\n",
      " comp.  1:      -276        35\n",
      "chi2/DOF: 10.53; DOF: 2460; degree = 8; mdegree = 0\n",
      "Global search - Func calls: 120\n",
      "method = capfit; Jac calls: 3; Func calls: 11; Status: 2\n",
      "linear_method = lsq_box; Nonzero Templates (>0.1%): 3/3\n",
      "Templates weights:\n",
      "     0.941       581       174\n",
      "Tied parameters:\n",
      "+++++++++++++++++++++++++++++++++++++++++++++++++++++++++++++++++\n",
      "gas_component           name        flux       err      V     sig\n",
      "+++++++++++++++++++++++++++++++++++++++++++++++++++++++++++++++++\n",
      "Comp:  1             Hbeta_(1)      580.8       4.1    -276    35\n",
      "Comp:  1      [OIII]5007_d_(1)      231.8       5.2    -276    35\n",
      "-----------------------------------------------------------------\n"
     ]
    },
    {
     "name": "stderr",
     "output_type": "stream",
     "text": [
      " 46%|████▋     | 13/28 [00:05<00:04,  3.18it/s]"
     ]
    },
    {
     "name": "stdout",
     "output_type": "stream",
     "text": [
      "differential_evolution step 1: f(x)= 860.803\n",
      "differential_evolution step 2: f(x)= 782.296\n",
      "differential_evolution step 3: f(x)= 770.921\n",
      "differential_evolution step 4: f(x)= 770.921\n",
      " Best Fit:       Vel     sigma\n",
      " comp.  0:      -268        20\n",
      " comp.  1:      -278        28\n",
      "chi2/DOF: 0.3134; DOF: 2460; degree = 8; mdegree = 0\n",
      "Global search - Func calls: 150\n",
      "method = capfit; Jac calls: 1; Func calls: 5; Status: 2\n",
      "linear_method = lsq_box; Nonzero Templates (>0.1%): 3/3\n",
      "Templates weights:\n",
      "     0.933       137      26.7\n",
      "Tied parameters:\n",
      "+++++++++++++++++++++++++++++++++++++++++++++++++++++++++++++++++\n",
      "gas_component           name        flux       err      V     sig\n",
      "+++++++++++++++++++++++++++++++++++++++++++++++++++++++++++++++++\n",
      "Comp:  1             Hbeta_(1)      137.2       3.9    -278    28\n",
      "Comp:  1      [OIII]5007_d_(1)      35.55       4.8    -278    28\n",
      "-----------------------------------------------------------------\n",
      "differential_evolution step 1: f(x)= 12507.8\n",
      "differential_evolution step 2: f(x)= 9274.45\n",
      "differential_evolution step 3: f(x)= 8368.74\n",
      "differential_evolution step 4: f(x)= 8368.74\n"
     ]
    },
    {
     "name": "stderr",
     "output_type": "stream",
     "text": [
      " 50%|█████     | 14/28 [00:05<00:05,  2.79it/s]"
     ]
    },
    {
     "name": "stdout",
     "output_type": "stream",
     "text": [
      "differential_evolution step 5: f(x)= 8190.67\n",
      "differential_evolution step 6: f(x)= 8111.93\n",
      " Best Fit:       Vel     sigma\n",
      " comp.  0:      -244        20\n",
      " comp.  1:      -244        23\n",
      "chi2/DOF: 3.281; DOF: 2460; degree = 8; mdegree = 0\n",
      "Global search - Func calls: 210\n",
      "method = capfit; Jac calls: 2; Func calls: 8; Status: 2\n",
      "linear_method = lsq_box; Nonzero Templates (>0.1%): 3/3\n",
      "Templates weights:\n",
      "     0.945       680       127\n",
      "Tied parameters:\n",
      "+++++++++++++++++++++++++++++++++++++++++++++++++++++++++++++++++\n",
      "gas_component           name        flux       err      V     sig\n",
      "+++++++++++++++++++++++++++++++++++++++++++++++++++++++++++++++++\n",
      "Comp:  1             Hbeta_(1)      680.0       3.7    -244    23\n",
      "Comp:  1      [OIII]5007_d_(1)      168.7       4.6    -244    23\n",
      "-----------------------------------------------------------------\n",
      "differential_evolution step 1: f(x)= 13185.4\n",
      "differential_evolution step 2: f(x)= 11350.2\n",
      "differential_evolution step 3: f(x)= 11350.2\n",
      "differential_evolution step 4: f(x)= 11350.2\n"
     ]
    },
    {
     "name": "stderr",
     "output_type": "stream",
     "text": [
      " 54%|█████▎    | 15/28 [00:06<00:05,  2.54it/s]"
     ]
    },
    {
     "name": "stdout",
     "output_type": "stream",
     "text": [
      "differential_evolution step 5: f(x)= 11350.2\n",
      "differential_evolution step 6: f(x)= 11308.2\n",
      " Best Fit:       Vel     sigma\n",
      " comp.  0:      -261        20\n",
      " comp.  1:      -279        20\n",
      "chi2/DOF: 4.583; DOF: 2460; degree = 8; mdegree = 0\n",
      "Global search - Func calls: 210\n",
      "method = capfit; Jac calls: 2; Func calls: 8; Status: 4\n",
      "linear_method = lsq_box; Nonzero Templates (>0.1%): 3/3\n",
      "Templates weights:\n",
      "     0.953       569       115\n",
      "Tied parameters:\n",
      "+++++++++++++++++++++++++++++++++++++++++++++++++++++++++++++++++\n",
      "gas_component           name        flux       err      V     sig\n",
      "+++++++++++++++++++++++++++++++++++++++++++++++++++++++++++++++++\n",
      "Comp:  1             Hbeta_(1)      568.5       3.6    -279    20\n",
      "Comp:  1      [OIII]5007_d_(1)      153.1       4.5    -279    20\n",
      "-----------------------------------------------------------------\n",
      "differential_evolution step 1: f(x)= 4161.56\n"
     ]
    },
    {
     "name": "stderr",
     "output_type": "stream",
     "text": [
      " 57%|█████▋    | 16/28 [00:06<00:04,  2.67it/s]"
     ]
    },
    {
     "name": "stdout",
     "output_type": "stream",
     "text": [
      "differential_evolution step 2: f(x)= 3917.03\n",
      "differential_evolution step 3: f(x)= 3917.03\n",
      "differential_evolution step 4: f(x)= 3917.03\n",
      " Best Fit:       Vel     sigma\n",
      " comp.  0:      -268        20\n",
      " comp.  1:      -284        25\n",
      "chi2/DOF: 1.588; DOF: 2460; degree = 8; mdegree = 0\n",
      "Global search - Func calls: 150\n",
      "method = capfit; Jac calls: 3; Func calls: 11; Status: 2\n",
      "linear_method = lsq_box; Nonzero Templates (>0.1%): 3/3\n",
      "Templates weights:\n",
      "      0.94       230      53.1\n",
      "Tied parameters:\n",
      "+++++++++++++++++++++++++++++++++++++++++++++++++++++++++++++++++\n",
      "gas_component           name        flux       err      V     sig\n",
      "+++++++++++++++++++++++++++++++++++++++++++++++++++++++++++++++++\n",
      "Comp:  1             Hbeta_(1)      230.2       3.7    -284    25\n",
      "Comp:  1      [OIII]5007_d_(1)      70.58       4.7    -284    25\n",
      "-----------------------------------------------------------------\n",
      "differential_evolution step 1: f(x)= 15984.2\n",
      "differential_evolution step 2: f(x)= 12396\n",
      "differential_evolution step 3: f(x)= 9986.28\n",
      "differential_evolution step 4: f(x)= 9986.28\n",
      "differential_evolution step 5: f(x)= 9986.28\n",
      "differential_evolution step 6: f(x)= 9929.66\n",
      "differential_evolution step 7: f(x)= 9929.66\n",
      "differential_evolution step 8: f(x)= 9888.18\n"
     ]
    },
    {
     "name": "stderr",
     "output_type": "stream",
     "text": [
      " 61%|██████    | 17/28 [00:07<00:05,  2.12it/s]"
     ]
    },
    {
     "name": "stdout",
     "output_type": "stream",
     "text": [
      "differential_evolution step 9: f(x)= 9888.18\n",
      "differential_evolution step 10: f(x)= 9871.33\n",
      " Best Fit:       Vel     sigma\n",
      " comp.  0:      -262        20\n",
      " comp.  1:      -274        20\n",
      "chi2/DOF: 4.008; DOF: 2460; degree = 8; mdegree = 0\n",
      "Global search - Func calls: 330\n",
      "method = capfit; Jac calls: 2; Func calls: 8; Status: 4\n",
      "linear_method = lsq_box; Nonzero Templates (>0.1%): 3/3\n",
      "Templates weights:\n",
      "         1       825       138\n",
      "Tied parameters:\n",
      "+++++++++++++++++++++++++++++++++++++++++++++++++++++++++++++++++\n",
      "gas_component           name        flux       err      V     sig\n",
      "+++++++++++++++++++++++++++++++++++++++++++++++++++++++++++++++++\n",
      "Comp:  1             Hbeta_(1)      825.5       3.6    -274    20\n",
      "Comp:  1      [OIII]5007_d_(1)      183.5       4.5    -274    20\n",
      "-----------------------------------------------------------------\n",
      "differential_evolution step 1: f(x)= 2565.58\n"
     ]
    },
    {
     "name": "stderr",
     "output_type": "stream",
     "text": [
      " 68%|██████▊   | 19/28 [00:07<00:02,  3.18it/s]"
     ]
    },
    {
     "name": "stdout",
     "output_type": "stream",
     "text": [
      " Best Fit:       Vel     sigma\n",
      " comp.  0:      -267        20\n",
      " comp.  1:      -293        20\n",
      "chi2/DOF: 1.011; DOF: 2460; degree = 8; mdegree = 0\n",
      "Global search - Func calls: 60\n",
      "method = capfit; Jac calls: 3; Func calls: 11; Status: 4\n",
      "linear_method = lsq_box; Nonzero Templates (>0.1%): 3/3\n",
      "Templates weights:\n",
      "      1.04        92      18.3\n",
      "Tied parameters:\n",
      "+++++++++++++++++++++++++++++++++++++++++++++++++++++++++++++++++\n",
      "gas_component           name        flux       err      V     sig\n",
      "+++++++++++++++++++++++++++++++++++++++++++++++++++++++++++++++++\n",
      "Comp:  1             Hbeta_(1)      92.03       3.6    -293    20\n",
      "Comp:  1      [OIII]5007_d_(1)      24.28       4.5    -293    20\n",
      "-----------------------------------------------------------------\n",
      "differential_evolution step 1: f(x)= 12601.4\n",
      " Best Fit:       Vel     sigma\n",
      " comp.  0:      -282        20\n",
      " comp.  1:      -304        23\n",
      "chi2/DOF: 5.096; DOF: 2460; degree = 8; mdegree = 0\n",
      "Global search - Func calls: 60\n",
      "method = capfit; Jac calls: 3; Func calls: 11; Status: 2\n",
      "linear_method = lsq_box; Nonzero Templates (>0.1%): 3/3\n",
      "Templates weights:\n",
      "     0.986       108        31\n",
      "Tied parameters:\n",
      "+++++++++++++++++++++++++++++++++++++++++++++++++++++++++++++++++\n",
      "gas_component           name        flux       err      V     sig\n",
      "+++++++++++++++++++++++++++++++++++++++++++++++++++++++++++++++++\n",
      "Comp:  1             Hbeta_(1)      107.5       3.7    -304    23\n",
      "Comp:  1      [OIII]5007_d_(1)      41.20       4.6    -304    23\n",
      "-----------------------------------------------------------------\n"
     ]
    },
    {
     "name": "stderr",
     "output_type": "stream",
     "text": [
      " 71%|███████▏  | 20/28 [00:07<00:02,  3.72it/s]"
     ]
    },
    {
     "name": "stdout",
     "output_type": "stream",
     "text": [
      "differential_evolution step 1: f(x)= 23572.7\n",
      " Best Fit:       Vel     sigma\n",
      " comp.  0:      -288        20\n",
      " comp.  1:      -324        72\n",
      "chi2/DOF: 9.581; DOF: 2460; degree = 8; mdegree = 0\n",
      "Global search - Func calls: 60\n",
      "method = capfit; Jac calls: 1; Func calls: 5; Status: 2\n",
      "linear_method = lsq_box; Nonzero Templates (>0.1%): 3/3\n",
      "Templates weights:\n",
      "      1.01       171      19.6\n",
      "Tied parameters:\n",
      "+++++++++++++++++++++++++++++++++++++++++++++++++++++++++++++++++\n",
      "gas_component           name        flux       err      V     sig\n",
      "+++++++++++++++++++++++++++++++++++++++++++++++++++++++++++++++++\n",
      "Comp:  1             Hbeta_(1)      170.6       5.5    -324    72\n",
      "Comp:  1      [OIII]5007_d_(1)      26.03       6.9    -324    72\n",
      "-----------------------------------------------------------------\n",
      "differential_evolution step 1: f(x)= 1711.57\n",
      "differential_evolution step 2: f(x)= 1494.87\n",
      "differential_evolution step 3: f(x)= 1493.77\n",
      "differential_evolution step 4: f(x)= 1492.71\n",
      "differential_evolution step 5: f(x)= 1492.71\n"
     ]
    },
    {
     "name": "stderr",
     "output_type": "stream",
     "text": [
      " 75%|███████▌  | 21/28 [00:08<00:02,  3.06it/s]"
     ]
    },
    {
     "name": "stdout",
     "output_type": "stream",
     "text": [
      "differential_evolution step 6: f(x)= 1481.1\n",
      " Best Fit:       Vel     sigma\n",
      " comp.  0:      -282        20\n",
      " comp.  1:      -306        20\n",
      "chi2/DOF: 0.5993; DOF: 2460; degree = 8; mdegree = 0\n",
      "Global search - Func calls: 210\n",
      "method = capfit; Jac calls: 2; Func calls: 8; Status: 4\n",
      "linear_method = lsq_box; Nonzero Templates (>0.1%): 3/3\n",
      "Templates weights:\n",
      "      0.99       181        38\n",
      "Tied parameters:\n",
      "+++++++++++++++++++++++++++++++++++++++++++++++++++++++++++++++++\n",
      "gas_component           name        flux       err      V     sig\n",
      "+++++++++++++++++++++++++++++++++++++++++++++++++++++++++++++++++\n",
      "Comp:  1             Hbeta_(1)      180.7       3.6    -306    20\n",
      "Comp:  1      [OIII]5007_d_(1)      50.59       4.5    -306    20\n",
      "-----------------------------------------------------------------\n",
      "differential_evolution step 1: f(x)= 4286.19\n",
      "differential_evolution step 2: f(x)= 4026.76\n"
     ]
    },
    {
     "name": "stderr",
     "output_type": "stream",
     "text": [
      " 79%|███████▊  | 22/28 [00:08<00:01,  3.03it/s]"
     ]
    },
    {
     "name": "stdout",
     "output_type": "stream",
     "text": [
      "differential_evolution step 3: f(x)= 4026.76\n",
      "differential_evolution step 4: f(x)= 4026.76\n",
      " Best Fit:       Vel     sigma\n",
      " comp.  0:      -251        20\n",
      " comp.  1:      -260        20\n",
      "chi2/DOF: 1.598; DOF: 2460; degree = 8; mdegree = 0\n",
      "Global search - Func calls: 150\n",
      "method = capfit; Jac calls: 3; Func calls: 11; Status: 2\n",
      "linear_method = lsq_box; Nonzero Templates (>0.1%): 3/3\n",
      "Templates weights:\n",
      "     0.939       308      74.3\n",
      "Tied parameters:\n",
      "+++++++++++++++++++++++++++++++++++++++++++++++++++++++++++++++++\n",
      "gas_component           name        flux       err      V     sig\n",
      "+++++++++++++++++++++++++++++++++++++++++++++++++++++++++++++++++\n",
      "Comp:  1             Hbeta_(1)      308.4       3.6    -260    20\n",
      "Comp:  1      [OIII]5007_d_(1)      98.85       4.5    -260    20\n",
      "-----------------------------------------------------------------\n"
     ]
    },
    {
     "name": "stderr",
     "output_type": "stream",
     "text": [
      " 82%|████████▏ | 23/28 [00:08<00:01,  3.48it/s]"
     ]
    },
    {
     "name": "stdout",
     "output_type": "stream",
     "text": [
      "differential_evolution step 1: f(x)= 8564.23\n",
      " Best Fit:       Vel     sigma\n",
      " comp.  0:      -227        20\n",
      " comp.  1:      -235        20\n",
      "chi2/DOF: 3.207; DOF: 2460; degree = 8; mdegree = 0\n",
      "Global search - Func calls: 60\n",
      "method = capfit; Jac calls: 4; Func calls: 14; Status: 2\n",
      "linear_method = lsq_box; Nonzero Templates (>0.1%): 3/3\n",
      "Templates weights:\n",
      "     0.925       244      49.9\n",
      "Tied parameters:\n",
      "+++++++++++++++++++++++++++++++++++++++++++++++++++++++++++++++++\n",
      "gas_component           name        flux       err      V     sig\n",
      "+++++++++++++++++++++++++++++++++++++++++++++++++++++++++++++++++\n",
      "Comp:  1             Hbeta_(1)      244.4       3.6    -235    20\n",
      "Comp:  1      [OIII]5007_d_(1)      66.37       4.5    -235    20\n",
      "-----------------------------------------------------------------\n",
      "differential_evolution step 1: f(x)= 6026.56\n"
     ]
    },
    {
     "name": "stderr",
     "output_type": "stream",
     "text": [
      " 86%|████████▌ | 24/28 [00:09<00:01,  3.57it/s]"
     ]
    },
    {
     "name": "stdout",
     "output_type": "stream",
     "text": [
      "differential_evolution step 2: f(x)= 5979.46\n",
      "differential_evolution step 3: f(x)= 5979.46\n",
      " Best Fit:       Vel     sigma\n",
      " comp.  0:      -244        20\n",
      " comp.  1:      -239        39\n",
      "chi2/DOF: 2.423; DOF: 2460; degree = 8; mdegree = 0\n",
      "Global search - Func calls: 120\n",
      "method = capfit; Jac calls: 3; Func calls: 11; Status: 2\n",
      "linear_method = lsq_box; Nonzero Templates (>0.1%): 3/3\n",
      "Templates weights:\n",
      "     0.885       264      74.8\n",
      "Tied parameters:\n",
      "+++++++++++++++++++++++++++++++++++++++++++++++++++++++++++++++++\n",
      "gas_component           name        flux       err      V     sig\n",
      "+++++++++++++++++++++++++++++++++++++++++++++++++++++++++++++++++\n",
      "Comp:  1             Hbeta_(1)      263.8       4.3    -239    39\n",
      "Comp:  1      [OIII]5007_d_(1)      99.52       5.4    -239    39\n",
      "-----------------------------------------------------------------\n"
     ]
    },
    {
     "name": "stderr",
     "output_type": "stream",
     "text": [
      " 89%|████████▉ | 25/28 [00:09<00:00,  3.59it/s]"
     ]
    },
    {
     "name": "stdout",
     "output_type": "stream",
     "text": [
      "differential_evolution step 1: f(x)= 1797.64\n",
      "differential_evolution step 2: f(x)= 1752.94\n",
      "differential_evolution step 3: f(x)= 1752.71\n",
      " Best Fit:       Vel     sigma\n",
      " comp.  0:      -208        21\n",
      " comp.  1:      -204        35\n",
      "chi2/DOF: 0.7122; DOF: 2460; degree = 8; mdegree = 0\n",
      "Global search - Func calls: 120\n",
      "method = capfit; Jac calls: 2; Func calls: 8; Status: 2\n",
      "linear_method = lsq_box; Nonzero Templates (>0.1%): 3/3\n",
      "Templates weights:\n",
      "     0.972       134      30.1\n",
      "Tied parameters:\n",
      "+++++++++++++++++++++++++++++++++++++++++++++++++++++++++++++++++\n",
      "gas_component           name        flux       err      V     sig\n",
      "+++++++++++++++++++++++++++++++++++++++++++++++++++++++++++++++++\n",
      "Comp:  1             Hbeta_(1)      134.0       4.1    -204    35\n",
      "Comp:  1      [OIII]5007_d_(1)      40.08       5.2    -204    35\n",
      "-----------------------------------------------------------------\n"
     ]
    },
    {
     "name": "stderr",
     "output_type": "stream",
     "text": [
      " 93%|█████████▎| 26/28 [00:09<00:00,  4.19it/s]"
     ]
    },
    {
     "name": "stdout",
     "output_type": "stream",
     "text": [
      "differential_evolution step 1: f(x)= 6990.34\n",
      " Best Fit:       Vel     sigma\n",
      " comp.  0:      -257        20\n",
      " comp.  1:      -272        98\n",
      "chi2/DOF: 2.841; DOF: 2460; degree = 8; mdegree = 0\n",
      "Global search - Func calls: 60\n",
      "method = capfit; Jac calls: 2; Func calls: 8; Status: 2\n",
      "linear_method = lsq_box; Nonzero Templates (>0.1%): 2/3\n",
      "Templates weights:\n",
      "     0.662       114         0\n",
      "Tied parameters:\n",
      "+++++++++++++++++++++++++++++++++++++++++++++++++++++++++++++++++\n",
      "gas_component           name        flux       err      V     sig\n",
      "+++++++++++++++++++++++++++++++++++++++++++++++++++++++++++++++++\n",
      "Comp:  1             Hbeta_(1)      114.5       6.3    -272    98\n",
      "Comp:  1      [OIII]5007_d_(1)      0.000       7.9    -272    98\n",
      "-----------------------------------------------------------------\n",
      "differential_evolution step 1: f(x)= 1757.13\n"
     ]
    },
    {
     "name": "stderr",
     "output_type": "stream",
     "text": [
      " 96%|█████████▋| 27/28 [00:09<00:00,  4.39it/s]"
     ]
    },
    {
     "name": "stdout",
     "output_type": "stream",
     "text": [
      " Best Fit:       Vel     sigma\n",
      " comp.  0:      -215        20\n",
      " comp.  1:      -202        32\n",
      "chi2/DOF: 0.7118; DOF: 2460; degree = 8; mdegree = 0\n",
      "Global search - Func calls: 60\n",
      "method = capfit; Jac calls: 5; Func calls: 17; Status: 2\n",
      "linear_method = lsq_box; Nonzero Templates (>0.1%): 3/3\n",
      "Templates weights:\n",
      "     0.663        45      9.33\n",
      "Tied parameters:\n",
      "+++++++++++++++++++++++++++++++++++++++++++++++++++++++++++++++++\n",
      "gas_component           name        flux       err      V     sig\n",
      "+++++++++++++++++++++++++++++++++++++++++++++++++++++++++++++++++\n",
      "Comp:  1             Hbeta_(1)      45.05       4.0    -202    32\n",
      "Comp:  1      [OIII]5007_d_(1)      12.41       5.0    -202    32\n",
      "-----------------------------------------------------------------\n",
      "differential_evolution step 1: f(x)= 1241.1\n",
      "differential_evolution step 2: f(x)= 1180.99\n"
     ]
    },
    {
     "name": "stderr",
     "output_type": "stream",
     "text": [
      "100%|██████████| 28/28 [00:09<00:00,  2.81it/s]"
     ]
    },
    {
     "name": "stdout",
     "output_type": "stream",
     "text": [
      "differential_evolution step 3: f(x)= 1180.99\n",
      "differential_evolution step 4: f(x)= 1180.99\n",
      " Best Fit:       Vel     sigma\n",
      " comp.  0:      -221        20\n",
      " comp.  1:      -209        37\n",
      "chi2/DOF: 0.4797; DOF: 2460; degree = 8; mdegree = 0\n",
      "Global search - Func calls: 150\n",
      "method = capfit; Jac calls: 2; Func calls: 8; Status: 2\n",
      "linear_method = lsq_box; Nonzero Templates (>0.1%): 3/3\n",
      "Templates weights:\n",
      "     0.894       156      52.7\n",
      "Tied parameters:\n",
      "+++++++++++++++++++++++++++++++++++++++++++++++++++++++++++++++++\n",
      "gas_component           name        flux       err      V     sig\n",
      "+++++++++++++++++++++++++++++++++++++++++++++++++++++++++++++++++\n",
      "Comp:  1             Hbeta_(1)      155.9       4.2    -209    37\n",
      "Comp:  1      [OIII]5007_d_(1)      70.15       5.3    -209    37\n",
      "-----------------------------------------------------------------\n"
     ]
    },
    {
     "name": "stderr",
     "output_type": "stream",
     "text": [
      "\n"
     ]
    }
   ],
   "source": [
    "PP_box = []\n",
    "for i in tqdm(range(len(VNB[2]))):\n",
    "        galaxy = VNB_spectrum_new[:,i]\n",
    "        noise = np.ones_like(galaxy)\n",
    "\n",
    "        template = optimal_templates_VNB[:,i]\n",
    "        stars_gas_templates = np.column_stack([template, gas_templates])\n",
    "\n",
    "        component = [0] + [1]*2\n",
    "        gas_component=np.array(component) > 0\n",
    "        moments = [-2, 2]\n",
    "        ncomp = len(moments)\n",
    "        tied = [['', ''] for _ in range(ncomp)]\n",
    "\n",
    "        start = [[velfield_VNB[i], sigfield_VNB[i]],\n",
    "        [velfield_VNB[i], 50]]\n",
    "        # start = [[0, 50],\n",
    "        # [0, 200]]\n",
    "\n",
    "        vlim = lambda x: velfield_VNB[i] + x*np.array([-100, 100])\n",
    "        bounds = [[vlim(2), [20, 300]],\n",
    "                  [vlim(2), [20, 100]]]\n",
    "\n",
    "        pp = ppxf(stars_gas_templates, galaxy, noise, velscale, start,\n",
    "            plot=False,\n",
    "            moments=moments, degree=8, mdegree=-1,\n",
    "            component=component, \n",
    "            gas_component=gas_component, gas_names=gas_names,\n",
    "            lam=lam_gal_new, lam_temp=sps.lam_temp, tied=tied,\n",
    "            bounds=bounds,\n",
    "            global_search=True)\n",
    "        \n",
    "        PP_box += [pp]"
   ]
  },
  {
   "cell_type": "code",
   "execution_count": 199,
   "metadata": {},
   "outputs": [],
   "source": [
    "def CK_SpFT(I_index):\n",
    "    K_index = I_index\n",
    "\n",
    "    lam_gal = lam_gal_new.copy()\n",
    "    for i in range(len(lam_gal)):\n",
    "        lam_gal[i] = lam_gal[i]/(1+(PP_box[K_index].sol[0][0]/c))\n",
    "\n",
    "    fig, ax = plt.subplots(1, 1, facecolor='white', figsize=(16,12), dpi=300, tight_layout=True)\n",
    "    gs1 = gridspec.GridSpec(1, 1)\n",
    "    gs1.update(left=0.05, right=.95, bottom=0.65, top=0.95, hspace=0.0)\n",
    "    ax1 = plt.subplot(gs1[0])\n",
    "\n",
    "    gs2 = gridspec.GridSpec(1, 1)\n",
    "    gs2.update(left=0.05, right=.95, bottom=0.35, top=0.65, hspace=0.0)\n",
    "    ax2 = plt.subplot(gs2[0])\n",
    "\n",
    "    gs3 = gridspec.GridSpec(1, 1)\n",
    "    gs3.update(left=0.05, right=.95, bottom=0.05, top=0.35, hspace=0.0)\n",
    "    ax3 = plt.subplot(gs3[0])\n",
    "\n",
    "\n",
    "# -------------------------------------------------------------------------------------------------------------------------------------\n",
    "\n",
    "    ax1.plot(lam_gal,VNB_spectrum_new[:,I_index], c='tab:blue', lw=1, alpha=.9, label=galaxy_name+'\\npixel:[{:}]'.format(I_index))\n",
    "    ax1.plot(lam_gal,Bestfitfield_VNB[:,I_index], '--', c='tab:red', alpha=.9)\n",
    "\n",
    "    for i in Index_use:\n",
    "        LHS = Index_Wave.loc[i,'CBP_range'][0]\n",
    "        RHS = Index_Wave.loc[i,'CBP_range'][1]\n",
    "        ax1.fill([LHS,RHS,RHS,LHS], [1000,1000,-10000,-1000], color='tab:gray', alpha=.5, zorder = 0)\n",
    "        ax2.fill([LHS,RHS,RHS,LHS], [1000,1000,-10000,-1000], color='tab:gray', alpha=.5, zorder = 0)\n",
    "        ax3.fill([LHS,RHS,RHS,LHS], [1000,1000,-10000,-1000], color='tab:gray', alpha=.5, zorder = 0)\n",
    "\n",
    "    for i in Index_use:\n",
    "        LHS = Index_Wave.loc[i,'BPC_range'][0]\n",
    "        RHS = Index_Wave.loc[i,'BPC_range'][1]\n",
    "        ax1.fill([LHS,RHS,RHS,LHS], [1000,1000,-10000,-1000], color='tab:gray', alpha=.3, zorder = 0)\n",
    "        ax2.fill([LHS,RHS,RHS,LHS], [1000,1000,-10000,-1000], color='tab:gray', alpha=.3, zorder = 0)\n",
    "        ax3.fill([LHS,RHS,RHS,LHS], [1000,1000,-10000,-1000], color='tab:gray', alpha=.3, zorder = 0)\n",
    "    for i in Index_use:\n",
    "        LHS = Index_Wave.loc[i,'RPC_range'][0]\n",
    "        RHS = Index_Wave.loc[i,'RPC_range'][1]\n",
    "        ax1.fill([LHS,RHS,RHS,LHS], [1000,1000,-10000,-1000], color='tab:gray', alpha=.3, zorder = 0)\n",
    "        ax2.fill([LHS,RHS,RHS,LHS], [1000,1000,-10000,-1000], color='tab:gray', alpha=.3, zorder = 0)\n",
    "        ax3.fill([LHS,RHS,RHS,LHS], [1000,1000,-10000,-1000], color='tab:gray', alpha=.3, zorder = 0)\n",
    "\n",
    "    for i in [0]:\n",
    "        ax1.plot(lam_gal, PP_box[K_index].gas_bestfit_templates[:,i], color='tab:orange', zorder = 1, alpha=.9)\n",
    "\n",
    "    for i in [1]:\n",
    "        ax1.plot(lam_gal, PP_box[K_index].gas_bestfit_templates[:,i], color='tab:purple', zorder = 1, alpha=.9)\n",
    "\n",
    "    ax1.plot(lam_gal,PP_box[K_index].bestfit, '-', lw=.7, c='tab:red')\n",
    "\n",
    "\n",
    "# -------------------------------------------------------------------------------------------------------------------------------------\n",
    "\n",
    "    ax2.plot(lam_gal, np.zeros(lam_gal.shape), '-', color='k', lw=.7, alpha=.9, zorder = 0)\n",
    "    ax2.plot(lam_gal, [np.median(VNB_spectrum_new[:,I_index]-PP_box[K_index].bestfit)]*lam_gal.shape[0], '--', color='tab:blue', lw=1, alpha=.9, zorder = 1)\n",
    "    MPSig = np.median(VNB_spectrum_new[:,I_index]-PP_box[K_index].bestfit) + np.std(VNB_spectrum_new[:,I_index]-PP_box[K_index].bestfit)\n",
    "    MMSig = np.median(VNB_spectrum_new[:,I_index]-PP_box[K_index].bestfit) - np.std(VNB_spectrum_new[:,I_index]-PP_box[K_index].bestfit)\n",
    "    ax2.fill([min(lam_gal), max(lam_gal), max(lam_gal), min(lam_gal)], [MPSig, MPSig, MMSig, MMSig], color='tab:gray', alpha=.2,\n",
    "             label=r'Range:{:1.3f}$\\pm${:1.3f}'.format(np.median(VNB_spectrum_new[:,I_index]-PP_box[K_index].bestfit), np.std(VNB_spectrum_new[:,I_index]-PP_box[K_index].bestfit)), zorder=1)\n",
    "    ax2.plot(lam_gal, VNB_spectrum_new[:,I_index]-PP_box[K_index].bestfit, '+', ms=2, mew=3, color='tab:green', alpha=.9, zorder=2)\n",
    "\n",
    "# -------------------------------------------------------------------------------------------------------------------------------------\n",
    "\n",
    "    ax3.plot(lam_gal, VNB_spectrum_new[:,I_index]-Bestfitfield_VNB[:,I_index], '+', ms=2, mew=3, color='tab:green', alpha=.9, zorder=2)\n",
    "    for i in [0]:\n",
    "        ax3.plot(lam_gal, PP_box[K_index].gas_bestfit_templates[:,i], color='tab:orange', zorder = 2, alpha=.9)\n",
    "    for i in [1]:\n",
    "        ax3.plot(lam_gal, PP_box[K_index].gas_bestfit_templates[:,i], color='tab:purple', zorder = 2, alpha=.9)\n",
    "    \n",
    "    ax3.plot(lam_gal, PP_box[K_index].gas_bestfit_templates[:,0]+PP_box[K_index].gas_bestfit_templates[:,1, ], lw=.7, color='tab:red', zorder = 2, alpha=.9)\n",
    "\n",
    "\n",
    "# -------------------------------------------------------------------------------------------------------------------------------------\n",
    "\n",
    "\n",
    "    ax1.xaxis.set_minor_locator(AutoMinorLocator(5))\n",
    "    ax1.yaxis.set_minor_locator(AutoMinorLocator(5))\n",
    "    ax1.tick_params(axis='both', which='both', labelsize='x-small', right=True, top=True, direction='in')\n",
    "    ax2.xaxis.set_minor_locator(AutoMinorLocator(5))\n",
    "    ax2.yaxis.set_minor_locator(AutoMinorLocator(5))\n",
    "    ax2.tick_params(axis='both', which='both', labelsize='x-small', right=True, top=True, direction='in')\n",
    "    ax3.xaxis.set_minor_locator(AutoMinorLocator(5))\n",
    "    ax3.yaxis.set_minor_locator(AutoMinorLocator(5))\n",
    "    ax3.tick_params(axis='both', which='both', labelsize='x-small', right=True, top=True, direction='in')\n",
    "    \n",
    "\n",
    "    # ax1.set_xlim(min(lam_gal), max(lam_gal))\n",
    "    # ax2.set_xlim(min(lam_gal), max(lam_gal))\n",
    "    # ax3.set_xlim(min(lam_gal), max(lam_gal))\n",
    "    ax1.set_xlim(4822, 5212)\n",
    "    ax2.set_xlim(4822, 5212)\n",
    "    ax3.set_xlim(4822, 5212)\n",
    "    ax1.set_ylim(0,max(VNB_spectrum_new[:,I_index])*1.1)\n",
    "    ax2.set_ylim(min(VNB_spectrum_new[:,I_index]-PP_box[K_index].bestfit)*1.2, max(VNB_spectrum_new[:,I_index]-PP_box[K_index].bestfit)*1.2)\n",
    "    ax3.set_ylim(min(VNB_spectrum_new[:,I_index]-Bestfitfield_VNB[:,I_index])*1.2, max(VNB_spectrum_new[:,I_index]-Bestfitfield_VNB[:,I_index])*1.2)\n",
    "\n",
    "    ax3.set_xlabel(r'Wave Length $[\\AA]$', size=11)\n",
    "    \n",
    "    ax1.legend()\n",
    "    ax2.legend()\n",
    "    # ax3.legend()\n",
    "    plt.show()\n",
    "    plt.savefig('E:/ProGram/Dr.Zheng/2024NAOC-IUS/Wkp/FitPlot/Fit_08[25Feb09][VCC1588RDBFit]/VNB_res/'+galaxy_name+'VNBFig[{:}].pdf'.format(K_index), format='pdf', bbox_inches='tight')\n",
    "    plt.clf()\n",
    "    plt.close()\n",
    "\n",
    "    PP_box[K_index] = []"
   ]
  },
  {
   "cell_type": "code",
   "execution_count": null,
   "metadata": {},
   "outputs": [
    {
     "name": "stderr",
     "output_type": "stream",
     "text": [
      "C:\\Users\\VacEn-WenJin\\AppData\\Local\\Temp\\ipykernel_28992\\877642042.py:11: MatplotlibDeprecationWarning: Auto-removal of overlapping axes is deprecated since 3.6 and will be removed two minor releases later; explicitly call ax.remove() as needed.\n",
      "  ax1 = plt.subplot(gs1[0])\n",
      "C:\\Users\\VacEn-WenJin\\AppData\\Local\\Temp\\ipykernel_28992\\877642042.py:106: UserWarning: Matplotlib is currently using agg, which is a non-GUI backend, so cannot show the figure.\n",
      "  plt.show()\n",
      "C:\\Users\\VacEn-WenJin\\AppData\\Local\\Temp\\ipykernel_28992\\877642042.py:107: UserWarning: This figure includes Axes that are not compatible with tight_layout, so results might be incorrect.\n",
      "  plt.savefig('E:/ProGram/Dr.Zheng/2024NAOC-IUS/Wkp/FitPlot/Fit_08[25Feb09][VCC1588RDBFit]/VNB_res/'+galaxy_name+'VNBFig[{:}].pdf'.format(K_index), format='pdf', bbox_inches='tight')\n",
      "C:\\Users\\VacEn-WenJin\\AppData\\Local\\Temp\\ipykernel_28992\\877642042.py:107: UserWarning: This figure includes Axes that are not compatible with tight_layout, so results might be incorrect.\n",
      "  plt.savefig('E:/ProGram/Dr.Zheng/2024NAOC-IUS/Wkp/FitPlot/Fit_08[25Feb09][VCC1588RDBFit]/VNB_res/'+galaxy_name+'VNBFig[{:}].pdf'.format(K_index), format='pdf', bbox_inches='tight')\n",
      "C:\\Users\\VacEn-WenJin\\AppData\\Local\\Temp\\ipykernel_28992\\877642042.py:11: MatplotlibDeprecationWarning: Auto-removal of overlapping axes is deprecated since 3.6 and will be removed two minor releases later; explicitly call ax.remove() as needed.\n",
      "  ax1 = plt.subplot(gs1[0])\n",
      "C:\\Users\\VacEn-WenJin\\AppData\\Local\\Temp\\ipykernel_28992\\877642042.py:106: UserWarning: Matplotlib is currently using agg, which is a non-GUI backend, so cannot show the figure.\n",
      "  plt.show()\n",
      "C:\\Users\\VacEn-WenJin\\AppData\\Local\\Temp\\ipykernel_28992\\877642042.py:107: UserWarning: This figure includes Axes that are not compatible with tight_layout, so results might be incorrect.\n",
      "  plt.savefig('E:/ProGram/Dr.Zheng/2024NAOC-IUS/Wkp/FitPlot/Fit_08[25Feb09][VCC1588RDBFit]/VNB_res/'+galaxy_name+'VNBFig[{:}].pdf'.format(K_index), format='pdf', bbox_inches='tight')\n",
      "C:\\Users\\VacEn-WenJin\\AppData\\Local\\Temp\\ipykernel_28992\\877642042.py:11: MatplotlibDeprecationWarning: Auto-removal of overlapping axes is deprecated since 3.6 and will be removed two minor releases later; explicitly call ax.remove() as needed.\n",
      "  ax1 = plt.subplot(gs1[0])\n",
      "C:\\Users\\VacEn-WenJin\\AppData\\Local\\Temp\\ipykernel_28992\\877642042.py:106: UserWarning: Matplotlib is currently using agg, which is a non-GUI backend, so cannot show the figure.\n",
      "  plt.show()\n",
      "C:\\Users\\VacEn-WenJin\\AppData\\Local\\Temp\\ipykernel_28992\\877642042.py:107: UserWarning: This figure includes Axes that are not compatible with tight_layout, so results might be incorrect.\n",
      "  plt.savefig('E:/ProGram/Dr.Zheng/2024NAOC-IUS/Wkp/FitPlot/Fit_08[25Feb09][VCC1588RDBFit]/VNB_res/'+galaxy_name+'VNBFig[{:}].pdf'.format(K_index), format='pdf', bbox_inches='tight')\n",
      "C:\\Users\\VacEn-WenJin\\AppData\\Local\\Temp\\ipykernel_28992\\877642042.py:11: MatplotlibDeprecationWarning: Auto-removal of overlapping axes is deprecated since 3.6 and will be removed two minor releases later; explicitly call ax.remove() as needed.\n",
      "  ax1 = plt.subplot(gs1[0])\n",
      "C:\\Users\\VacEn-WenJin\\AppData\\Local\\Temp\\ipykernel_28992\\877642042.py:106: UserWarning: Matplotlib is currently using agg, which is a non-GUI backend, so cannot show the figure.\n",
      "  plt.show()\n",
      "C:\\Users\\VacEn-WenJin\\AppData\\Local\\Temp\\ipykernel_28992\\877642042.py:107: UserWarning: This figure includes Axes that are not compatible with tight_layout, so results might be incorrect.\n",
      "  plt.savefig('E:/ProGram/Dr.Zheng/2024NAOC-IUS/Wkp/FitPlot/Fit_08[25Feb09][VCC1588RDBFit]/VNB_res/'+galaxy_name+'VNBFig[{:}].pdf'.format(K_index), format='pdf', bbox_inches='tight')\n",
      "C:\\Users\\VacEn-WenJin\\AppData\\Local\\Temp\\ipykernel_28992\\877642042.py:11: MatplotlibDeprecationWarning: Auto-removal of overlapping axes is deprecated since 3.6 and will be removed two minor releases later; explicitly call ax.remove() as needed.\n",
      "  ax1 = plt.subplot(gs1[0])\n",
      "C:\\Users\\VacEn-WenJin\\AppData\\Local\\Temp\\ipykernel_28992\\877642042.py:106: UserWarning: Matplotlib is currently using agg, which is a non-GUI backend, so cannot show the figure.\n",
      "  plt.show()\n",
      "C:\\Users\\VacEn-WenJin\\AppData\\Local\\Temp\\ipykernel_28992\\877642042.py:107: UserWarning: This figure includes Axes that are not compatible with tight_layout, so results might be incorrect.\n",
      "  plt.savefig('E:/ProGram/Dr.Zheng/2024NAOC-IUS/Wkp/FitPlot/Fit_08[25Feb09][VCC1588RDBFit]/VNB_res/'+galaxy_name+'VNBFig[{:}].pdf'.format(K_index), format='pdf', bbox_inches='tight')\n",
      "C:\\Users\\VacEn-WenJin\\AppData\\Local\\Temp\\ipykernel_28992\\877642042.py:11: MatplotlibDeprecationWarning: Auto-removal of overlapping axes is deprecated since 3.6 and will be removed two minor releases later; explicitly call ax.remove() as needed.\n",
      "  ax1 = plt.subplot(gs1[0])\n",
      "C:\\Users\\VacEn-WenJin\\AppData\\Local\\Temp\\ipykernel_28992\\877642042.py:106: UserWarning: Matplotlib is currently using agg, which is a non-GUI backend, so cannot show the figure.\n",
      "  plt.show()\n",
      "C:\\Users\\VacEn-WenJin\\AppData\\Local\\Temp\\ipykernel_28992\\877642042.py:107: UserWarning: This figure includes Axes that are not compatible with tight_layout, so results might be incorrect.\n",
      "  plt.savefig('E:/ProGram/Dr.Zheng/2024NAOC-IUS/Wkp/FitPlot/Fit_08[25Feb09][VCC1588RDBFit]/VNB_res/'+galaxy_name+'VNBFig[{:}].pdf'.format(K_index), format='pdf', bbox_inches='tight')\n",
      "C:\\Users\\VacEn-WenJin\\AppData\\Local\\Temp\\ipykernel_28992\\877642042.py:11: MatplotlibDeprecationWarning: Auto-removal of overlapping axes is deprecated since 3.6 and will be removed two minor releases later; explicitly call ax.remove() as needed.\n",
      "  ax1 = plt.subplot(gs1[0])\n",
      "C:\\Users\\VacEn-WenJin\\AppData\\Local\\Temp\\ipykernel_28992\\877642042.py:106: UserWarning: Matplotlib is currently using agg, which is a non-GUI backend, so cannot show the figure.\n",
      "  plt.show()\n",
      "C:\\Users\\VacEn-WenJin\\AppData\\Local\\Temp\\ipykernel_28992\\877642042.py:107: UserWarning: This figure includes Axes that are not compatible with tight_layout, so results might be incorrect.\n",
      "  plt.savefig('E:/ProGram/Dr.Zheng/2024NAOC-IUS/Wkp/FitPlot/Fit_08[25Feb09][VCC1588RDBFit]/VNB_res/'+galaxy_name+'VNBFig[{:}].pdf'.format(K_index), format='pdf', bbox_inches='tight')\n",
      "C:\\Users\\VacEn-WenJin\\AppData\\Local\\Temp\\ipykernel_28992\\877642042.py:11: MatplotlibDeprecationWarning: Auto-removal of overlapping axes is deprecated since 3.6 and will be removed two minor releases later; explicitly call ax.remove() as needed.\n",
      "  ax1 = plt.subplot(gs1[0])\n",
      "C:\\Users\\VacEn-WenJin\\AppData\\Local\\Temp\\ipykernel_28992\\877642042.py:106: UserWarning: Matplotlib is currently using agg, which is a non-GUI backend, so cannot show the figure.\n",
      "  plt.show()\n",
      "C:\\Users\\VacEn-WenJin\\AppData\\Local\\Temp\\ipykernel_28992\\877642042.py:107: UserWarning: This figure includes Axes that are not compatible with tight_layout, so results might be incorrect.\n",
      "  plt.savefig('E:/ProGram/Dr.Zheng/2024NAOC-IUS/Wkp/FitPlot/Fit_08[25Feb09][VCC1588RDBFit]/VNB_res/'+galaxy_name+'VNBFig[{:}].pdf'.format(K_index), format='pdf', bbox_inches='tight')\n",
      "C:\\Users\\VacEn-WenJin\\AppData\\Local\\Temp\\ipykernel_28992\\877642042.py:11: MatplotlibDeprecationWarning: Auto-removal of overlapping axes is deprecated since 3.6 and will be removed two minor releases later; explicitly call ax.remove() as needed.\n",
      "  ax1 = plt.subplot(gs1[0])\n",
      "C:\\Users\\VacEn-WenJin\\AppData\\Local\\Temp\\ipykernel_28992\\877642042.py:106: UserWarning: Matplotlib is currently using agg, which is a non-GUI backend, so cannot show the figure.\n",
      "  plt.show()\n",
      "C:\\Users\\VacEn-WenJin\\AppData\\Local\\Temp\\ipykernel_28992\\877642042.py:107: UserWarning: This figure includes Axes that are not compatible with tight_layout, so results might be incorrect.\n",
      "  plt.savefig('E:/ProGram/Dr.Zheng/2024NAOC-IUS/Wkp/FitPlot/Fit_08[25Feb09][VCC1588RDBFit]/VNB_res/'+galaxy_name+'VNBFig[{:}].pdf'.format(K_index), format='pdf', bbox_inches='tight')\n",
      "C:\\Users\\VacEn-WenJin\\AppData\\Local\\Temp\\ipykernel_28992\\877642042.py:11: MatplotlibDeprecationWarning: Auto-removal of overlapping axes is deprecated since 3.6 and will be removed two minor releases later; explicitly call ax.remove() as needed.\n",
      "  ax1 = plt.subplot(gs1[0])\n",
      "C:\\Users\\VacEn-WenJin\\AppData\\Local\\Temp\\ipykernel_28992\\877642042.py:106: UserWarning: Matplotlib is currently using agg, which is a non-GUI backend, so cannot show the figure.\n",
      "  plt.show()\n",
      "C:\\Users\\VacEn-WenJin\\AppData\\Local\\Temp\\ipykernel_28992\\877642042.py:107: UserWarning: This figure includes Axes that are not compatible with tight_layout, so results might be incorrect.\n",
      "  plt.savefig('E:/ProGram/Dr.Zheng/2024NAOC-IUS/Wkp/FitPlot/Fit_08[25Feb09][VCC1588RDBFit]/VNB_res/'+galaxy_name+'VNBFig[{:}].pdf'.format(K_index), format='pdf', bbox_inches='tight')\n",
      "C:\\Users\\VacEn-WenJin\\AppData\\Local\\Temp\\ipykernel_28992\\877642042.py:11: MatplotlibDeprecationWarning: Auto-removal of overlapping axes is deprecated since 3.6 and will be removed two minor releases later; explicitly call ax.remove() as needed.\n",
      "  ax1 = plt.subplot(gs1[0])\n",
      "C:\\Users\\VacEn-WenJin\\AppData\\Local\\Temp\\ipykernel_28992\\877642042.py:106: UserWarning: Matplotlib is currently using agg, which is a non-GUI backend, so cannot show the figure.\n",
      "  plt.show()\n",
      "C:\\Users\\VacEn-WenJin\\AppData\\Local\\Temp\\ipykernel_28992\\877642042.py:107: UserWarning: This figure includes Axes that are not compatible with tight_layout, so results might be incorrect.\n",
      "  plt.savefig('E:/ProGram/Dr.Zheng/2024NAOC-IUS/Wkp/FitPlot/Fit_08[25Feb09][VCC1588RDBFit]/VNB_res/'+galaxy_name+'VNBFig[{:}].pdf'.format(K_index), format='pdf', bbox_inches='tight')\n",
      "C:\\Users\\VacEn-WenJin\\AppData\\Local\\Temp\\ipykernel_28992\\877642042.py:11: MatplotlibDeprecationWarning: Auto-removal of overlapping axes is deprecated since 3.6 and will be removed two minor releases later; explicitly call ax.remove() as needed.\n",
      "  ax1 = plt.subplot(gs1[0])\n",
      "C:\\Users\\VacEn-WenJin\\AppData\\Local\\Temp\\ipykernel_28992\\877642042.py:106: UserWarning: Matplotlib is currently using agg, which is a non-GUI backend, so cannot show the figure.\n",
      "  plt.show()\n",
      "C:\\Users\\VacEn-WenJin\\AppData\\Local\\Temp\\ipykernel_28992\\877642042.py:107: UserWarning: This figure includes Axes that are not compatible with tight_layout, so results might be incorrect.\n",
      "  plt.savefig('E:/ProGram/Dr.Zheng/2024NAOC-IUS/Wkp/FitPlot/Fit_08[25Feb09][VCC1588RDBFit]/VNB_res/'+galaxy_name+'VNBFig[{:}].pdf'.format(K_index), format='pdf', bbox_inches='tight')\n",
      "C:\\Users\\VacEn-WenJin\\AppData\\Local\\Temp\\ipykernel_28992\\877642042.py:11: MatplotlibDeprecationWarning: Auto-removal of overlapping axes is deprecated since 3.6 and will be removed two minor releases later; explicitly call ax.remove() as needed.\n",
      "  ax1 = plt.subplot(gs1[0])\n",
      "C:\\Users\\VacEn-WenJin\\AppData\\Local\\Temp\\ipykernel_28992\\877642042.py:106: UserWarning: Matplotlib is currently using agg, which is a non-GUI backend, so cannot show the figure.\n",
      "  plt.show()\n",
      "C:\\Users\\VacEn-WenJin\\AppData\\Local\\Temp\\ipykernel_28992\\877642042.py:107: UserWarning: This figure includes Axes that are not compatible with tight_layout, so results might be incorrect.\n",
      "  plt.savefig('E:/ProGram/Dr.Zheng/2024NAOC-IUS/Wkp/FitPlot/Fit_08[25Feb09][VCC1588RDBFit]/VNB_res/'+galaxy_name+'VNBFig[{:}].pdf'.format(K_index), format='pdf', bbox_inches='tight')\n",
      "C:\\Users\\VacEn-WenJin\\AppData\\Local\\Temp\\ipykernel_28992\\877642042.py:11: MatplotlibDeprecationWarning: Auto-removal of overlapping axes is deprecated since 3.6 and will be removed two minor releases later; explicitly call ax.remove() as needed.\n",
      "  ax1 = plt.subplot(gs1[0])\n",
      "C:\\Users\\VacEn-WenJin\\AppData\\Local\\Temp\\ipykernel_28992\\877642042.py:106: UserWarning: Matplotlib is currently using agg, which is a non-GUI backend, so cannot show the figure.\n",
      "  plt.show()\n",
      "C:\\Users\\VacEn-WenJin\\AppData\\Local\\Temp\\ipykernel_28992\\877642042.py:107: UserWarning: This figure includes Axes that are not compatible with tight_layout, so results might be incorrect.\n",
      "  plt.savefig('E:/ProGram/Dr.Zheng/2024NAOC-IUS/Wkp/FitPlot/Fit_08[25Feb09][VCC1588RDBFit]/VNB_res/'+galaxy_name+'VNBFig[{:}].pdf'.format(K_index), format='pdf', bbox_inches='tight')\n",
      "C:\\Users\\VacEn-WenJin\\AppData\\Local\\Temp\\ipykernel_28992\\877642042.py:11: MatplotlibDeprecationWarning: Auto-removal of overlapping axes is deprecated since 3.6 and will be removed two minor releases later; explicitly call ax.remove() as needed.\n",
      "  ax1 = plt.subplot(gs1[0])\n",
      "C:\\Users\\VacEn-WenJin\\AppData\\Local\\Temp\\ipykernel_28992\\877642042.py:106: UserWarning: Matplotlib is currently using agg, which is a non-GUI backend, so cannot show the figure.\n",
      "  plt.show()\n",
      "C:\\Users\\VacEn-WenJin\\AppData\\Local\\Temp\\ipykernel_28992\\877642042.py:107: UserWarning: This figure includes Axes that are not compatible with tight_layout, so results might be incorrect.\n",
      "  plt.savefig('E:/ProGram/Dr.Zheng/2024NAOC-IUS/Wkp/FitPlot/Fit_08[25Feb09][VCC1588RDBFit]/VNB_res/'+galaxy_name+'VNBFig[{:}].pdf'.format(K_index), format='pdf', bbox_inches='tight')\n",
      "C:\\Users\\VacEn-WenJin\\AppData\\Local\\Temp\\ipykernel_28992\\877642042.py:11: MatplotlibDeprecationWarning: Auto-removal of overlapping axes is deprecated since 3.6 and will be removed two minor releases later; explicitly call ax.remove() as needed.\n",
      "  ax1 = plt.subplot(gs1[0])\n",
      "C:\\Users\\VacEn-WenJin\\AppData\\Local\\Temp\\ipykernel_28992\\877642042.py:106: UserWarning: Matplotlib is currently using agg, which is a non-GUI backend, so cannot show the figure.\n",
      "  plt.show()\n",
      "C:\\Users\\VacEn-WenJin\\AppData\\Local\\Temp\\ipykernel_28992\\877642042.py:107: UserWarning: This figure includes Axes that are not compatible with tight_layout, so results might be incorrect.\n",
      "  plt.savefig('E:/ProGram/Dr.Zheng/2024NAOC-IUS/Wkp/FitPlot/Fit_08[25Feb09][VCC1588RDBFit]/VNB_res/'+galaxy_name+'VNBFig[{:}].pdf'.format(K_index), format='pdf', bbox_inches='tight')\n",
      "C:\\Users\\VacEn-WenJin\\AppData\\Local\\Temp\\ipykernel_28992\\877642042.py:11: MatplotlibDeprecationWarning: Auto-removal of overlapping axes is deprecated since 3.6 and will be removed two minor releases later; explicitly call ax.remove() as needed.\n",
      "  ax1 = plt.subplot(gs1[0])\n",
      "C:\\Users\\VacEn-WenJin\\AppData\\Local\\Temp\\ipykernel_28992\\877642042.py:106: UserWarning: Matplotlib is currently using agg, which is a non-GUI backend, so cannot show the figure.\n",
      "  plt.show()\n",
      "C:\\Users\\VacEn-WenJin\\AppData\\Local\\Temp\\ipykernel_28992\\877642042.py:107: UserWarning: This figure includes Axes that are not compatible with tight_layout, so results might be incorrect.\n",
      "  plt.savefig('E:/ProGram/Dr.Zheng/2024NAOC-IUS/Wkp/FitPlot/Fit_08[25Feb09][VCC1588RDBFit]/VNB_res/'+galaxy_name+'VNBFig[{:}].pdf'.format(K_index), format='pdf', bbox_inches='tight')\n",
      "C:\\Users\\VacEn-WenJin\\AppData\\Local\\Temp\\ipykernel_28992\\877642042.py:11: MatplotlibDeprecationWarning: Auto-removal of overlapping axes is deprecated since 3.6 and will be removed two minor releases later; explicitly call ax.remove() as needed.\n",
      "  ax1 = plt.subplot(gs1[0])\n",
      "C:\\Users\\VacEn-WenJin\\AppData\\Local\\Temp\\ipykernel_28992\\877642042.py:106: UserWarning: Matplotlib is currently using agg, which is a non-GUI backend, so cannot show the figure.\n",
      "  plt.show()\n",
      "C:\\Users\\VacEn-WenJin\\AppData\\Local\\Temp\\ipykernel_28992\\877642042.py:107: UserWarning: This figure includes Axes that are not compatible with tight_layout, so results might be incorrect.\n",
      "  plt.savefig('E:/ProGram/Dr.Zheng/2024NAOC-IUS/Wkp/FitPlot/Fit_08[25Feb09][VCC1588RDBFit]/VNB_res/'+galaxy_name+'VNBFig[{:}].pdf'.format(K_index), format='pdf', bbox_inches='tight')\n",
      "C:\\Users\\VacEn-WenJin\\AppData\\Local\\Temp\\ipykernel_28992\\877642042.py:11: MatplotlibDeprecationWarning: Auto-removal of overlapping axes is deprecated since 3.6 and will be removed two minor releases later; explicitly call ax.remove() as needed.\n",
      "  ax1 = plt.subplot(gs1[0])\n",
      "C:\\Users\\VacEn-WenJin\\AppData\\Local\\Temp\\ipykernel_28992\\877642042.py:106: UserWarning: Matplotlib is currently using agg, which is a non-GUI backend, so cannot show the figure.\n",
      "  plt.show()\n",
      "C:\\Users\\VacEn-WenJin\\AppData\\Local\\Temp\\ipykernel_28992\\877642042.py:107: UserWarning: This figure includes Axes that are not compatible with tight_layout, so results might be incorrect.\n",
      "  plt.savefig('E:/ProGram/Dr.Zheng/2024NAOC-IUS/Wkp/FitPlot/Fit_08[25Feb09][VCC1588RDBFit]/VNB_res/'+galaxy_name+'VNBFig[{:}].pdf'.format(K_index), format='pdf', bbox_inches='tight')\n",
      "C:\\Users\\VacEn-WenJin\\AppData\\Local\\Temp\\ipykernel_28992\\877642042.py:11: MatplotlibDeprecationWarning: Auto-removal of overlapping axes is deprecated since 3.6 and will be removed two minor releases later; explicitly call ax.remove() as needed.\n",
      "  ax1 = plt.subplot(gs1[0])\n",
      "C:\\Users\\VacEn-WenJin\\AppData\\Local\\Temp\\ipykernel_28992\\877642042.py:106: UserWarning: Matplotlib is currently using agg, which is a non-GUI backend, so cannot show the figure.\n",
      "  plt.show()\n",
      "C:\\Users\\VacEn-WenJin\\AppData\\Local\\Temp\\ipykernel_28992\\877642042.py:107: UserWarning: This figure includes Axes that are not compatible with tight_layout, so results might be incorrect.\n",
      "  plt.savefig('E:/ProGram/Dr.Zheng/2024NAOC-IUS/Wkp/FitPlot/Fit_08[25Feb09][VCC1588RDBFit]/VNB_res/'+galaxy_name+'VNBFig[{:}].pdf'.format(K_index), format='pdf', bbox_inches='tight')\n",
      "C:\\Users\\VacEn-WenJin\\AppData\\Local\\Temp\\ipykernel_28992\\877642042.py:11: MatplotlibDeprecationWarning: Auto-removal of overlapping axes is deprecated since 3.6 and will be removed two minor releases later; explicitly call ax.remove() as needed.\n",
      "  ax1 = plt.subplot(gs1[0])\n",
      "C:\\Users\\VacEn-WenJin\\AppData\\Local\\Temp\\ipykernel_28992\\877642042.py:106: UserWarning: Matplotlib is currently using agg, which is a non-GUI backend, so cannot show the figure.\n",
      "  plt.show()\n",
      "C:\\Users\\VacEn-WenJin\\AppData\\Local\\Temp\\ipykernel_28992\\877642042.py:107: UserWarning: This figure includes Axes that are not compatible with tight_layout, so results might be incorrect.\n",
      "  plt.savefig('E:/ProGram/Dr.Zheng/2024NAOC-IUS/Wkp/FitPlot/Fit_08[25Feb09][VCC1588RDBFit]/VNB_res/'+galaxy_name+'VNBFig[{:}].pdf'.format(K_index), format='pdf', bbox_inches='tight')\n",
      "C:\\Users\\VacEn-WenJin\\AppData\\Local\\Temp\\ipykernel_28992\\877642042.py:11: MatplotlibDeprecationWarning: Auto-removal of overlapping axes is deprecated since 3.6 and will be removed two minor releases later; explicitly call ax.remove() as needed.\n",
      "  ax1 = plt.subplot(gs1[0])\n",
      "C:\\Users\\VacEn-WenJin\\AppData\\Local\\Temp\\ipykernel_28992\\877642042.py:106: UserWarning: Matplotlib is currently using agg, which is a non-GUI backend, so cannot show the figure.\n",
      "  plt.show()\n",
      "C:\\Users\\VacEn-WenJin\\AppData\\Local\\Temp\\ipykernel_28992\\877642042.py:107: UserWarning: This figure includes Axes that are not compatible with tight_layout, so results might be incorrect.\n",
      "  plt.savefig('E:/ProGram/Dr.Zheng/2024NAOC-IUS/Wkp/FitPlot/Fit_08[25Feb09][VCC1588RDBFit]/VNB_res/'+galaxy_name+'VNBFig[{:}].pdf'.format(K_index), format='pdf', bbox_inches='tight')\n",
      "C:\\Users\\VacEn-WenJin\\AppData\\Local\\Temp\\ipykernel_28992\\877642042.py:11: MatplotlibDeprecationWarning: Auto-removal of overlapping axes is deprecated since 3.6 and will be removed two minor releases later; explicitly call ax.remove() as needed.\n",
      "  ax1 = plt.subplot(gs1[0])\n",
      "C:\\Users\\VacEn-WenJin\\AppData\\Local\\Temp\\ipykernel_28992\\877642042.py:106: UserWarning: Matplotlib is currently using agg, which is a non-GUI backend, so cannot show the figure.\n",
      "  plt.show()\n",
      "C:\\Users\\VacEn-WenJin\\AppData\\Local\\Temp\\ipykernel_28992\\877642042.py:107: UserWarning: This figure includes Axes that are not compatible with tight_layout, so results might be incorrect.\n",
      "  plt.savefig('E:/ProGram/Dr.Zheng/2024NAOC-IUS/Wkp/FitPlot/Fit_08[25Feb09][VCC1588RDBFit]/VNB_res/'+galaxy_name+'VNBFig[{:}].pdf'.format(K_index), format='pdf', bbox_inches='tight')\n",
      "C:\\Users\\VacEn-WenJin\\AppData\\Local\\Temp\\ipykernel_28992\\877642042.py:11: MatplotlibDeprecationWarning: Auto-removal of overlapping axes is deprecated since 3.6 and will be removed two minor releases later; explicitly call ax.remove() as needed.\n",
      "  ax1 = plt.subplot(gs1[0])\n",
      "C:\\Users\\VacEn-WenJin\\AppData\\Local\\Temp\\ipykernel_28992\\877642042.py:106: UserWarning: Matplotlib is currently using agg, which is a non-GUI backend, so cannot show the figure.\n",
      "  plt.show()\n",
      "C:\\Users\\VacEn-WenJin\\AppData\\Local\\Temp\\ipykernel_28992\\877642042.py:107: UserWarning: This figure includes Axes that are not compatible with tight_layout, so results might be incorrect.\n",
      "  plt.savefig('E:/ProGram/Dr.Zheng/2024NAOC-IUS/Wkp/FitPlot/Fit_08[25Feb09][VCC1588RDBFit]/VNB_res/'+galaxy_name+'VNBFig[{:}].pdf'.format(K_index), format='pdf', bbox_inches='tight')\n",
      "C:\\Users\\VacEn-WenJin\\AppData\\Local\\Temp\\ipykernel_28992\\877642042.py:11: MatplotlibDeprecationWarning: Auto-removal of overlapping axes is deprecated since 3.6 and will be removed two minor releases later; explicitly call ax.remove() as needed.\n",
      "  ax1 = plt.subplot(gs1[0])\n",
      "C:\\Users\\VacEn-WenJin\\AppData\\Local\\Temp\\ipykernel_28992\\877642042.py:106: UserWarning: Matplotlib is currently using agg, which is a non-GUI backend, so cannot show the figure.\n",
      "  plt.show()\n",
      "C:\\Users\\VacEn-WenJin\\AppData\\Local\\Temp\\ipykernel_28992\\877642042.py:107: UserWarning: This figure includes Axes that are not compatible with tight_layout, so results might be incorrect.\n",
      "  plt.savefig('E:/ProGram/Dr.Zheng/2024NAOC-IUS/Wkp/FitPlot/Fit_08[25Feb09][VCC1588RDBFit]/VNB_res/'+galaxy_name+'VNBFig[{:}].pdf'.format(K_index), format='pdf', bbox_inches='tight')\n",
      "C:\\Users\\VacEn-WenJin\\AppData\\Local\\Temp\\ipykernel_28992\\877642042.py:11: MatplotlibDeprecationWarning: Auto-removal of overlapping axes is deprecated since 3.6 and will be removed two minor releases later; explicitly call ax.remove() as needed.\n",
      "  ax1 = plt.subplot(gs1[0])\n",
      "C:\\Users\\VacEn-WenJin\\AppData\\Local\\Temp\\ipykernel_28992\\877642042.py:106: UserWarning: Matplotlib is currently using agg, which is a non-GUI backend, so cannot show the figure.\n",
      "  plt.show()\n",
      "C:\\Users\\VacEn-WenJin\\AppData\\Local\\Temp\\ipykernel_28992\\877642042.py:107: UserWarning: This figure includes Axes that are not compatible with tight_layout, so results might be incorrect.\n",
      "  plt.savefig('E:/ProGram/Dr.Zheng/2024NAOC-IUS/Wkp/FitPlot/Fit_08[25Feb09][VCC1588RDBFit]/VNB_res/'+galaxy_name+'VNBFig[{:}].pdf'.format(K_index), format='pdf', bbox_inches='tight')\n",
      "C:\\Users\\VacEn-WenJin\\AppData\\Local\\Temp\\ipykernel_28992\\877642042.py:11: MatplotlibDeprecationWarning: Auto-removal of overlapping axes is deprecated since 3.6 and will be removed two minor releases later; explicitly call ax.remove() as needed.\n",
      "  ax1 = plt.subplot(gs1[0])\n",
      "C:\\Users\\VacEn-WenJin\\AppData\\Local\\Temp\\ipykernel_28992\\877642042.py:106: UserWarning: Matplotlib is currently using agg, which is a non-GUI backend, so cannot show the figure.\n",
      "  plt.show()\n",
      "C:\\Users\\VacEn-WenJin\\AppData\\Local\\Temp\\ipykernel_28992\\877642042.py:107: UserWarning: This figure includes Axes that are not compatible with tight_layout, so results might be incorrect.\n",
      "  plt.savefig('E:/ProGram/Dr.Zheng/2024NAOC-IUS/Wkp/FitPlot/Fit_08[25Feb09][VCC1588RDBFit]/VNB_res/'+galaxy_name+'VNBFig[{:}].pdf'.format(K_index), format='pdf', bbox_inches='tight')\n",
      "C:\\Users\\VacEn-WenJin\\AppData\\Local\\Temp\\ipykernel_28992\\877642042.py:11: MatplotlibDeprecationWarning: Auto-removal of overlapping axes is deprecated since 3.6 and will be removed two minor releases later; explicitly call ax.remove() as needed.\n",
      "  ax1 = plt.subplot(gs1[0])\n",
      "C:\\Users\\VacEn-WenJin\\AppData\\Local\\Temp\\ipykernel_28992\\877642042.py:106: UserWarning: Matplotlib is currently using agg, which is a non-GUI backend, so cannot show the figure.\n",
      "  plt.show()\n",
      "C:\\Users\\VacEn-WenJin\\AppData\\Local\\Temp\\ipykernel_28992\\877642042.py:107: UserWarning: This figure includes Axes that are not compatible with tight_layout, so results might be incorrect.\n",
      "  plt.savefig('E:/ProGram/Dr.Zheng/2024NAOC-IUS/Wkp/FitPlot/Fit_08[25Feb09][VCC1588RDBFit]/VNB_res/'+galaxy_name+'VNBFig[{:}].pdf'.format(K_index), format='pdf', bbox_inches='tight')\n"
     ]
    }
   ],
   "source": [
    "# for i in range(len(VNB[6])):\n",
    "#     CK_SpFT(i)"
   ]
  },
  {
   "cell_type": "markdown",
   "metadata": {},
   "source": [
    "# Data collect"
   ]
  },
  {
   "cell_type": "markdown",
   "metadata": {},
   "source": [
    "## Spectrum Index"
   ]
  },
  {
   "cell_type": "code",
   "execution_count": null,
   "metadata": {},
   "outputs": [],
   "source": [
    "class LineIndexCalculator:\n",
    "    @staticmethod\n",
    "    def _make_bins(wave, dlam):\n",
    "        \"\"\"\n",
    "        根据给定的波长和波长宽度创建波长区间\n",
    "        \n",
    "        Parameters:\n",
    "        -----------\n",
    "        wave : float\n",
    "            中心波长\n",
    "        dlam : float\n",
    "            波长区间宽度\n",
    "            \n",
    "        Returns:\n",
    "        --------\n",
    "        tuple : (起始波长, 结束波长)\n",
    "        \"\"\"\n",
    "        return (wave - dlam/2, wave + dlam/2)\n",
    "\n",
    "    def __init__(self, wave, flux, fit_wave, fit_flux, em_wave=None, em_flux_list=None, velocity_correction=0, error=None):\n",
    "        \"\"\"\n",
    "        初始化吸收线指数计算器\n",
    "        \n",
    "        Parameters:\n",
    "        -----------\n",
    "        wave : array-like\n",
    "            原始光谱的波长数组\n",
    "        flux : array-like\n",
    "            原始光谱的流量数组\n",
    "        fit_wave : array-like\n",
    "            拟合光谱的波长数组，用于计算连续谱\n",
    "        fit_flux : array-like\n",
    "            拟合光谱的流量数组，用于计算连续谱\n",
    "        em_wave : array-like, optional\n",
    "            发射线的波长数组\n",
    "        em_flux_list : array-like, optional\n",
    "            合并后的发射线光谱\n",
    "        velocity_correction : float, optional\n",
    "            速度修正值，单位为km/s，默认为0\n",
    "        error : array-like, optional\n",
    "            误差数组\n",
    "        \"\"\"\n",
    "        self.c = 299792.458  # 光速，单位为km/s\n",
    "        self.velocity = velocity_correction\n",
    "        \n",
    "        # 进行速度修正\n",
    "        self.wave = self._apply_velocity_correction(wave)\n",
    "        self.flux = flux.copy()  # 创建副本以避免修改原始数据\n",
    "        self.fit_wave = self._apply_velocity_correction(fit_wave)\n",
    "        self.fit_flux = fit_flux\n",
    "        self.error = error if error is not None else np.ones_like(flux)\n",
    "        \n",
    "        # 处理发射线\n",
    "        if em_wave is not None and em_flux_list is not None:\n",
    "            self.em_wave = self._apply_velocity_correction(em_wave)\n",
    "            self.em_flux_list = em_flux_list\n",
    "            self._subtract_emission_lines()\n",
    "    \n",
    "    def _subtract_emission_lines(self):\n",
    "        \"\"\"\n",
    "        从原始光谱中减去发射线\n",
    "        输入的em_flux_list已经是合并后的结果\n",
    "        \"\"\"\n",
    "        # 将发射线光谱重采样到原始光谱的波长网格上\n",
    "        em_flux_resampled = spectres(self.wave, self.em_wave, self.em_flux_list)\n",
    "        \n",
    "        # 从原始光谱中减去发射线\n",
    "        self.flux -= em_flux_resampled\n",
    "    \n",
    "    def _apply_velocity_correction(self, wave):\n",
    "        \"\"\"\n",
    "        应用速度修正到波长\n",
    "        \n",
    "        Parameters:\n",
    "        -----------\n",
    "        wave : array-like\n",
    "            原始波长数组\n",
    "            \n",
    "        Returns:\n",
    "        --------\n",
    "        array-like : 修正后的波长数组\n",
    "        \"\"\"\n",
    "        return wave / (1 + self.velocity/self.c)\n",
    "        \n",
    "    def define_line_windows(self, line_name):\n",
    "        \"\"\"\n",
    "        定义吸收线和连续谱窗口\n",
    "        \n",
    "        Parameters:\n",
    "        -----------\n",
    "        line_name : str\n",
    "            吸收线名称\n",
    "            \n",
    "        Returns:\n",
    "        --------\n",
    "        dict : 包含蓝端、中心和红端窗口的字典\n",
    "        \"\"\"\n",
    "        windows = {\n",
    "            'Hbeta': {\n",
    "                'blue': self._make_bins(4837.875, 20),\n",
    "                'line': self._make_bins(4862.25, 28.75),\n",
    "                'red': self._make_bins(4884.125, 15)\n",
    "            },\n",
    "            'Mgb': {\n",
    "                'blue': self._make_bins(5152.0, 18.75),\n",
    "                'line': self._make_bins(5176.375, 32.5),\n",
    "                'red': self._make_bins(5198.875, 15)\n",
    "            },\n",
    "            'Fe5015': {\n",
    "                'blue': self._make_bins(4962.125, 31.25),\n",
    "                'line': self._make_bins(5015.875, 76.25),\n",
    "                'red': self._make_bins(5059.625, 11.25)\n",
    "            }\n",
    "        }\n",
    "        return windows.get(line_name)\n",
    "\n",
    "    def calculate_pseudo_continuum(self, wave_range, flux_range):\n",
    "        \"\"\"\n",
    "        计算伪连续谱\n",
    "        \n",
    "        Parameters:\n",
    "        -----------\n",
    "        wave_range : array-like\n",
    "            波长范围\n",
    "        flux_range : array-like\n",
    "            对应的流量值\n",
    "            \n",
    "        Returns:\n",
    "        --------\n",
    "        float : 伪连续谱值\n",
    "        \"\"\"\n",
    "        return np.median(flux_range)\n",
    "\n",
    "    def calculate_index(self, line_name, return_error=False):\n",
    "        \"\"\"\n",
    "        计算吸收线指数\n",
    "        \n",
    "        Parameters:\n",
    "        -----------\n",
    "        line_name : str\n",
    "            吸收线名称 ('Hbeta', 'Mgb', 或 'Fe5015')\n",
    "        return_error : bool\n",
    "            是否返回误差\n",
    "            \n",
    "        Returns:\n",
    "        --------\n",
    "        float : 吸收线指数值\n",
    "        float : 误差值（如果return_error=True）\n",
    "        \"\"\"\n",
    "        # 获取窗口定义\n",
    "        windows = self.define_line_windows(line_name)\n",
    "        if windows is None:\n",
    "            raise ValueError(f\"未知的吸收线: {line_name}\")\n",
    "\n",
    "        # 提取各个区域的数据 - 使用拟合光谱计算连续谱\n",
    "        def get_fit_region(region):\n",
    "            mask = (self.fit_wave >= windows[region][0]) & (self.fit_wave <= windows[region][1])\n",
    "            return self.fit_wave[mask], self.fit_flux[mask]\n",
    "\n",
    "        # 提取各个区域的原始数据 - 用于计算指数\n",
    "        def get_orig_region(region):\n",
    "            mask = (self.wave >= windows[region][0]) & (self.wave <= windows[region][1])\n",
    "            return self.wave[mask], self.flux[mask], self.error[mask]\n",
    "\n",
    "        # 获取拟合光谱的连续谱区域数据\n",
    "        blue_wave_fit, blue_flux_fit = get_fit_region('blue')\n",
    "        red_wave_fit, red_flux_fit = get_fit_region('red')\n",
    "\n",
    "        # 获取原始光谱数据（已减去发射线）\n",
    "        line_wave, line_flux, line_err = get_orig_region('line')\n",
    "\n",
    "        # 检查是否有足够的点\n",
    "        if len(blue_flux_fit) < 3 or len(line_flux) < 3 or len(red_flux_fit) < 3:\n",
    "            return np.nan if not return_error else (np.nan, np.nan)\n",
    "\n",
    "        # 使用拟合光谱计算连续谱水平\n",
    "        blue_cont = self.calculate_pseudo_continuum(blue_wave_fit, blue_flux_fit)\n",
    "        red_cont = self.calculate_pseudo_continuum(red_wave_fit, red_flux_fit)\n",
    "\n",
    "        # 计算连续谱\n",
    "        wave_cont = np.array([np.mean(blue_wave_fit), np.mean(red_wave_fit)])\n",
    "        flux_cont = np.array([blue_cont, red_cont])\n",
    "        \n",
    "        # 线性插值得到中心区域的连续谱\n",
    "        cont_at_line = spectres(line_wave, wave_cont, flux_cont)\n",
    "\n",
    "        # 使用原始光谱（已减去发射线）计算指数\n",
    "        delta_lambda = np.mean(np.diff(line_wave))\n",
    "        index = np.sum((1.0 - line_flux/cont_at_line) * delta_lambda)\n",
    "\n",
    "        if return_error:\n",
    "            error = self._calculate_error(line_wave, line_flux, line_err, \n",
    "                                        cont_at_line, delta_lambda)\n",
    "            return index, error\n",
    "        \n",
    "        return index\n",
    "    \n",
    "    def _calculate_error(self, wave, flux, error, cont, delta_lambda):\n",
    "        \"\"\"\n",
    "        计算指数误差\n",
    "        \n",
    "        Parameters:\n",
    "        -----------\n",
    "        wave : array-like\n",
    "            波长数组\n",
    "        flux : array-like\n",
    "            流量数组\n",
    "        error : array-like\n",
    "            误差数组\n",
    "        cont : array-like\n",
    "            连续谱值\n",
    "        delta_lambda : float\n",
    "            波长间隔\n",
    "            \n",
    "        Returns:\n",
    "        --------\n",
    "        float : 误差值\n",
    "        \"\"\"\n",
    "        variance = np.sum((error/cont * delta_lambda)**2)\n",
    "        return np.sqrt(variance)\n",
    "\n",
    "    def plot_line_fit(self, line_name):\n",
    "        \"\"\"\n",
    "        绘制吸收线拟合结果\n",
    "        \n",
    "        Parameters:\n",
    "        -----------\n",
    "        line_name : str\n",
    "            吸收线名称\n",
    "        \"\"\"\n",
    "        windows = self.define_line_windows(line_name)\n",
    "        \n",
    "        plt.figure(figsize=(10, 6))\n",
    "        \n",
    "        # 绘制原始光谱\n",
    "        plt.plot(self.wave, self.flux, 'k-', label='Observed Spectrum')\n",
    "        \n",
    "        # 标记各个区域\n",
    "        colors = {'blue': 'b', 'line': 'g', 'red': 'r'}\n",
    "        for region, (start, end) in windows.items():\n",
    "            mask = (self.wave >= start) & (self.wave <= end)\n",
    "            plt.axvspan(start, end, alpha=0.2, color=colors[region])\n",
    "            \n",
    "        plt.xlabel('Wavelength (Å)')\n",
    "        plt.ylabel('Flux')\n",
    "        plt.title(f'{line_name} Index Measurement (v={self.velocity:.1f} km/s)')\n",
    "        plt.legend()\n",
    "        plt.grid(True, alpha=0.3)\n",
    "        plt.show()"
   ]
  },
  {
   "cell_type": "code",
   "execution_count": null,
   "metadata": {},
   "outputs": [],
   "source": [
    "optimal_templates_otp = np.ndarray(shape=optimal_templates_VNB.shape)\n",
    "\n",
    "for k_index in range(len(PP_box)):\n",
    "    i = k_index\n",
    "\n",
    "    stars_gas_templates = np.column_stack([optimal_templates_VNB[:,i], gas_templates])\n",
    "    # apoly_se = np.polyfit(lam_gal, apoly[k_index], 3)\n",
    "    apoly_se_2 = np.polyfit(lam_gal, PP_box[k_index].apoly, 3)\n",
    "    # optimal_templates_otp[:,i,j] = np.poly1d(apoly_se_2)(sps.lam_temp) + optimal_templates[:,i,j]\n",
    "    optimal_templates_otp[:,i] = (stars_gas_templates[:,0] * PP_box[k_index].weights[0]) + np.poly1d(apoly_se_2)(sps.lam_temp)"
   ]
  },
  {
   "cell_type": "code",
   "execution_count": 202,
   "metadata": {},
   "outputs": [],
   "source": [
    "H_Beta_map = np.ndarray(shape=len(VNB[6]))\n",
    "Fe_5015_map = np.ndarray(shape=len(VNB[6]))\n",
    "Mg_b_map = np.ndarray(shape=len(VNB[6]))"
   ]
  },
  {
   "cell_type": "code",
   "execution_count": 203,
   "metadata": {},
   "outputs": [
    {
     "ename": "AttributeError",
     "evalue": "'list' object has no attribute 'gas_bestfit_templates'",
     "output_type": "error",
     "traceback": [
      "\u001b[1;31m---------------------------------------------------------------------------\u001b[0m",
      "\u001b[1;31mAttributeError\u001b[0m                            Traceback (most recent call last)",
      "Cell \u001b[1;32mIn[203], line 1\u001b[0m\n\u001b[1;32m----> 1\u001b[0m \u001b[43mPP_box\u001b[49m\u001b[43m[\u001b[49m\u001b[38;5;241;43m1\u001b[39;49m\u001b[43m]\u001b[49m\u001b[38;5;241;43m.\u001b[39;49m\u001b[43mgas_bestfit_templates\u001b[49m[\u001b[38;5;241m1\u001b[39m]\n",
      "\u001b[1;31mAttributeError\u001b[0m: 'list' object has no attribute 'gas_bestfit_templates'"
     ]
    }
   ],
   "source": [
    "PP_box[1].gas_bestfit_templates[1]"
   ]
  },
  {
   "cell_type": "code",
   "execution_count": null,
   "metadata": {},
   "outputs": [],
   "source": [
    "fig, ax = plt.subplots(1, 1, facecolor='white', figsize=(16,4), dpi=300, tight_layout=True)\n",
    "gs1 = gridspec.GridSpec(1, 1)\n",
    "gs1.update(left=0.05, right=.95, bottom=0.05, top=0.95, hspace=0.0)\n",
    "ax1 = plt.subplot(gs1[0])\n",
    "\n",
    "ax1.plot(lam_gal_new,VNB_spectrum_new[:,2], c='tab:blue', lw=1, alpha=.9)\n",
    "ax1.plot(lam_gal_new,Bestfitfield_VNB[:,2], c='tab:red')\n",
    "ax1.plot(lam_gal_new, PP_box[2].bestfit - PP_box[2].gas_bestfit_templates[:,0] - PP_box[2].gas_bestfit_templates[:,1], c='tab:green')\n",
    "\n",
    "\n",
    "ax1.xaxis.set_minor_locator(AutoMinorLocator(5))\n",
    "ax1.yaxis.set_minor_locator(AutoMinorLocator(5))\n",
    "ax1.tick_params(axis='both', which='both', labelsize='x-small', right=True, top=True, direction='in')\n",
    "\n",
    "\n",
    "ax1.set_xlabel(r'', size=11)\n",
    "ax1.set_ylabel(r'', size=11)\n",
    "\n",
    "ax1.set_ylim(20,60)\n",
    "ax1.set_xlim(4800,5250)\n",
    "ax1.set_xlabel(r'Wave Length $[\\AA]$', size=11)\n",
    "ax1.legend()\n",
    "\n",
    "# plt.savefig('./', format='pdf', bbox_inches='tight')"
   ]
  },
  {
   "cell_type": "code",
   "execution_count": null,
   "metadata": {},
   "outputs": [],
   "source": [
    "for i in range(len(VNB[6])):\n",
    "        \n",
    "        K_index = i\n",
    "        # spectrum_fit_NEL = PP_box[K_index].bestfit\n",
    "        # for k in [0,1]:\n",
    "        #     spectrum_fit_NEL = spectrum_fit_NEL - PP_box[K_index].gas_bestfit_templates[:,k]\n",
    "        spectrum_fit_NEL = PP_box[K_index].bestfit- PP_box[K_index].gas_bestfit_templates[:,0]- PP_box[K_index].gas_bestfit_templates[:,1]\n",
    "\n",
    "        wave = sps.lam_temp\n",
    "        flux = optimal_templates_VNB[:,i]\n",
    "\n",
    "        em_wave = lam_gal\n",
    "        em_flux_list = np.ndarray(shape=lam_gal.shape)\n",
    "        for em_k in [0,1]:\n",
    "                em_flux_list += PP_box[K_index].gas_bestfit[em_k]  # 使用ppxf的发射线拟合结果\n",
    "\n",
    "        calculator = LineIndexCalculator(lam_gal_new, VNB_spectrum_new[:,i],\n",
    "                                                wave, flux,\n",
    "                                                em_wave=em_wave, em_flux_list=em_flux_list,\n",
    "                                                velocity_correction=PP_box[K_index].sol[0][0])\n",
    "\n",
    "        H_Beta_map[i] = calculator.calculate_index('Hbeta')\n",
    "        Fe_5015_map[i] = calculator.calculate_index('Fe5015')\n",
    "        Mg_b_map[i] = calculator.calculate_index('Mgb')"
   ]
  },
  {
   "cell_type": "code",
   "execution_count": null,
   "metadata": {},
   "outputs": [],
   "source": [
    "# LP = np.mean([Index_Wave.loc[0,'BPC_range'][0],Index_Wave.loc[0,'BPC_range'][1]])\n",
    "# RP = np.mean([Index_Wave.loc[0,'RPC_range'][0],Index_Wave.loc[0,'RPC_range'][1]])"
   ]
  },
  {
   "cell_type": "code",
   "execution_count": null,
   "metadata": {},
   "outputs": [],
   "source": [
    "# x_wave = np.ndarray(shape=(len(lam_gal[ np.where((lam_gal>LP) & (lam_gal<RP)) ]),len(VNB[6])))\n",
    "# y_spectrum = np.ndarray(shape=(len(lam_gal[ np.where((lam_gal>LP) & (lam_gal<RP)) ]),len(VNB[6])))\n",
    "# y_SL = np.ndarray(shape=(len(lam_gal[ np.where((lam_gal>LP) & (lam_gal<RP)) ]),len(VNB[6])))"
   ]
  },
  {
   "cell_type": "code",
   "execution_count": null,
   "metadata": {},
   "outputs": [],
   "source": [
    "# for i in range(len(VNB[6])):\n",
    "        \n",
    "#         K_index = i\n",
    "#         spectrum_fit_NEL = PP_box[K_index].bestfit\n",
    "#         for k in [0,1]:\n",
    "#             spectrum_fit_NEL = spectrum_fit_NEL - PP_box[K_index].gas_bestfit_templates[:,k]\n",
    "\n",
    "#         LP = np.mean([Index_Wave.loc[0,'BPC_range'][0],Index_Wave.loc[0,'BPC_range'][1]])\n",
    "#         RP = np.mean([Index_Wave.loc[0,'RPC_range'][0],Index_Wave.loc[0,'RPC_range'][1]])\n",
    "#         LCB = Index_Wave.loc[0,'CBP_range'][0]\n",
    "#         RCB = Index_Wave.loc[0,'CBP_range'][1]\n",
    "#         LPV = np.mean(spectrum_fit_NEL[ np.where((lam_gal>Index_Wave.loc[0,'BPC_range'][0]) & (lam_gal<Index_Wave.loc[0,'BPC_range'][1])) ])\n",
    "#         RPV = np.mean(spectrum_fit_NEL[ np.where((lam_gal>Index_Wave.loc[0,'RPC_range'][0]) & (lam_gal<Index_Wave.loc[0,'RPC_range'][1])) ])\n",
    "\n",
    "#         # H_Beta_map[i,j] = np.trapz(Bestfitfield[:,i,j][ np.where((lam_gal>LP) & (lam_gal<RP)) ], lam_gal[ np.where((lam_gal>LP) & (lam_gal<RP)) ]) - np.trapz([LPV,RPV],[LP,RP])\n",
    "\n",
    "#         x_wave[:,i] = lam_gal[ np.where((lam_gal>LP) & (lam_gal<RP)) ]\n",
    "#         y_spectrum[:,i] = spectrum_fit_NEL[ np.where((lam_gal>LP) & (lam_gal<RP)) ]\n",
    "#         y_SL[:,i] = x_wave[:,i] * ((RPV-LPV)/(RP-LP)) - LP * ((RPV-LPV)/(RP-LP)) + LPV\n",
    "\n",
    "#         NS = y_SL[:,i] - y_spectrum[:,i]\n",
    "#         for k in range(len(y_SL[:,i])):\n",
    "#             NS[k] = NS[k]/y_SL[k,i]\n",
    "\n",
    "#         H_Beta_map[i] = np.trapz(NS, x_wave[:,i])"
   ]
  },
  {
   "cell_type": "code",
   "execution_count": null,
   "metadata": {},
   "outputs": [],
   "source": [
    "# #Fe 5015\n",
    "\n",
    "# LP = np.mean([Index_Wave.loc[1,'BPC_range'][0],Index_Wave.loc[1,'BPC_range'][1]])\n",
    "# RP = np.mean([Index_Wave.loc[1,'RPC_range'][0],Index_Wave.loc[1,'RPC_range'][1]])"
   ]
  },
  {
   "cell_type": "code",
   "execution_count": null,
   "metadata": {},
   "outputs": [],
   "source": [
    "# #Fe 5015\n",
    "\n",
    "# x_wave = np.ndarray(shape=(len(lam_gal[ np.where((lam_gal>LP) & (lam_gal<RP)) ]),len(VNB[6])))\n",
    "# y_spectrum = np.ndarray(shape=(len(lam_gal[ np.where((lam_gal>LP) & (lam_gal<RP)) ]),len(VNB[6])))\n",
    "# y_SL = np.ndarray(shape=(len(lam_gal[ np.where((lam_gal>LP) & (lam_gal<RP)) ]),len(VNB[6])))"
   ]
  },
  {
   "cell_type": "code",
   "execution_count": null,
   "metadata": {},
   "outputs": [],
   "source": [
    "# #Fe 5015\n",
    "\n",
    "# for i in range(len(VNB[6])):\n",
    "        \n",
    "#         K_index = i\n",
    "#         spectrum_fit_NEL = PP_box[K_index].bestfit\n",
    "#         for k in [0,1]:\n",
    "#             spectrum_fit_NEL = spectrum_fit_NEL - PP_box[K_index].gas_bestfit_templates[:,k]\n",
    "\n",
    "#         LP = np.mean([Index_Wave.loc[1,'BPC_range'][0],Index_Wave.loc[1,'BPC_range'][1]])\n",
    "#         RP = np.mean([Index_Wave.loc[1,'RPC_range'][0],Index_Wave.loc[1,'RPC_range'][1]])\n",
    "#         LCB = Index_Wave.loc[1,'CBP_range'][0]\n",
    "#         RCB = Index_Wave.loc[1,'CBP_range'][1]\n",
    "#         LPV = np.mean(spectrum_fit_NEL[ np.where((lam_gal>Index_Wave.loc[1,'BPC_range'][0]) & (lam_gal<Index_Wave.loc[1,'BPC_range'][1])) ])\n",
    "#         RPV = np.mean(spectrum_fit_NEL[ np.where((lam_gal>Index_Wave.loc[1,'RPC_range'][0]) & (lam_gal<Index_Wave.loc[1,'RPC_range'][1])) ])\n",
    "\n",
    "#         # H_Beta_map[i,j] = np.trapz(Bestfitfield[:,i,j][ np.where((lam_gal>LP) & (lam_gal<RP)) ], lam_gal[ np.where((lam_gal>LP) & (lam_gal<RP)) ]) - np.trapz([LPV,RPV],[LP,RP])\n",
    "\n",
    "#         x_wave[:,i] = lam_gal[ np.where((lam_gal>LP) & (lam_gal<RP)) ]\n",
    "#         y_spectrum[:,i] = spectrum_fit_NEL[ np.where((lam_gal>LP) & (lam_gal<RP)) ]\n",
    "#         y_SL[:,i] = x_wave[:,i] * ((RPV-LPV)/(RP-LP)) - LP * ((RPV-LPV)/(RP-LP)) + LPV\n",
    "\n",
    "#         NS = y_SL[:,i] - y_spectrum[:,i]\n",
    "#         for k in range(len(y_SL[:,i])):\n",
    "#             NS[k] = NS[k]/y_SL[k,i]\n",
    "\n",
    "#         Fe_5015_map[i] = np.trapz(NS, x_wave[:,i])"
   ]
  },
  {
   "cell_type": "code",
   "execution_count": null,
   "metadata": {},
   "outputs": [],
   "source": [
    "# #Mg b\n",
    "\n",
    "# LP = np.mean([Index_Wave.loc[2,'BPC_range'][0],Index_Wave.loc[2,'BPC_range'][1]])\n",
    "# RP = np.mean([Index_Wave.loc[2,'RPC_range'][0],Index_Wave.loc[2,'RPC_range'][1]])"
   ]
  },
  {
   "cell_type": "code",
   "execution_count": null,
   "metadata": {},
   "outputs": [],
   "source": [
    "# #Mg b\n",
    "\n",
    "# x_wave = np.ndarray(shape=(len(lam_gal[ np.where((lam_gal>LP) & (lam_gal<RP)) ]),len(VNB[6])))\n",
    "# y_spectrum = np.ndarray(shape=(len(lam_gal[ np.where((lam_gal>LP) & (lam_gal<RP)) ]),len(VNB[6])))\n",
    "# y_SL = np.ndarray(shape=(len(lam_gal[ np.where((lam_gal>LP) & (lam_gal<RP)) ]),len(VNB[6])))"
   ]
  },
  {
   "cell_type": "code",
   "execution_count": null,
   "metadata": {},
   "outputs": [],
   "source": [
    "# #Mg b\n",
    "\n",
    "# for i in range(len(VNB[6])):\n",
    "        \n",
    "#         K_index = i\n",
    "#         spectrum_fit_NEL = PP_box[K_index].bestfit\n",
    "#         for k in [0,1]:\n",
    "#             spectrum_fit_NEL = spectrum_fit_NEL - PP_box[K_index].gas_bestfit_templates[:,k]\n",
    "\n",
    "\n",
    "#         LP = np.mean([Index_Wave.loc[2,'BPC_range'][0],Index_Wave.loc[2,'BPC_range'][1]])\n",
    "#         RP = np.mean([Index_Wave.loc[2,'RPC_range'][0],Index_Wave.loc[2,'RPC_range'][1]])\n",
    "#         LCB = Index_Wave.loc[2,'CBP_range'][0]\n",
    "#         RCB = Index_Wave.loc[2,'CBP_range'][1]\n",
    "#         LPV = np.mean(spectrum_fit_NEL[ np.where((lam_gal>Index_Wave.loc[2,'BPC_range'][0]) & (lam_gal<Index_Wave.loc[2,'BPC_range'][1])) ])\n",
    "#         RPV = np.mean(spectrum_fit_NEL[ np.where((lam_gal>Index_Wave.loc[2,'RPC_range'][0]) & (lam_gal<Index_Wave.loc[2,'RPC_range'][1])) ])\n",
    "\n",
    "#         # H_Beta_map[i,j] = np.trapz(Bestfitfield[:,i,j][ np.where((lam_gal>LP) & (lam_gal<RP)) ], lam_gal[ np.where((lam_gal>LP) & (lam_gal<RP)) ]) - np.trapz([LPV,RPV],[LP,RP])\n",
    "\n",
    "#         x_wave[:,i] = lam_gal[ np.where((lam_gal>LP) & (lam_gal<RP)) ]\n",
    "#         y_spectrum[:,i] = spectrum_fit_NEL[ np.where((lam_gal>LP) & (lam_gal<RP)) ]\n",
    "#         y_SL[:,i] = x_wave[:,i] * ((RPV-LPV)/(RP-LP)) - LP * ((RPV-LPV)/(RP-LP)) + LPV\n",
    "\n",
    "#         NS = y_SL[:,i] - y_spectrum[:,i]\n",
    "#         for k in range(len(y_SL[:,i])):\n",
    "#             NS[k] = NS[k]/y_SL[k,i]\n",
    "\n",
    "#         Mg_b_map[i] = np.trapz(NS, x_wave[:,i])"
   ]
  },
  {
   "cell_type": "markdown",
   "metadata": {},
   "source": [
    "## OTP"
   ]
  },
  {
   "cell_type": "code",
   "execution_count": null,
   "metadata": {},
   "outputs": [],
   "source": [
    "names = ['Hbeta', '[OIII]5007_d']\n",
    "c_kms = 299792.458  # speed of light in km/s"
   ]
  },
  {
   "cell_type": "code",
   "execution_count": null,
   "metadata": {},
   "outputs": [],
   "source": [
    "VNB_Sol = pd.DataFrame({'H_beta_EL_value':[],'H_beta_EL_ANR':[],\n",
    "                        'O_3_5007_EL_value':[],'O_3_5007_EL_ANR':[],\n",
    "                        'Component_Sol':[],\n",
    "                        'H_beta_SI':[],'Mg_b_SI':[],'Fe_5015_SI':[],\n",
    "                        'R':[],'SNR':[],'Signal':[],'Noise':[],\n",
    "                        'K_index':[]})"
   ]
  },
  {
   "cell_type": "code",
   "execution_count": null,
   "metadata": {},
   "outputs": [],
   "source": [
    "for Index_num in range(len(VNB[2])):\n",
    "    K_index = np.where(VNB[0] == Index_num)[0]\n",
    "    dx = []\n",
    "    dy = []\n",
    "    dr = []\n",
    "\n",
    "    for k_index in K_index:\n",
    "        i = int(k_index/max(Galaxy_info.col))\n",
    "        j = k_index%max(Galaxy_info.col)\n",
    "\n",
    "        Ori_ra  = Galaxy_info.CRVAL1 + ((i)*Galaxy_info.CD1_2) + ((j)*Galaxy_info.CD1_1) + (Galaxy_info.CD1_2+Galaxy_info.CD1_1)/2\n",
    "        Ori_dec = Galaxy_info.CRVAL2 + ((i)*Galaxy_info.CD2_2) + ((j)*Galaxy_info.CD2_1) + (Galaxy_info.CD2_2+Galaxy_info.CD2_1)/2\n",
    "        O_x = (Galaxy_info.CRVAL1 + (((Galaxy_info.cube.shape[1])*Galaxy_info.CD1_2) + ((Galaxy_info.cube.shape[2])*Galaxy_info.CD1_1))/2)\n",
    "        O_y = (Galaxy_info.CRVAL2 + (((Galaxy_info.cube.shape[1])*Galaxy_info.CD2_2) + ((Galaxy_info.cube.shape[2])*Galaxy_info.CD2_1))/2)\n",
    "        dx += [Ori_ra - O_x]\n",
    "        dy += [Ori_dec - O_y]\n",
    "        dr += [np.sqrt((Ori_ra - O_x)**2 + (Ori_dec - O_y)**2)]\n",
    "    R = np.mean(dr)\n",
    "\n",
    "    rms = robust_sigma(VNB_spectrum_new[:,Index_num] - PP_box[Index_num].bestfit, zero=1)\n",
    "    for p, name in enumerate(names):\n",
    "        kk = gas_names == name + '_(1)'   # Extract first gas kinematic component\n",
    "        dlam = line_wave[kk]*Galaxy_info.velscale/c_kms   # Angstrom per pixel at line wavelength (dlam/lam = dv/c)\n",
    "        flux = (PP_box[Index_num].gas_flux[kk]*dlam)[0]  # Convert to ergs/(cm^2 s)\n",
    "        an = np.max(PP_box[Index_num].gas_bestfit_templates[:, kk])/rms\n",
    "        if(kk[0]):\n",
    "            H_Beta_EL = flux\n",
    "            H_Beta_EL_AN = an\n",
    "        if(kk[1]):\n",
    "            O_5007_EL = flux\n",
    "            O_5007_EL_AN = an\n",
    "\n",
    "    S_val = np.mean(VNB_spectrum_new[:,Index_num][ np.where((lam_gal>5075) & (lam_gal<5125)) ]/PP_box[Index_num].bestfit[ np.where((lam_gal>5075) & (lam_gal<5125)) ])\n",
    "    N_val = np.std(VNB_spectrum_new[:,Index_num][ np.where((lam_gal>5075) & (lam_gal<5125)) ]/PP_box[Index_num].bestfit[ np.where((lam_gal>5075) & (lam_gal<5125)) ])\n",
    "\n",
    "\n",
    "    VNB_Sol_lim = pd.DataFrame({'H_beta_EL_value':[H_Beta_EL],'H_beta_EL_ANR':[H_Beta_EL_AN],\n",
    "                        'O_3_5007_EL_value':[O_5007_EL],'O_3_5007_EL_ANR':[O_5007_EL_AN],\n",
    "                        'Component_Sol':[PP_box[Index_num].sol],\n",
    "                        'H_beta_SI':[H_Beta_map[Index_num]],'Mg_b_SI':[Mg_b_map[Index_num]],'Fe_5015_SI':[Fe_5015_map[Index_num]],\n",
    "                        'R':[R],'SNR':[S_val/N_val],'Signal':[S_val],'Noise':[N_val],'K_index':[K_index]})\n",
    "    VNB_Sol = TB_reindex(pd.concat([VNB_Sol, VNB_Sol_lim]))"
   ]
  },
  {
   "cell_type": "code",
   "execution_count": null,
   "metadata": {},
   "outputs": [],
   "source": [
    "VNB_Sol.to_csv('./../FitData/Fit_DS_20[25Feb05][VCC1588]/'+galaxy_name+'_VNB_SFR.csv')"
   ]
  },
  {
   "cell_type": "code",
   "execution_count": null,
   "metadata": {},
   "outputs": [],
   "source": [
    "VNB_Sol"
   ]
  }
 ],
 "metadata": {
  "kernelspec": {
   "display_name": "Ast_Base",
   "language": "python",
   "name": "python3"
  },
  "language_info": {
   "codemirror_mode": {
    "name": "ipython",
    "version": 3
   },
   "file_extension": ".py",
   "mimetype": "text/x-python",
   "name": "python",
   "nbconvert_exporter": "python",
   "pygments_lexer": "ipython3",
   "version": "3.8.19"
  }
 },
 "nbformat": 4,
 "nbformat_minor": 2
}
