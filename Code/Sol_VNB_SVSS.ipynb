{
 "cells": [
  {
   "cell_type": "code",
   "execution_count": null,
   "metadata": {},
   "outputs": [],
   "source": [
    "import numpy as np\n",
    "\n",
    "import matplotlib as mpl\n",
    "import matplotlib\n",
    "# matplotlib.use('agg')\n",
    "# matplotlib.use('TkAgg')\n",
    "# matplotlib.use('qtagg')\n",
    "import matplotlib.pyplot as plt\n",
    "import matplotlib.gridspec as gridspec\n",
    "from matplotlib.pyplot import *\n",
    "from matplotlib.ticker import (MultipleLocator, FormatStrFormatter,\n",
    "                               AutoMinorLocator)\n",
    "from math import *\n",
    "#import pandas as pd\n",
    "\n",
    "from scipy import interpolate\n",
    "from scipy.optimize import curve_fit \n",
    "\n",
    "from astropy.io import fits\n",
    "from astropy.table import Table\n",
    "from astropy.table import vstack\n",
    "from astropy.coordinates import SkyCoord, ICRS, Galactic\n",
    "# import astropy.units as u\n",
    "import astropy.units as units\n",
    "import astropy.coordinates as coord\n",
    "#from matplotlib.colors import LogNorm\n",
    "\n",
    "# from mpl_toolkits.axes_grid1 import make_axes_locatable\n",
    "# #import matplotlib.ticker as mtick\n",
    "\n",
    "\n",
    "import os\n",
    "#%matplotlib widget\n",
    "import seaborn as sns\n",
    "import os, sys\n",
    "\n",
    "\n",
    "# from astropy.io import ascii\n",
    "# from astropy.coordinates import galactocentric_frame_defaults\n",
    "\n",
    "import sklearn\n",
    "import pandas as pd\n",
    "from sklearn.neighbors import KNeighborsClassifier\n",
    "\n",
    "from scipy import interpolate\n",
    "\n",
    "import random\n",
    "from scipy import integrate\n",
    "\n",
    "\n",
    "gcolor = ['c','blue','g','r','orange', 'green','cyan']"
   ]
  },
  {
   "cell_type": "code",
   "execution_count": 2,
   "metadata": {},
   "outputs": [],
   "source": [
    "import ppxf as ppxf_package\n",
    "from ppxf.ppxf import ppxf\n",
    "import ppxf.ppxf_util as util\n",
    "import ppxf.sps_util as lib\n",
    "import sys,glob\n",
    "from pathlib import Path\n",
    "\n",
    "from ppxf.ppxf import ppxf, robust_sigma\n",
    "\n",
    "from vorbin.voronoi_2d_binning import voronoi_2d_binning\n",
    "from plotbin.display_bins import display_bins\n",
    "\n",
    "from tqdm import tqdm "
   ]
  },
  {
   "cell_type": "code",
   "execution_count": 3,
   "metadata": {},
   "outputs": [],
   "source": [
    "# from spectres.spectral_resampling import spectres"
   ]
  },
  {
   "cell_type": "code",
   "execution_count": 4,
   "metadata": {},
   "outputs": [],
   "source": [
    "def make_bins(wavs):\n",
    "    \"\"\" Given a series of wavelength points, find the edges and widths\n",
    "    of corresponding wavelength bins. \"\"\"\n",
    "    edges = np.zeros(wavs.shape[0]+1)\n",
    "    widths = np.zeros(wavs.shape[0])\n",
    "    edges[0] = wavs[0] - (wavs[1] - wavs[0])/2\n",
    "    widths[-1] = (wavs[-1] - wavs[-2])\n",
    "    edges[-1] = wavs[-1] + (wavs[-1] - wavs[-2])/2\n",
    "    edges[1:-1] = (wavs[1:] + wavs[:-1])/2\n",
    "    widths[:-1] = edges[1:-1] - edges[:-2]\n",
    "\n",
    "    return edges, widths"
   ]
  },
  {
   "cell_type": "code",
   "execution_count": 5,
   "metadata": {},
   "outputs": [],
   "source": [
    "def spectres(new_wavs, spec_wavs, spec_fluxes, spec_errs=None, fill=None,\n",
    "             verbose=True):\n",
    "\n",
    "    \"\"\"\n",
    "    Function for resampling spectra (and optionally associated\n",
    "    uncertainties) onto a new wavelength basis.\n",
    "\n",
    "    Parameters\n",
    "    ----------\n",
    "\n",
    "    new_wavs : numpy.ndarray\n",
    "        Array containing the new wavelength sampling desired for the\n",
    "        spectrum or spectra.\n",
    "\n",
    "    spec_wavs : numpy.ndarray\n",
    "        1D array containing the current wavelength sampling of the\n",
    "        spectrum or spectra.\n",
    "\n",
    "    spec_fluxes : numpy.ndarray\n",
    "        Array containing spectral fluxes at the wavelengths specified in\n",
    "        spec_wavs, last dimension must correspond to the shape of\n",
    "        spec_wavs. Extra dimensions before this may be used to include\n",
    "        multiple spectra.\n",
    "\n",
    "    spec_errs : numpy.ndarray (optional)\n",
    "        Array of the same shape as spec_fluxes containing uncertainties\n",
    "        associated with each spectral flux value.\n",
    "\n",
    "    fill : float (optional)\n",
    "        Where new_wavs extends outside the wavelength range in spec_wavs\n",
    "        this value will be used as a filler in new_fluxes and new_errs.\n",
    "\n",
    "    verbose : bool (optional)\n",
    "        Setting verbose to False will suppress the default warning about\n",
    "        new_wavs extending outside spec_wavs and \"fill\" being used.\n",
    "\n",
    "    Returns\n",
    "    -------\n",
    "\n",
    "    new_fluxes : numpy.ndarray\n",
    "        Array of resampled flux values, first dimension is the same\n",
    "        length as new_wavs, other dimensions are the same as\n",
    "        spec_fluxes.\n",
    "\n",
    "    new_errs : numpy.ndarray\n",
    "        Array of uncertainties associated with fluxes in new_fluxes.\n",
    "        Only returned if spec_errs was specified.\n",
    "    \"\"\"\n",
    "\n",
    "    # Rename the input variables for clarity within the function.\n",
    "    old_wavs = spec_wavs\n",
    "    old_fluxes = spec_fluxes\n",
    "    old_errs = spec_errs\n",
    "\n",
    "    # Make arrays of edge positions and widths for the old and new bins\n",
    "\n",
    "    old_edges, old_widths = make_bins(old_wavs)\n",
    "    new_edges, new_widths = make_bins(new_wavs)\n",
    "\n",
    "    # Generate output arrays to be populated\n",
    "    new_fluxes = np.zeros(old_fluxes[..., 0].shape + new_wavs.shape)\n",
    "\n",
    "    if old_errs is not None:\n",
    "        if old_errs.shape != old_fluxes.shape:\n",
    "            raise ValueError(\"If specified, spec_errs must be the same shape \"\n",
    "                             \"as spec_fluxes.\")\n",
    "        else:\n",
    "            new_errs = np.copy(new_fluxes)\n",
    "\n",
    "    start = 0\n",
    "    stop = 0\n",
    "\n",
    "    # Calculate new flux and uncertainty values, looping over new bins\n",
    "    for j in range(new_wavs.shape[0]):\n",
    "\n",
    "        # Add filler values if new_wavs extends outside of spec_wavs\n",
    "        if (new_edges[j] < old_edges[0]) or (new_edges[j+1] > old_edges[-1]):\n",
    "            new_fluxes[..., j] = fill\n",
    "\n",
    "            if spec_errs is not None:\n",
    "                new_errs[..., j] = fill\n",
    "\n",
    "            # if (j == 0 or j == new_wavs.shape[0]-1) and verbose:\n",
    "            #     warnings.warn(\n",
    "            #         \"Spectres: new_wavs contains values outside the range \"\n",
    "            #         \"in spec_wavs, new_fluxes and new_errs will be filled \"\n",
    "            #         \"with the value set in the 'fill' keyword argument \"\n",
    "            #         \"(by default 0).\",\n",
    "            #         category=RuntimeWarning,\n",
    "            #     )\n",
    "            continue\n",
    "\n",
    "        # Find first old bin which is partially covered by the new bin\n",
    "        while old_edges[start+1] <= new_edges[j]:\n",
    "            start += 1\n",
    "\n",
    "        # Find last old bin which is partially covered by the new bin\n",
    "        while old_edges[stop+1] < new_edges[j+1]:\n",
    "            stop += 1\n",
    "\n",
    "        # If new bin is fully inside an old bin start and stop are equal\n",
    "        if stop == start:\n",
    "            new_fluxes[..., j] = old_fluxes[..., start]\n",
    "            if old_errs is not None:\n",
    "                new_errs[..., j] = old_errs[..., start]\n",
    "\n",
    "        # Otherwise multiply the first and last old bin widths by P_ij\n",
    "        else:\n",
    "            start_factor = ((old_edges[start+1] - new_edges[j])\n",
    "                            / (old_edges[start+1] - old_edges[start]))\n",
    "\n",
    "            end_factor = ((new_edges[j+1] - old_edges[stop])\n",
    "                          / (old_edges[stop+1] - old_edges[stop]))\n",
    "\n",
    "            old_widths[start] *= start_factor\n",
    "            old_widths[stop] *= end_factor\n",
    "\n",
    "            # Populate new_fluxes spectrum and uncertainty arrays\n",
    "            f_widths = old_widths[start:stop+1]*old_fluxes[..., start:stop+1]\n",
    "            new_fluxes[..., j] = np.sum(f_widths, axis=-1)\n",
    "            new_fluxes[..., j] /= np.sum(old_widths[start:stop+1])\n",
    "\n",
    "            if old_errs is not None:\n",
    "                e_wid = old_widths[start:stop+1]*old_errs[..., start:stop+1]\n",
    "\n",
    "                new_errs[..., j] = np.sqrt(np.sum(e_wid**2, axis=-1))\n",
    "                new_errs[..., j] /= np.sum(old_widths[start:stop+1])\n",
    "\n",
    "            # Put back the old bin widths to their initial values\n",
    "            old_widths[start] /= start_factor\n",
    "            old_widths[stop] /= end_factor\n",
    "\n",
    "    # If errors were supplied return both new_fluxes and new_errs.\n",
    "    if old_errs is not None:\n",
    "        return new_fluxes, new_errs\n",
    "\n",
    "    # Otherwise just return the new_fluxes spectrum array\n",
    "    else:\n",
    "        return new_fluxes"
   ]
  },
  {
   "cell_type": "code",
   "execution_count": 6,
   "metadata": {},
   "outputs": [],
   "source": [
    "# import spectres.spectral_resampling"
   ]
  },
  {
   "cell_type": "code",
   "execution_count": 7,
   "metadata": {},
   "outputs": [],
   "source": [
    "# from spectres import spectres"
   ]
  },
  {
   "cell_type": "code",
   "execution_count": 8,
   "metadata": {},
   "outputs": [],
   "source": [
    "def TB_reindex(TB_now):\n",
    "    TB_now = TB_now.reset_index()\n",
    "    TB_now = TB_now.drop(columns='index')\n",
    "    return TB_now"
   ]
  },
  {
   "cell_type": "markdown",
   "metadata": {},
   "source": [
    "# Global Setting"
   ]
  },
  {
   "cell_type": "markdown",
   "metadata": {},
   "source": [
    "## Galaxy information"
   ]
  },
  {
   "cell_type": "code",
   "execution_count": 9,
   "metadata": {},
   "outputs": [],
   "source": [
    "c = 299792.458  # spped of light [km/s]\n",
    "\n",
    "galaxy_name = 'VCC_1588'\n",
    "spectrum_filename = 'VCC1588_stack.fits'\n",
    "spectrum_z = 0.0042"
   ]
  },
  {
   "cell_type": "markdown",
   "metadata": {},
   "source": [
    "## basic fitting parameters"
   ]
  },
  {
   "cell_type": "code",
   "execution_count": 10,
   "metadata": {},
   "outputs": [],
   "source": [
    "lam_range_temp = [4800, 5230]\n",
    "redshift = spectrum_z           # redshift from\n",
    "objfile = Path('./../Ori_Data/'+spectrum_filename)"
   ]
  },
  {
   "cell_type": "code",
   "execution_count": 11,
   "metadata": {},
   "outputs": [],
   "source": [
    "# templates\n",
    "\n",
    "sps_name = 'emiles'\n",
    "ppxf_dir = Path(lib.__file__).parent\n",
    "basename = f\"spectra_{sps_name}_9.0.npz\"\n",
    "filename = ppxf_dir / 'sps_models' / basename"
   ]
  },
  {
   "cell_type": "code",
   "execution_count": 12,
   "metadata": {},
   "outputs": [],
   "source": [
    "# vel_s = c * spectrum_z\n",
    "vel_s = 0\n",
    "vel_dis_s = 40 # Set the dis v = 40 km/s"
   ]
  },
  {
   "cell_type": "markdown",
   "metadata": {},
   "source": [
    "# Data Input"
   ]
  },
  {
   "cell_type": "code",
   "execution_count": 13,
   "metadata": {},
   "outputs": [],
   "source": [
    "## Code from example\n",
    "\n",
    "class read_data_cube:\n",
    "    def __init__(self, filename, lam_range, redshift):\n",
    "        \"\"\"Read data cube, de-redshift, log rebin and compute coordinates of each spaxel.\"\"\"\n",
    "\n",
    "        self.read_fits_file(filename)\n",
    "\n",
    "        # Only use the specified rest-frame wavelength range\n",
    "        wave = self.wave/(1 + redshift)      # de-redshift the spectrum\n",
    "        w = (wave > lam_range[0]) & (wave < lam_range[1])\n",
    "        wave = wave[w]\n",
    "        cube = self.cube[w, ...]\n",
    "        cubevar = self.cubevar[w, ...]\n",
    "\n",
    "        signal = np.nanmedian(cube, 0)\n",
    "        noise = np.sqrt(np.nanmedian(cubevar, 0))\n",
    "\n",
    "        # Create coordinates centred on the brightest spaxel\n",
    "        jm = np.argmax(signal)\n",
    "        row, col = map(np.ravel, np.indices(cube.shape[-2:]))\n",
    "        x = (col - col[jm])*self.pixsize_x\n",
    "        y = (row - row[jm])*self.pixsize_y\n",
    "\n",
    "        # Transform cube into 2-dim array of spectra\n",
    "        npix = cube.shape[0]\n",
    "        spectra = cube.reshape(npix, -1)        # create array of spectra [npix, nx*ny]\n",
    "        variance = cubevar.reshape(npix, -1)    # create array of variance [npix, nx*ny]\n",
    "\n",
    "        c = 299792.458  # speed of light in km/s\n",
    "        velscale = np.min(c*np.diff(np.log(wave)))  # Preserve smallest velocity step\n",
    "        lam_range_temp = [np.min(wave), np.max(wave)]\n",
    "        spectra, ln_lam_gal, velscale = util.log_rebin(lam_range_temp, spectra, velscale=velscale)\n",
    "\n",
    "        # Coordinates and spectra only for spaxels with enough signal\n",
    "        self.spectra = spectra\n",
    "        self.variance = variance\n",
    "        self.x = x\n",
    "        self.y = y\n",
    "        self.signal = signal.ravel()\n",
    "        self.noise = noise.ravel()\n",
    "\n",
    "        self.col = col + 1   # start counting from 1\n",
    "        self.row = row + 1\n",
    "        self.velscale = velscale\n",
    "        self.ln_lam_gal = ln_lam_gal\n",
    "        self.fwhm_gal = self.fwhm_gal/(1 + redshift)\n",
    "\n",
    "        self.velfield = np.ndarray(shape=self.cube.shape[1:3])\n",
    "        self.sigfield = np.ndarray(shape=self.cube.shape[1:3])\n",
    "\n",
    "        # self.CD1_1 = self.CD1_1\n",
    "        # self.CD1_2 = self.CD1_2\n",
    "        # self.CD2_1 = self.CD2_1\n",
    "        # self.CD2_2 = self.CD2_2\n",
    "        # self.CRVAL1 = self.CRVAL1\n",
    "        # self.CRVAL2 = self.CRVAL2\n",
    "\n",
    "###############################################################################\n",
    "\n",
    "    def read_fits_file(self, filename):\n",
    "        \"\"\"\n",
    "        Read MUSE cube, noise, wavelength, spectral FWHM and pixel size.\n",
    "\n",
    "        It must return the cube and cuberr as (npix, nx, ny) and wave as (npix,)\n",
    "\n",
    "        IMPORTANT: This is not a general function! Its details depend on the\n",
    "        way the data were stored in the FITS file and the available keywords in\n",
    "        the FITS header. One may have to adapt the function to properly read\n",
    "        the FITS file under analysis.                \n",
    "        \"\"\"\n",
    "\n",
    "        Cut_LHS = 1\n",
    "        Cut_RHS = 1\n",
    "\n",
    "        hdu = fits.open(filename)\n",
    "        head = hdu[0].header\n",
    "        cube = hdu[0].data[Cut_LHS:-Cut_RHS,:,:] * (10 ** 18)\n",
    "        # cube = hdu[0].data[Cut_LHS:-Cut_RHS,:,:]\n",
    "        # cube = hdu[0].data * (10 ** 18)\n",
    "        cubevar = np.empty_like(cube)  # This file contains no errors\n",
    "\n",
    "        # Only use the specified rest-frame wavelength range\n",
    "        wave = head['CRVAL3'] + head['CD3_3']*np.arange(cube.shape[0]) + head['CD3_3']*Cut_LHS\n",
    "\n",
    "        self.cube = cube\n",
    "        self.cubevar = cubevar\n",
    "        self.wave = wave\n",
    "        \n",
    "        # self.fwhm_gal = 2.62  # Median FWHM = 2.62Å. Range: 2.51--2.88 (ESO instrument manual). \n",
    "        self.fwhm_gal = 1\n",
    "        # self.pixsize = abs(head[\"CDELT1\"])*3600    # 0.2\"\n",
    "        self.pixsize_x = abs(np.sqrt((head['CD1_1'])**2+(head['CD2_1'])**2))*3600\n",
    "        self.pixsize_y = abs(np.sqrt((head['CD1_2'])**2+(head['CD2_2'])**2))*3600\n",
    "\n",
    "        self.CD1_1 = head['CD1_1']\n",
    "        self.CD1_2 = head['CD1_2']\n",
    "        self.CD2_1 = head['CD2_1']\n",
    "        self.CD2_2 = head['CD2_2']\n",
    "        self.CRVAL1 = head['CRVAL1']\n",
    "        self.CRVAL2 = head['CRVAL2']"
   ]
  },
  {
   "cell_type": "code",
   "execution_count": 14,
   "metadata": {},
   "outputs": [],
   "source": [
    "Galaxy_info = read_data_cube(objfile, lam_range_temp, redshift)"
   ]
  },
  {
   "cell_type": "markdown",
   "metadata": {},
   "source": [
    "# Devide Voronoi bin"
   ]
  },
  {
   "cell_type": "markdown",
   "metadata": {},
   "source": [
    "## Parameters pre-set"
   ]
  },
  {
   "cell_type": "code",
   "execution_count": 15,
   "metadata": {},
   "outputs": [],
   "source": [
    "FWHM_gal = None   # set this to None to skip templates broadening\n",
    "sps = lib.sps_lib(filename, Galaxy_info.velscale, FWHM_gal, norm_range=[4827.875, 5206.375])\n",
    "# sps = lib.sps_lib(filename, Galaxy_info.velscale, FWHM_gal)"
   ]
  },
  {
   "cell_type": "code",
   "execution_count": 16,
   "metadata": {},
   "outputs": [],
   "source": [
    "npix, *reg_dim = sps.templates.shape\n",
    "sps.templates = sps.templates.reshape(npix, -1)\n",
    "sps.templates /= np.median(sps.templates) # Normalizes stellar templates by a scalar\n",
    "regul_err = 0.01 # Desired regularization error\n",
    "\n",
    "lam_range_temp = np.exp(sps.ln_lam_temp[[0, -1]])\n",
    "mask0 = util.determine_mask(Galaxy_info.ln_lam_gal, lam_range_temp, width=1000)\n",
    "# nbins = np.unique(bin_num).size\n",
    "# velbin, sigbin, lg_age_bin, metalbin, nspax = np.zeros((5, nbins))\n",
    "# optimal_templates = np.empty((npix, nbins))\n",
    "lam_gal = np.exp(Galaxy_info.ln_lam_gal)"
   ]
  },
  {
   "cell_type": "markdown",
   "metadata": {},
   "source": [
    "## SNR calculate"
   ]
  },
  {
   "cell_type": "code",
   "execution_count": 17,
   "metadata": {},
   "outputs": [],
   "source": [
    "SNR_map = np.ndarray(shape=Galaxy_info.cube.shape[1:3])"
   ]
  },
  {
   "cell_type": "code",
   "execution_count": 18,
   "metadata": {},
   "outputs": [],
   "source": [
    "Galaxy_P2P = pd.read_csv('./../FitData/Fit_DS_06[24Dec02][VCC1588]/'+galaxy_name+'_P2P_SFR.csv')\n",
    "Galaxy_P2P['Index'] = Galaxy_P2P.index"
   ]
  },
  {
   "cell_type": "code",
   "execution_count": 19,
   "metadata": {},
   "outputs": [],
   "source": [
    "for Index_num in range(len(Galaxy_P2P)):\n",
    "        POS_NL = (Galaxy_P2P.loc[Index_num,['K_index']])[0].replace('\\n', '').replace('[', '').replace(']', '').split()\n",
    "        for i in range(len(POS_NL)):\n",
    "                POS_NL[i] = int(POS_NL[i])\n",
    "        for k_index in POS_NL:\n",
    "                i = int(k_index/max(Galaxy_info.col))\n",
    "                j = k_index%max(Galaxy_info.col)\n",
    "\n",
    "                SNR_map[i,j] = Galaxy_P2P.loc[Index_num,'SNR']"
   ]
  },
  {
   "cell_type": "code",
   "execution_count": 20,
   "metadata": {},
   "outputs": [],
   "source": [
    "# def Calculater(i,j):\n",
    "#     K_index = i*max(Galaxy_info.col)+j\n",
    "#     sp = Galaxy_info.spectra[:,K_index]\n",
    "#     # x_wave = Galaxy_info.wave\n",
    "#     sp_cal = sp[ np.where( (lam_gal>5075) & (lam_gal<5125) ) ]\n",
    "#     # sp_cal = sp[ np.where( (x_wave>5075) & (x_wave<5125) ) ]\n",
    "    \n",
    "#     return (np.median(sp)/(np.std(sp)))"
   ]
  },
  {
   "cell_type": "code",
   "execution_count": 21,
   "metadata": {},
   "outputs": [],
   "source": [
    "# for i in tqdm(range(Galaxy_info.cube.shape[1])):\n",
    "#     for j in range(Galaxy_info.cube.shape[2]):\n",
    "#         SNR_map[i,j] = Calculater(i,j)"
   ]
  },
  {
   "cell_type": "markdown",
   "metadata": {},
   "source": [
    "## Bining"
   ]
  },
  {
   "cell_type": "code",
   "execution_count": 22,
   "metadata": {},
   "outputs": [],
   "source": [
    "signal = np.median(Galaxy_info.spectra[ np.where((lam_gal>5075) & (lam_gal<5125)) ] , 0)\n",
    "noise = np.std( Galaxy_info.spectra[ np.where((lam_gal>5075) & (lam_gal<5125)) ], 0)\n",
    "target_sn = 20"
   ]
  },
  {
   "cell_type": "code",
   "execution_count": 23,
   "metadata": {},
   "outputs": [],
   "source": [
    "for Index_num in range(len(Galaxy_P2P)):\n",
    "        POS_NL = (Galaxy_P2P.loc[Index_num,['K_index']])[0].replace('\\n', '').replace('[', '').replace(']', '').split()\n",
    "        for i in range(len(POS_NL)):\n",
    "                POS_NL[i] = int(POS_NL[i])\n",
    "        for k_index in POS_NL:\n",
    "                # signal[k_index] = Galaxy_P2P.loc[Index_num,'Signal']\n",
    "                signal[k_index] = 1\n",
    "                noise[k_index] = Galaxy_P2P.loc[Index_num,'Noise']\n",
    "                if noise[k_index] > 5:\n",
    "                        noise[k_index] = 2"
   ]
  },
  {
   "cell_type": "code",
   "execution_count": 24,
   "metadata": {},
   "outputs": [],
   "source": [
    "x_ary = []\n",
    "y_ary = []"
   ]
  },
  {
   "cell_type": "code",
   "execution_count": 25,
   "metadata": {},
   "outputs": [],
   "source": [
    "for i in range(Galaxy_info.cube.shape[1]):\n",
    "    for j in range(Galaxy_info.cube.shape[2]):\n",
    "        \n",
    "            Ori_ra  = Galaxy_info.CRVAL1 + ((i-1)*Galaxy_info.CD1_2) + ((j-1)*Galaxy_info.CD1_1)\n",
    "            Ori_dec = Galaxy_info.CRVAL2 + ((i-1)*Galaxy_info.CD2_2) + ((j-1)*Galaxy_info.CD2_1)\n",
    "            x_ary += [Ori_ra + ((Galaxy_info.CD1_2+Galaxy_info.CD1_1)/2)]\n",
    "            y_ary += [Ori_dec + ((Galaxy_info.CD2_2+Galaxy_info.CD2_1)/2)]"
   ]
  },
  {
   "cell_type": "code",
   "execution_count": 26,
   "metadata": {},
   "outputs": [],
   "source": [
    "VNB = voronoi_2d_binning(np.array(x_ary), np.array(y_ary), signal, noise, target_sn, plot=0)"
   ]
  },
  {
   "cell_type": "markdown",
   "metadata": {},
   "source": [
    "## Spectrum calculate"
   ]
  },
  {
   "cell_type": "code",
   "execution_count": 27,
   "metadata": {},
   "outputs": [],
   "source": [
    "def Spectrum_ReSMP(spctrum, lam_gal_wave, st, ed, v_fix):\n",
    "    Lam_gal_cpy_U = lam_gal_wave.copy()\n",
    "    for i in range(len(Lam_gal_cpy_U)):\n",
    "        Lam_gal_cpy_U[i] = Lam_gal_cpy_U[i]/(1+(v_fix/c))\n",
    "    # lam_gal = np.array(lam_gal_wave)\n",
    "    W_arg = np.arange(st, ed, (ed-st)/(len(Lam_gal_cpy_U)))\n",
    "    # W_list = []\n",
    "    # for i in range(len(lam_gal)):\n",
    "    #     W_list += [st+i*(ed-st)/(len(lam_gal_wave)-1)]\n",
    "    return spectres(W_arg, Lam_gal_cpy_U, spctrum)"
   ]
  },
  {
   "cell_type": "code",
   "execution_count": 28,
   "metadata": {},
   "outputs": [],
   "source": [
    "Lam_gal_cpy = lam_gal.copy()"
   ]
  },
  {
   "cell_type": "code",
   "execution_count": 29,
   "metadata": {},
   "outputs": [],
   "source": [
    "# lam_gal_wave_test = lam_gal\n",
    "# for i in range(len(lam_gal_wave_test)):\n",
    "#         lam_gal_wave_test[i] = lam_gal_wave_test[i]/(1+(10/c))\n",
    "\n",
    "# W_arg_test = np.arange(4820, 5210, (5210-4820)/(len(lam_gal_wave_test)))"
   ]
  },
  {
   "cell_type": "code",
   "execution_count": 30,
   "metadata": {},
   "outputs": [],
   "source": [
    "# fig, ax = plt.subplots(1, 1, facecolor='white', figsize=(16,4), dpi=150, tight_layout=True)\n",
    "# gs1 = gridspec.GridSpec(1, 1)\n",
    "# gs1.update(left=0.05, right=.95, bottom=0.05, top=0.95, hspace=0.0)\n",
    "# ax1 = plt.subplot(gs1[0])\n",
    "\n",
    "# ax1.plot(lam_gal_wave_test, Galaxy_info.spectra[:,0], alpha=.7, label='Old')\n",
    "# ax1.plot(W_arg_test, Spectrum_ReSMP(Galaxy_info.spectra[:,0], lam_gal, 4820, 5210,10), alpha=.7, label='New')\n",
    "\n",
    "\n",
    "# ax1.xaxis.set_minor_locator(AutoMinorLocator(5))\n",
    "# ax1.yaxis.set_minor_locator(AutoMinorLocator(5))\n",
    "# ax1.tick_params(axis='both', which='both', labelsize='x-small', right=True, top=True, direction='in')\n",
    "\n",
    "# # ax1.set_ylim(,)\n",
    "# # ax1.set_xlim(,)\n",
    "\n",
    "# ax1.set_xlabel(r'', size=11)\n",
    "# ax1.set_ylabel(r'', size=11)\n",
    "\n",
    "# ax1.legend()\n",
    "\n",
    "# # plt.savefig('./', format='pdf', bbox_inches='tight')"
   ]
  },
  {
   "cell_type": "code",
   "execution_count": 31,
   "metadata": {},
   "outputs": [],
   "source": [
    "Lam_gal_cpy = lam_gal.copy()\n",
    "\n",
    "VNB_spectrum = np.ndarray(shape=(Galaxy_info.spectra.shape[0], VNB[2].shape[0]))\n",
    "Spc_vel_fix = np.ndarray(shape=Galaxy_info.spectra.shape)"
   ]
  },
  {
   "cell_type": "code",
   "execution_count": 32,
   "metadata": {},
   "outputs": [],
   "source": [
    "del_v_lim = 100\n",
    "\n",
    "for Index_num in range(len(Galaxy_P2P)):\n",
    "        POS_NL = (Galaxy_P2P.loc[Index_num,['K_index']])[0].replace('\\n', '').replace('[', '').replace(']', '').split()\n",
    "        for i in range(len(POS_NL)):\n",
    "                POS_NL[i] = int(POS_NL[i])\n",
    "        for k_index in POS_NL:\n",
    "                del_v = Galaxy_P2P.loc[Index_num,'Component_Sol_00']\n",
    "                if del_v > del_v_lim:\n",
    "                        del_v = 0\n",
    "                if del_v < -del_v_lim:\n",
    "                        del_v = -0\n",
    "                Spc_vel_fix[:,k_index] += Spectrum_ReSMP(Galaxy_info.spectra[:,k_index], lam_gal_wave = Lam_gal_cpy, st=4827.875, ed=5206.375, v_fix=del_v)"
   ]
  },
  {
   "cell_type": "code",
   "execution_count": 33,
   "metadata": {},
   "outputs": [
    {
     "data": {
      "text/plain": [
       "array([88.98998008, 82.33173191, 76.2134894 , ..., 64.16145367,\n",
       "       67.75216801, 73.4810778 ])"
      ]
     },
     "execution_count": 33,
     "metadata": {},
     "output_type": "execute_result"
    }
   ],
   "source": [
    "Spc_vel_fix[:,1000]"
   ]
  },
  {
   "cell_type": "code",
   "execution_count": 34,
   "metadata": {},
   "outputs": [],
   "source": [
    "for Index_num in range(len(VNB[2])):\n",
    "    K_index = np.where(VNB[0] == Index_num)[0]\n",
    "    VNB_spectrum[:,Index_num] = np.median(Spc_vel_fix[:,K_index],1)"
   ]
  },
  {
   "cell_type": "markdown",
   "metadata": {},
   "source": [
    "# Fitting"
   ]
  },
  {
   "cell_type": "markdown",
   "metadata": {},
   "source": [
    "## FTF (First time fitting)"
   ]
  },
  {
   "cell_type": "code",
   "execution_count": 35,
   "metadata": {},
   "outputs": [],
   "source": [
    "lam_use = np.arange(4827.875, 5206.375, (5206.375-4827.875)/(len(lam_gal)))\n",
    "velscale = np.min(c*np.diff(np.log(lam_use)))\n",
    "\n",
    "VNB_spectrum_new, ln_lam_gal_new, velscale_new = util.log_rebin([4827.875, 5206.375], VNB_spectrum, velscale=velscale)"
   ]
  },
  {
   "cell_type": "code",
   "execution_count": 36,
   "metadata": {},
   "outputs": [],
   "source": [
    "sps = lib.sps_lib(filename, velscale_new, FWHM_gal, norm_range=[4827.875, 5206.375])\n",
    "\n",
    "npix, *reg_dim = sps.templates.shape\n",
    "sps.templates = sps.templates.reshape(npix, -1)\n",
    "sps.templates /= np.median(sps.templates) # Normalizes stellar templates by a scalar\n",
    "regul_err = 0.01 # Desired regularization error"
   ]
  },
  {
   "cell_type": "code",
   "execution_count": 37,
   "metadata": {},
   "outputs": [],
   "source": [
    "lam_gal_new = np.exp(ln_lam_gal_new)\n",
    "lam_range_temp = np.exp(sps.ln_lam_temp[[0, -1]])\n",
    "mask0_new = util.determine_mask(ln_lam_gal_new, lam_range_temp, width=500)"
   ]
  },
  {
   "cell_type": "code",
   "execution_count": 38,
   "metadata": {},
   "outputs": [
    {
     "data": {
      "text/plain": [
       "array([ True,  True,  True, ...,  True,  True,  True])"
      ]
     },
     "execution_count": 38,
     "metadata": {},
     "output_type": "execute_result"
    }
   ],
   "source": [
    "mask0_new"
   ]
  },
  {
   "cell_type": "code",
   "execution_count": 39,
   "metadata": {},
   "outputs": [],
   "source": [
    "velscale_ratio = 1\n",
    "# velscale = Galaxy_info.velscale\n",
    "\n",
    "velfield_VNB = np.ndarray(shape=VNB[2].shape[0])\n",
    "sigfield_VNB = np.ndarray(shape=VNB[2].shape[0])\n",
    "tempnum_VNB = np.ndarray(shape=VNB[2].shape[0])\n",
    "Bestfitfield_VNB = np.ndarray(shape=VNB_spectrum_new.shape)\n",
    "\n",
    "optimal_templates_VNB = np.ndarray(shape=(npix,VNB[2].shape[0]))"
   ]
  },
  {
   "cell_type": "code",
   "execution_count": 40,
   "metadata": {},
   "outputs": [
    {
     "name": "stderr",
     "output_type": "stream",
     "text": [
      "100%|██████████| 23/23 [00:08<00:00,  2.61it/s]\n"
     ]
    }
   ],
   "source": [
    "for i in tqdm(range(len(VNB[2]))):\n",
    "    plot_TF = True if (i == 1000) else False\n",
    "    tmpgalaxy = VNB_spectrum_new[:,i]\n",
    "    noise = np.full_like(tmpgalaxy,0.1)\n",
    "    noise = np.ones_like(tmpgalaxy)\n",
    "\n",
    "    pp = ppxf(sps.templates, tmpgalaxy, noise, velscale_new, [vel_s, vel_dis_s],\n",
    "                            plot=plot_TF,\n",
    "                            mask=mask0_new,\n",
    "                            velscale_ratio = 1,\n",
    "                            lam=lam_gal_new, lam_temp=sps.lam_temp,\n",
    "                            quiet=not plot_TF)\n",
    "                    # pp_field[i][j]=pp\n",
    "    Bestfitfield_VNB[:,i]=pp.bestfit\n",
    "\n",
    "    pp.optimal_template = sps.templates.reshape(sps.templates.shape[0], -1) @ pp.weights\n",
    "    optimal_templates_VNB[:,i] = pp.optimal_template\n",
    "    velfield_VNB[i] = pp.sol[0]\n",
    "    sigfield_VNB[i] = pp.sol[1]\n",
    "    weights = pp.weights\n",
    "    indwt = np.where(weights == np.max(weights))[0]\n",
    "    tempnum_VNB[i] = indwt[0]"
   ]
  },
  {
   "cell_type": "markdown",
   "metadata": {},
   "source": [
    "## Addtional parameters setting"
   ]
  },
  {
   "cell_type": "code",
   "execution_count": 41,
   "metadata": {},
   "outputs": [],
   "source": [
    "Index_Wave = pd.DataFrame({\n",
    "        'Index':['H_beta','Fe_5015','Mg_b','Fe_5270','Fe_5270_s'],\n",
    "        'BPC_range':[[4827.875,4847.875],[4946.500,4977.750],[5142.625,5161.375],[5233.150,5248.150],[5233.000,5250.000]],\n",
    "        'CBP_range':[[4847.875,4876.625],[4977.750,5054.000],[5160.125,5192.625],[5245.650,5285.650],[5256.500,5278.500]],\n",
    "        'RPC_range':[[4876.625,4891.625],[5054.000,5065.250],[5191.375,5206.375],[5285.650,5318.150],[5285.500,5308.000]]\n",
    "})"
   ]
  },
  {
   "cell_type": "code",
   "execution_count": 42,
   "metadata": {},
   "outputs": [],
   "source": [
    "Index_use = [0,1,2]"
   ]
  },
  {
   "cell_type": "code",
   "execution_count": 43,
   "metadata": {},
   "outputs": [
    {
     "name": "stderr",
     "output_type": "stream",
     "text": [
      "C:\\Users\\VacEn-WenJin\\AppData\\Local\\Temp\\ipykernel_25536\\267478818.py:4: MatplotlibDeprecationWarning: Auto-removal of overlapping axes is deprecated since 3.6 and will be removed two minor releases later; explicitly call ax.remove() as needed.\n",
      "  ax1 = plt.subplot(gs1[0])\n",
      "No artists with labels found to put in legend.  Note that artists whose label start with an underscore are ignored when legend() is called with no argument.\n"
     ]
    },
    {
     "data": {
      "text/plain": [
       "<matplotlib.legend.Legend at 0x27a95ea39a0>"
      ]
     },
     "execution_count": 43,
     "metadata": {},
     "output_type": "execute_result"
    }
   ],
   "source": [
    "fig, ax = plt.subplots(1, 1, facecolor='white', figsize=(16,4), dpi=300, tight_layout=True)\n",
    "gs1 = gridspec.GridSpec(1, 1)\n",
    "gs1.update(left=0.05, right=.95, bottom=0.05, top=0.95, hspace=0.0)\n",
    "ax1 = plt.subplot(gs1[0])\n",
    "\n",
    "ax1.plot(lam_gal_new,VNB_spectrum_new[:,2], c='tab:blue', lw=1, alpha=.9)\n",
    "ax1.plot(lam_gal_new,Bestfitfield_VNB[:,2], c='tab:red')\n",
    "\n",
    "for i in Index_use:\n",
    "    LHS = Index_Wave.loc[i,'CBP_range'][0]\n",
    "    RHS = Index_Wave.loc[i,'CBP_range'][1]\n",
    "    ax1.fill([LHS,RHS,RHS,LHS], [1000,1000,-10000,-1000], color='tab:gray', alpha=.5)\n",
    "\n",
    "for i in Index_use:\n",
    "    LHS = Index_Wave.loc[i,'BPC_range'][0]\n",
    "    RHS = Index_Wave.loc[i,'BPC_range'][1]\n",
    "    ax1.fill([LHS,RHS,RHS,LHS], [1000,1000,-10000,-1000], color='tab:gray', alpha=.3)\n",
    "for i in Index_use:\n",
    "    LHS = Index_Wave.loc[i,'RPC_range'][0]\n",
    "    RHS = Index_Wave.loc[i,'RPC_range'][1]\n",
    "    ax1.fill([LHS,RHS,RHS,LHS], [1000,1000,-10000,-1000], color='tab:gray', alpha=.3)\n",
    "\n",
    "\n",
    "ax1.xaxis.set_minor_locator(AutoMinorLocator(5))\n",
    "ax1.yaxis.set_minor_locator(AutoMinorLocator(5))\n",
    "ax1.tick_params(axis='both', which='both', labelsize='x-small', right=True, top=True, direction='in')\n",
    "\n",
    "\n",
    "ax1.set_xlabel(r'', size=11)\n",
    "ax1.set_ylabel(r'', size=11)\n",
    "\n",
    "ax1.set_ylim(0,80)\n",
    "# ax1.set_xlim(0,1)\n",
    "ax1.set_xlabel(r'Wave Length $[\\AA]$', size=11)\n",
    "ax1.legend()\n",
    "\n",
    "# plt.savefig('./', format='pdf', bbox_inches='tight')"
   ]
  },
  {
   "cell_type": "markdown",
   "metadata": {},
   "source": [
    "## STF"
   ]
  },
  {
   "cell_type": "code",
   "execution_count": 44,
   "metadata": {},
   "outputs": [],
   "source": [
    "lam_gal = lam_gal_new"
   ]
  },
  {
   "cell_type": "markdown",
   "metadata": {},
   "source": [
    "### STF parameters setting"
   ]
  },
  {
   "cell_type": "code",
   "execution_count": 45,
   "metadata": {},
   "outputs": [
    {
     "name": "stdout",
     "output_type": "stream",
     "text": [
      "Emission lines included in gas templates:\n",
      "['Hbeta' '[OIII]5007_d']\n"
     ]
    }
   ],
   "source": [
    "lam_range_gal = [np.min(lam_gal_new), np.max(lam_gal_new)]\n",
    "gas_templates, gas_names, line_wave = util.emission_lines(sps.ln_lam_temp, lam_range_gal, Galaxy_info.fwhm_gal)"
   ]
  },
  {
   "cell_type": "code",
   "execution_count": 46,
   "metadata": {},
   "outputs": [],
   "source": [
    "ngas_comp = 1   # I use three gas kinematic components\n",
    "gas_templates = np.tile(gas_templates, ngas_comp)\n",
    "gas_names = np.asarray([a + f\"_({p+1})\" for p in range(ngas_comp) for a in gas_names])\n",
    "line_wave = np.tile(line_wave, ngas_comp)"
   ]
  },
  {
   "cell_type": "markdown",
   "metadata": {},
   "source": [
    "### Fitting"
   ]
  },
  {
   "cell_type": "code",
   "execution_count": 47,
   "metadata": {},
   "outputs": [
    {
     "name": "stderr",
     "output_type": "stream",
     "text": [
      "  0%|          | 0/23 [00:00<?, ?it/s]"
     ]
    },
    {
     "name": "stdout",
     "output_type": "stream",
     "text": [
      "differential_evolution step 1: f(x)= 1735.7\n",
      "differential_evolution step 2: f(x)= 1473.72\n",
      "differential_evolution step 3: f(x)= 1438.49\n",
      "differential_evolution step 4: f(x)= 1438.49\n",
      "differential_evolution step 5: f(x)= 1438.49\n"
     ]
    },
    {
     "name": "stderr",
     "output_type": "stream",
     "text": [
      "  4%|▍         | 1/23 [00:00<00:11,  1.94it/s]"
     ]
    },
    {
     "name": "stdout",
     "output_type": "stream",
     "text": [
      "differential_evolution step 6: f(x)= 1437.87\n",
      " Best Fit:       Vel     sigma\n",
      " comp.  0:         3        20\n",
      " comp.  1:        -0        36\n",
      "chi2/DOF: 0.5841; DOF: 2460; degree = 8; mdegree = 0\n",
      "Global search - Func calls: 210\n",
      "method = capfit; Jac calls: 2; Func calls: 8; Status: 2\n",
      "linear_method = lsq_box; Nonzero Templates (>0.1%): 3/3\n",
      "Templates weights:\n",
      "      0.92       304      58.3\n",
      "Tied parameters:\n",
      "+++++++++++++++++++++++++++++++++++++++++++++++++++++++++++++++++\n",
      "gas_component           name        flux       err      V     sig\n",
      "+++++++++++++++++++++++++++++++++++++++++++++++++++++++++++++++++\n",
      "Comp:  1             Hbeta_(1)      303.9       4.1      -0    36\n",
      "Comp:  1      [OIII]5007_d_(1)      77.48       5.2      -0    36\n",
      "-----------------------------------------------------------------\n",
      "differential_evolution step 1: f(x)= 44352.6\n",
      "differential_evolution step 2: f(x)= 33835.1\n",
      "differential_evolution step 3: f(x)= 33835.1\n",
      "differential_evolution step 4: f(x)= 31032.9\n"
     ]
    },
    {
     "name": "stderr",
     "output_type": "stream",
     "text": [
      "  9%|▊         | 2/23 [00:01<00:12,  1.70it/s]"
     ]
    },
    {
     "name": "stdout",
     "output_type": "stream",
     "text": [
      "differential_evolution step 5: f(x)= 31032.9\n",
      "differential_evolution step 6: f(x)= 29656.6\n",
      "differential_evolution step 7: f(x)= 29641.3\n",
      " Best Fit:       Vel     sigma\n",
      " comp.  0:         8        20\n",
      " comp.  1:        31        20\n",
      "chi2/DOF: 11.92; DOF: 2460; degree = 8; mdegree = 0\n",
      "Global search - Func calls: 240\n",
      "method = capfit; Jac calls: 2; Func calls: 8; Status: 2\n",
      "linear_method = lsq_box; Nonzero Templates (>0.1%): 2/3\n",
      "Templates weights:\n",
      "     0.986  1.61e+03       946\n",
      "Tied parameters:\n",
      "+++++++++++++++++++++++++++++++++++++++++++++++++++++++++++++++++\n",
      "gas_component           name        flux       err      V     sig\n",
      "+++++++++++++++++++++++++++++++++++++++++++++++++++++++++++++++++\n",
      "Comp:  1             Hbeta_(1)      1612.       3.6      31    20\n",
      "Comp:  1      [OIII]5007_d_(1)      1258.       4.5      31    20\n",
      "-----------------------------------------------------------------\n",
      "differential_evolution step 1: f(x)= 8826.91\n",
      "differential_evolution step 2: f(x)= 7999.69\n",
      "differential_evolution step 3: f(x)= 7799.63\n",
      "differential_evolution step 4: f(x)= 7520.58\n"
     ]
    },
    {
     "name": "stderr",
     "output_type": "stream",
     "text": [
      " 13%|█▎        | 3/23 [00:01<00:10,  1.91it/s]"
     ]
    },
    {
     "name": "stdout",
     "output_type": "stream",
     "text": [
      "differential_evolution step 5: f(x)= 7459.58\n",
      " Best Fit:       Vel     sigma\n",
      " comp.  0:         3        20\n",
      " comp.  1:        -9        23\n",
      "chi2/DOF: 3.030; DOF: 2460; degree = 8; mdegree = 0\n",
      "Global search - Func calls: 180\n",
      "method = capfit; Jac calls: 2; Func calls: 8; Status: 2\n",
      "linear_method = lsq_box; Nonzero Templates (>0.1%): 3/3\n",
      "Templates weights:\n",
      "     0.864       521      71.8\n",
      "Tied parameters:\n",
      "+++++++++++++++++++++++++++++++++++++++++++++++++++++++++++++++++\n",
      "gas_component           name        flux       err      V     sig\n",
      "+++++++++++++++++++++++++++++++++++++++++++++++++++++++++++++++++\n",
      "Comp:  1             Hbeta_(1)      521.1       3.7      -9    23\n",
      "Comp:  1      [OIII]5007_d_(1)      95.56       4.6      -9    23\n",
      "-----------------------------------------------------------------\n",
      "differential_evolution step 1: f(x)= 9124.26\n"
     ]
    },
    {
     "name": "stderr",
     "output_type": "stream",
     "text": [
      " 17%|█▋        | 4/23 [00:01<00:08,  2.13it/s]"
     ]
    },
    {
     "name": "stdout",
     "output_type": "stream",
     "text": [
      "differential_evolution step 2: f(x)= 8064.21\n",
      "differential_evolution step 3: f(x)= 8064.21\n",
      "differential_evolution step 4: f(x)= 7775.45\n",
      " Best Fit:       Vel     sigma\n",
      " comp.  0:         6        20\n",
      " comp.  1:         9        25\n",
      "chi2/DOF: 3.151; DOF: 2460; degree = 8; mdegree = 0\n",
      "Global search - Func calls: 150\n",
      "method = capfit; Jac calls: 2; Func calls: 8; Status: 2\n",
      "linear_method = lsq_box; Nonzero Templates (>0.1%): 3/3\n",
      "Templates weights:\n",
      "     0.965       418       107\n",
      "Tied parameters:\n",
      "+++++++++++++++++++++++++++++++++++++++++++++++++++++++++++++++++\n",
      "gas_component           name        flux       err      V     sig\n",
      "+++++++++++++++++++++++++++++++++++++++++++++++++++++++++++++++++\n",
      "Comp:  1             Hbeta_(1)      418.3       3.7       9    25\n",
      "Comp:  1      [OIII]5007_d_(1)      142.2       4.7       9    25\n",
      "-----------------------------------------------------------------\n",
      "differential_evolution step 1: f(x)= 12033.1\n",
      "differential_evolution step 2: f(x)= 11385.3\n",
      "differential_evolution step 3: f(x)= 11232.1\n",
      "differential_evolution step 4: f(x)= 11232.1\n"
     ]
    },
    {
     "name": "stderr",
     "output_type": "stream",
     "text": [
      " 22%|██▏       | 5/23 [00:02<00:08,  2.20it/s]"
     ]
    },
    {
     "name": "stdout",
     "output_type": "stream",
     "text": [
      "differential_evolution step 5: f(x)= 11227.4\n",
      " Best Fit:       Vel     sigma\n",
      " comp.  0:         3        20\n",
      " comp.  1:       -22        30\n",
      "chi2/DOF: 4.554; DOF: 2460; degree = 8; mdegree = 0\n",
      "Global search - Func calls: 180\n",
      "method = capfit; Jac calls: 3; Func calls: 11; Status: 2\n",
      "linear_method = lsq_box; Nonzero Templates (>0.1%): 3/3\n",
      "Templates weights:\n",
      "     0.999       628       119\n",
      "Tied parameters:\n",
      "+++++++++++++++++++++++++++++++++++++++++++++++++++++++++++++++++\n",
      "gas_component           name        flux       err      V     sig\n",
      "+++++++++++++++++++++++++++++++++++++++++++++++++++++++++++++++++\n",
      "Comp:  1             Hbeta_(1)      628.4       3.9     -22    30\n",
      "Comp:  1      [OIII]5007_d_(1)      157.7       4.9     -22    30\n",
      "-----------------------------------------------------------------\n",
      "differential_evolution step 1: f(x)= 8069.11\n"
     ]
    },
    {
     "name": "stderr",
     "output_type": "stream",
     "text": [
      " 26%|██▌       | 6/23 [00:02<00:07,  2.33it/s]"
     ]
    },
    {
     "name": "stdout",
     "output_type": "stream",
     "text": [
      "differential_evolution step 2: f(x)= 7374.81\n",
      "differential_evolution step 3: f(x)= 7267.87\n",
      "differential_evolution step 4: f(x)= 7259.09\n",
      " Best Fit:       Vel     sigma\n",
      " comp.  0:         8        20\n",
      " comp.  1:         7        25\n",
      "chi2/DOF: 2.950; DOF: 2460; degree = 8; mdegree = 0\n",
      "Global search - Func calls: 150\n",
      "method = capfit; Jac calls: 4; Func calls: 14; Status: 3\n",
      "linear_method = lsq_box; Nonzero Templates (>0.1%): 3/3\n",
      "Templates weights:\n",
      "     0.933       340        70\n",
      "Tied parameters:\n",
      "+++++++++++++++++++++++++++++++++++++++++++++++++++++++++++++++++\n",
      "gas_component           name        flux       err      V     sig\n",
      "+++++++++++++++++++++++++++++++++++++++++++++++++++++++++++++++++\n",
      "Comp:  1             Hbeta_(1)      339.9       3.7       7    25\n",
      "Comp:  1      [OIII]5007_d_(1)      93.10       4.7       7    25\n",
      "-----------------------------------------------------------------\n",
      "differential_evolution step 1: f(x)= 743.951\n",
      "differential_evolution step 2: f(x)= 716.267\n",
      "differential_evolution step 3: f(x)= 716.267\n",
      "differential_evolution step 4: f(x)= 708.054\n"
     ]
    },
    {
     "name": "stderr",
     "output_type": "stream",
     "text": [
      " 30%|███       | 7/23 [00:03<00:06,  2.33it/s]"
     ]
    },
    {
     "name": "stdout",
     "output_type": "stream",
     "text": [
      "differential_evolution step 5: f(x)= 708.054\n",
      " Best Fit:       Vel     sigma\n",
      " comp.  0:         7        20\n",
      " comp.  1:        -6        36\n",
      "chi2/DOF: 0.2871; DOF: 2460; degree = 8; mdegree = 0\n",
      "Global search - Func calls: 180\n",
      "method = capfit; Jac calls: 2; Func calls: 8; Status: 2\n",
      "linear_method = lsq_box; Nonzero Templates (>0.1%): 3/3\n",
      "Templates weights:\n",
      "      1.03       144        30\n",
      "Tied parameters:\n",
      "+++++++++++++++++++++++++++++++++++++++++++++++++++++++++++++++++\n",
      "gas_component           name        flux       err      V     sig\n",
      "+++++++++++++++++++++++++++++++++++++++++++++++++++++++++++++++++\n",
      "Comp:  1             Hbeta_(1)      143.5       4.2      -6    36\n",
      "Comp:  1      [OIII]5007_d_(1)      39.86       5.2      -6    36\n",
      "-----------------------------------------------------------------\n",
      "differential_evolution step 1: f(x)= 22276.3\n"
     ]
    },
    {
     "name": "stderr",
     "output_type": "stream",
     "text": [
      " 35%|███▍      | 8/23 [00:03<00:06,  2.48it/s]"
     ]
    },
    {
     "name": "stdout",
     "output_type": "stream",
     "text": [
      "differential_evolution step 2: f(x)= 21683.2\n",
      "differential_evolution step 3: f(x)= 21683.2\n",
      "differential_evolution step 4: f(x)= 21489.8\n",
      " Best Fit:       Vel     sigma\n",
      " comp.  0:         5        20\n",
      " comp.  1:       -20        34\n",
      "chi2/DOF: 8.732; DOF: 2460; degree = 8; mdegree = 0\n",
      "Global search - Func calls: 150\n",
      "method = capfit; Jac calls: 2; Func calls: 8; Status: 2\n",
      "linear_method = lsq_box; Nonzero Templates (>0.1%): 2/3\n",
      "Templates weights:\n",
      "     0.968       845       224\n",
      "Tied parameters:\n",
      "+++++++++++++++++++++++++++++++++++++++++++++++++++++++++++++++++\n",
      "gas_component           name        flux       err      V     sig\n",
      "+++++++++++++++++++++++++++++++++++++++++++++++++++++++++++++++++\n",
      "Comp:  1             Hbeta_(1)      845.3       4.1     -20    34\n",
      "Comp:  1      [OIII]5007_d_(1)      298.4       5.1     -20    34\n",
      "-----------------------------------------------------------------\n"
     ]
    },
    {
     "name": "stderr",
     "output_type": "stream",
     "text": [
      " 39%|███▉      | 9/23 [00:03<00:04,  3.03it/s]"
     ]
    },
    {
     "name": "stdout",
     "output_type": "stream",
     "text": [
      "differential_evolution step 1: f(x)= 6554.3\n",
      " Best Fit:       Vel     sigma\n",
      " comp.  0:         7        20\n",
      " comp.  1:         9        39\n",
      "chi2/DOF: 2.621; DOF: 2460; degree = 8; mdegree = 0\n",
      "Global search - Func calls: 60\n",
      "method = capfit; Jac calls: 3; Func calls: 11; Status: 2\n",
      "linear_method = lsq_box; Nonzero Templates (>0.1%): 3/3\n",
      "Templates weights:\n",
      "      1.01       207      80.2\n",
      "Tied parameters:\n",
      "+++++++++++++++++++++++++++++++++++++++++++++++++++++++++++++++++\n",
      "gas_component           name        flux       err      V     sig\n",
      "+++++++++++++++++++++++++++++++++++++++++++++++++++++++++++++++++\n",
      "Comp:  1             Hbeta_(1)      206.9       4.3       9    39\n",
      "Comp:  1      [OIII]5007_d_(1)      106.6       5.4       9    39\n",
      "-----------------------------------------------------------------\n",
      "differential_evolution step 1: f(x)= 6862.17\n"
     ]
    },
    {
     "name": "stderr",
     "output_type": "stream",
     "text": [
      " 43%|████▎     | 10/23 [00:04<00:04,  2.95it/s]"
     ]
    },
    {
     "name": "stdout",
     "output_type": "stream",
     "text": [
      "differential_evolution step 2: f(x)= 6576.35\n",
      "differential_evolution step 3: f(x)= 6401.87\n",
      "differential_evolution step 4: f(x)= 6397.6\n",
      " Best Fit:       Vel     sigma\n",
      " comp.  0:         3        20\n",
      " comp.  1:        -8        31\n",
      "chi2/DOF: 2.598; DOF: 2460; degree = 8; mdegree = 0\n",
      "Global search - Func calls: 150\n",
      "method = capfit; Jac calls: 2; Func calls: 8; Status: 2\n",
      "linear_method = lsq_box; Nonzero Templates (>0.1%): 3/3\n",
      "Templates weights:\n",
      "     0.979       312       121\n",
      "Tied parameters:\n",
      "+++++++++++++++++++++++++++++++++++++++++++++++++++++++++++++++++\n",
      "gas_component           name        flux       err      V     sig\n",
      "+++++++++++++++++++++++++++++++++++++++++++++++++++++++++++++++++\n",
      "Comp:  1             Hbeta_(1)      312.4       3.9      -8    31\n",
      "Comp:  1      [OIII]5007_d_(1)      160.8       5.0      -8    31\n",
      "-----------------------------------------------------------------\n",
      "differential_evolution step 1: f(x)= 13028.6\n",
      "differential_evolution step 2: f(x)= 12343.5\n",
      "differential_evolution step 3: f(x)= 12343.5\n",
      "differential_evolution step 4: f(x)= 12330\n"
     ]
    },
    {
     "name": "stderr",
     "output_type": "stream",
     "text": [
      " 48%|████▊     | 11/23 [00:04<00:04,  2.46it/s]"
     ]
    },
    {
     "name": "stdout",
     "output_type": "stream",
     "text": [
      "differential_evolution step 5: f(x)= 12330\n",
      "differential_evolution step 6: f(x)= 12330\n",
      "differential_evolution step 7: f(x)= 12330\n",
      " Best Fit:       Vel     sigma\n",
      " comp.  0:         7        20\n",
      " comp.  1:         2        28\n",
      "chi2/DOF: 5.012; DOF: 2460; degree = 8; mdegree = 0\n",
      "Global search - Func calls: 240\n",
      "method = capfit; Jac calls: 1; Func calls: 5; Status: 2\n",
      "linear_method = lsq_box; Nonzero Templates (>0.1%): 2/3\n",
      "Templates weights:\n",
      "     0.942       902       159\n",
      "Tied parameters:\n",
      "+++++++++++++++++++++++++++++++++++++++++++++++++++++++++++++++++\n",
      "gas_component           name        flux       err      V     sig\n",
      "+++++++++++++++++++++++++++++++++++++++++++++++++++++++++++++++++\n",
      "Comp:  1             Hbeta_(1)      902.1       3.8       2    28\n",
      "Comp:  1      [OIII]5007_d_(1)      211.6       4.8       2    28\n",
      "-----------------------------------------------------------------\n",
      "differential_evolution step 1: f(x)= 13256.7\n",
      "differential_evolution step 2: f(x)= 11478.1\n",
      "differential_evolution step 3: f(x)= 11385.1\n",
      "differential_evolution step 4: f(x)= 11385.1\n"
     ]
    },
    {
     "name": "stderr",
     "output_type": "stream",
     "text": [
      " 52%|█████▏    | 12/23 [00:05<00:04,  2.41it/s]"
     ]
    },
    {
     "name": "stdout",
     "output_type": "stream",
     "text": [
      "differential_evolution step 5: f(x)= 11385.1\n",
      " Best Fit:       Vel     sigma\n",
      " comp.  0:         5        20\n",
      " comp.  1:       -15        21\n",
      "chi2/DOF: 4.625; DOF: 2460; degree = 8; mdegree = 0\n",
      "Global search - Func calls: 180\n",
      "method = capfit; Jac calls: 2; Func calls: 8; Status: 2\n",
      "linear_method = lsq_box; Nonzero Templates (>0.1%): 3/3\n",
      "Templates weights:\n",
      "     0.932       505       149\n",
      "Tied parameters:\n",
      "+++++++++++++++++++++++++++++++++++++++++++++++++++++++++++++++++\n",
      "gas_component           name        flux       err      V     sig\n",
      "+++++++++++++++++++++++++++++++++++++++++++++++++++++++++++++++++\n",
      "Comp:  1             Hbeta_(1)      505.3       3.6     -15    21\n",
      "Comp:  1      [OIII]5007_d_(1)      198.7       4.5     -15    21\n",
      "-----------------------------------------------------------------\n",
      "differential_evolution step 1: f(x)= 7886.99\n",
      "differential_evolution step 2: f(x)= 7331.47\n",
      "differential_evolution step 3: f(x)= 7331.47\n",
      "differential_evolution step 4: f(x)= 7284.34\n"
     ]
    },
    {
     "name": "stderr",
     "output_type": "stream",
     "text": [
      " 57%|█████▋    | 13/23 [00:05<00:04,  2.22it/s]"
     ]
    },
    {
     "name": "stdout",
     "output_type": "stream",
     "text": [
      "differential_evolution step 5: f(x)= 7281.21\n",
      "differential_evolution step 6: f(x)= 7281.21\n",
      " Best Fit:       Vel     sigma\n",
      " comp.  0:         6        20\n",
      " comp.  1:         1        22\n",
      "chi2/DOF: 2.959; DOF: 2460; degree = 8; mdegree = 0\n",
      "Global search - Func calls: 210\n",
      "method = capfit; Jac calls: 2; Func calls: 8; Status: 2\n",
      "linear_method = lsq_box; Nonzero Templates (>0.1%): 3/3\n",
      "Templates weights:\n",
      "     0.932       540       119\n",
      "Tied parameters:\n",
      "+++++++++++++++++++++++++++++++++++++++++++++++++++++++++++++++++\n",
      "gas_component           name        flux       err      V     sig\n",
      "+++++++++++++++++++++++++++++++++++++++++++++++++++++++++++++++++\n",
      "Comp:  1             Hbeta_(1)      539.6       3.6       1    22\n",
      "Comp:  1      [OIII]5007_d_(1)      158.4       4.6       1    22\n",
      "-----------------------------------------------------------------\n",
      "differential_evolution step 1: f(x)= 13567.8\n",
      "differential_evolution step 2: f(x)= 9121.38\n",
      "differential_evolution step 3: f(x)= 9121.38\n",
      "differential_evolution step 4: f(x)= 9121.38\n"
     ]
    },
    {
     "name": "stderr",
     "output_type": "stream",
     "text": [
      " 61%|██████    | 14/23 [00:06<00:04,  1.98it/s]"
     ]
    },
    {
     "name": "stdout",
     "output_type": "stream",
     "text": [
      "differential_evolution step 5: f(x)= 9028.39\n",
      "differential_evolution step 6: f(x)= 9028.39\n",
      "differential_evolution step 7: f(x)= 8984.48\n",
      "differential_evolution step 8: f(x)= 8984.48\n",
      " Best Fit:       Vel     sigma\n",
      " comp.  0:         5        20\n",
      " comp.  1:        -8        20\n",
      "chi2/DOF: 3.642; DOF: 2460; degree = 8; mdegree = 0\n",
      "Global search - Func calls: 270\n",
      "method = capfit; Jac calls: 2; Func calls: 8; Status: 2\n",
      "linear_method = lsq_box; Nonzero Templates (>0.1%): 3/3\n",
      "Templates weights:\n",
      "      1.02       777       131\n",
      "Tied parameters:\n",
      "+++++++++++++++++++++++++++++++++++++++++++++++++++++++++++++++++\n",
      "gas_component           name        flux       err      V     sig\n",
      "+++++++++++++++++++++++++++++++++++++++++++++++++++++++++++++++++\n",
      "Comp:  1             Hbeta_(1)      777.0       3.6      -8    20\n",
      "Comp:  1      [OIII]5007_d_(1)      174.2       4.5      -8    20\n",
      "-----------------------------------------------------------------\n"
     ]
    },
    {
     "name": "stderr",
     "output_type": "stream",
     "text": [
      " 65%|██████▌   | 15/23 [00:06<00:03,  2.46it/s]"
     ]
    },
    {
     "name": "stdout",
     "output_type": "stream",
     "text": [
      "differential_evolution step 1: f(x)= 2358.17\n",
      " Best Fit:       Vel     sigma\n",
      " comp.  0:        15        20\n",
      " comp.  1:        -9        40\n",
      "chi2/DOF: 0.9566; DOF: 2460; degree = 8; mdegree = 0\n",
      "Global search - Func calls: 60\n",
      "method = capfit; Jac calls: 2; Func calls: 8; Status: 2\n",
      "linear_method = lsq_box; Nonzero Templates (>0.1%): 3/3\n",
      "Templates weights:\n",
      "      1.01       100      19.7\n",
      "Tied parameters:\n",
      "+++++++++++++++++++++++++++++++++++++++++++++++++++++++++++++++++\n",
      "gas_component           name        flux       err      V     sig\n",
      "+++++++++++++++++++++++++++++++++++++++++++++++++++++++++++++++++\n",
      "Comp:  1             Hbeta_(1)      100.4       4.3      -9    40\n",
      "Comp:  1      [OIII]5007_d_(1)      26.14       5.4      -9    40\n",
      "-----------------------------------------------------------------\n",
      "differential_evolution step 1: f(x)= 1173.64\n"
     ]
    },
    {
     "name": "stderr",
     "output_type": "stream",
     "text": [
      " 70%|██████▉   | 16/23 [00:06<00:02,  2.51it/s]"
     ]
    },
    {
     "name": "stdout",
     "output_type": "stream",
     "text": [
      "differential_evolution step 2: f(x)= 1124.82\n",
      "differential_evolution step 3: f(x)= 1117.25\n",
      "differential_evolution step 4: f(x)= 1117.25\n",
      " Best Fit:       Vel     sigma\n",
      " comp.  0:         7        20\n",
      " comp.  1:       -16        32\n",
      "chi2/DOF: 0.4539; DOF: 2460; degree = 8; mdegree = 0\n",
      "Global search - Func calls: 150\n",
      "method = capfit; Jac calls: 2; Func calls: 8; Status: 2\n",
      "linear_method = lsq_box; Nonzero Templates (>0.1%): 3/3\n",
      "Templates weights:\n",
      "     0.979       169      34.8\n",
      "Tied parameters:\n",
      "+++++++++++++++++++++++++++++++++++++++++++++++++++++++++++++++++\n",
      "gas_component           name        flux       err      V     sig\n",
      "+++++++++++++++++++++++++++++++++++++++++++++++++++++++++++++++++\n",
      "Comp:  1             Hbeta_(1)      168.7       4.0     -16    32\n",
      "Comp:  1      [OIII]5007_d_(1)      46.22       5.0     -16    32\n",
      "-----------------------------------------------------------------\n",
      "differential_evolution step 1: f(x)= 4085.18\n",
      "differential_evolution step 2: f(x)= 3942.8\n",
      "differential_evolution step 3: f(x)= 3942.8\n",
      "differential_evolution step 4: f(x)= 3939.52\n"
     ]
    },
    {
     "name": "stderr",
     "output_type": "stream",
     "text": [
      " 74%|███████▍  | 17/23 [00:07<00:02,  2.55it/s]"
     ]
    },
    {
     "name": "stdout",
     "output_type": "stream",
     "text": [
      " Best Fit:       Vel     sigma\n",
      " comp.  0:         3        20\n",
      " comp.  1:        -4        26\n",
      "chi2/DOF: 1.598; DOF: 2460; degree = 8; mdegree = 0\n",
      "Global search - Func calls: 150\n",
      "method = capfit; Jac calls: 3; Func calls: 11; Status: 2\n",
      "linear_method = lsq_box; Nonzero Templates (>0.1%): 3/3\n",
      "Templates weights:\n",
      "     0.928       343      82.4\n",
      "Tied parameters:\n",
      "+++++++++++++++++++++++++++++++++++++++++++++++++++++++++++++++++\n",
      "gas_component           name        flux       err      V     sig\n",
      "+++++++++++++++++++++++++++++++++++++++++++++++++++++++++++++++++\n",
      "Comp:  1             Hbeta_(1)      343.1       3.8      -4    26\n",
      "Comp:  1      [OIII]5007_d_(1)      109.6       4.7      -4    26\n",
      "-----------------------------------------------------------------\n",
      "differential_evolution step 1: f(x)= 8512.35\n"
     ]
    },
    {
     "name": "stderr",
     "output_type": "stream",
     "text": [
      " 78%|███████▊  | 18/23 [00:07<00:01,  2.82it/s]"
     ]
    },
    {
     "name": "stdout",
     "output_type": "stream",
     "text": [
      "differential_evolution step 2: f(x)= 8454.9\n",
      " Best Fit:       Vel     sigma\n",
      " comp.  0:         2        20\n",
      " comp.  1:        -3        28\n",
      "chi2/DOF: 3.277; DOF: 2460; degree = 8; mdegree = 0\n",
      "Global search - Func calls: 90\n",
      "method = capfit; Jac calls: 5; Func calls: 17; Status: 2\n",
      "linear_method = lsq_box; Nonzero Templates (>0.1%): 3/3\n",
      "Templates weights:\n",
      "     0.888       278      65.6\n",
      "Tied parameters:\n",
      "+++++++++++++++++++++++++++++++++++++++++++++++++++++++++++++++++\n",
      "gas_component           name        flux       err      V     sig\n",
      "+++++++++++++++++++++++++++++++++++++++++++++++++++++++++++++++++\n",
      "Comp:  1             Hbeta_(1)      278.2       3.8      -3    28\n",
      "Comp:  1      [OIII]5007_d_(1)      87.22       4.8      -3    28\n",
      "-----------------------------------------------------------------\n",
      "differential_evolution step 1: f(x)= 10345.5\n"
     ]
    },
    {
     "name": "stderr",
     "output_type": "stream",
     "text": [
      " 83%|████████▎ | 19/23 [00:07<00:01,  2.96it/s]"
     ]
    },
    {
     "name": "stdout",
     "output_type": "stream",
     "text": [
      "differential_evolution step 2: f(x)= 9886.55\n",
      "differential_evolution step 3: f(x)= 9886.55\n",
      " Best Fit:       Vel     sigma\n",
      " comp.  0:         1        20\n",
      " comp.  1:         8        28\n",
      "chi2/DOF: 3.977; DOF: 2460; degree = 8; mdegree = 0\n",
      "Global search - Func calls: 120\n",
      "method = capfit; Jac calls: 4; Func calls: 14; Status: 2\n",
      "linear_method = lsq_box; Nonzero Templates (>0.1%): 3/3\n",
      "Templates weights:\n",
      "     0.876       329      88.9\n",
      "Tied parameters:\n",
      "+++++++++++++++++++++++++++++++++++++++++++++++++++++++++++++++++\n",
      "gas_component           name        flux       err      V     sig\n",
      "+++++++++++++++++++++++++++++++++++++++++++++++++++++++++++++++++\n",
      "Comp:  1             Hbeta_(1)      328.7       3.8       8    28\n",
      "Comp:  1      [OIII]5007_d_(1)      118.3       4.8       8    28\n",
      "-----------------------------------------------------------------\n"
     ]
    },
    {
     "name": "stderr",
     "output_type": "stream",
     "text": [
      " 91%|█████████▏| 21/23 [00:08<00:00,  3.91it/s]"
     ]
    },
    {
     "name": "stdout",
     "output_type": "stream",
     "text": [
      "differential_evolution step 1: f(x)= 1655.3\n",
      " Best Fit:       Vel     sigma\n",
      " comp.  0:        41        48\n",
      " comp.  1:        57        71\n",
      "chi2/DOF: 0.6724; DOF: 2460; degree = 8; mdegree = 0\n",
      "Global search - Func calls: 60\n",
      "method = capfit; Jac calls: 2; Func calls: 8; Status: 2\n",
      "linear_method = lsq_box; Nonzero Templates (>0.1%): 3/3\n",
      "Templates weights:\n",
      "     0.961       137      25.4\n",
      "Tied parameters:\n",
      "+++++++++++++++++++++++++++++++++++++++++++++++++++++++++++++++++\n",
      "gas_component           name        flux       err      V     sig\n",
      "+++++++++++++++++++++++++++++++++++++++++++++++++++++++++++++++++\n",
      "Comp:  1             Hbeta_(1)      137.2       5.4      57    71\n",
      "Comp:  1      [OIII]5007_d_(1)      33.85       6.8      57    71\n",
      "-----------------------------------------------------------------\n",
      "differential_evolution step 1: f(x)= 10058.3\n",
      " Best Fit:       Vel     sigma\n",
      " comp.  0:        10        20\n",
      " comp.  1:        -8       100\n",
      "chi2/DOF: 4.088; DOF: 2460; degree = 8; mdegree = 0\n",
      "Global search - Func calls: 60\n",
      "method = capfit; Jac calls: 2; Func calls: 8; Status: 2\n",
      "linear_method = lsq_box; Nonzero Templates (>0.1%): 2/3\n",
      "Templates weights:\n",
      "     0.612       112         0\n",
      "Tied parameters:\n",
      "+++++++++++++++++++++++++++++++++++++++++++++++++++++++++++++++++\n",
      "gas_component           name        flux       err      V     sig\n",
      "+++++++++++++++++++++++++++++++++++++++++++++++++++++++++++++++++\n",
      "Comp:  1             Hbeta_(1)      111.6       6.3      -8   100\n",
      "Comp:  1      [OIII]5007_d_(1)      0.000       8.0      -8   100\n",
      "-----------------------------------------------------------------\n"
     ]
    },
    {
     "name": "stderr",
     "output_type": "stream",
     "text": [
      " 96%|█████████▌| 22/23 [00:08<00:00,  4.23it/s]"
     ]
    },
    {
     "name": "stdout",
     "output_type": "stream",
     "text": [
      "differential_evolution step 1: f(x)= 1321.76\n",
      " Best Fit:       Vel     sigma\n",
      " comp.  0:        35        24\n",
      " comp.  1:        49        71\n",
      "chi2/DOF: 0.5372; DOF: 2460; degree = 8; mdegree = 0\n",
      "Global search - Func calls: 60\n",
      "method = capfit; Jac calls: 2; Func calls: 8; Status: 2\n",
      "linear_method = lsq_box; Nonzero Templates (>0.1%): 3/3\n",
      "Templates weights:\n",
      "       0.9      73.6      7.83\n",
      "Tied parameters:\n",
      "+++++++++++++++++++++++++++++++++++++++++++++++++++++++++++++++++\n",
      "gas_component           name        flux       err      V     sig\n",
      "+++++++++++++++++++++++++++++++++++++++++++++++++++++++++++++++++\n",
      "Comp:  1             Hbeta_(1)      73.57       5.4      49    71\n",
      "Comp:  1      [OIII]5007_d_(1)      10.42       6.8      49    71\n",
      "-----------------------------------------------------------------\n",
      "differential_evolution step 1: f(x)= 917.029\n",
      "differential_evolution step 2: f(x)= 912.632\n",
      "differential_evolution step 3: f(x)= 912.632\n",
      "differential_evolution step 4: f(x)= 912.632\n",
      "differential_evolution step 5: f(x)= 912.632\n"
     ]
    },
    {
     "name": "stderr",
     "output_type": "stream",
     "text": [
      "100%|██████████| 23/23 [00:08<00:00,  2.63it/s]"
     ]
    },
    {
     "name": "stdout",
     "output_type": "stream",
     "text": [
      " Best Fit:       Vel     sigma\n",
      " comp.  0:         8        20\n",
      " comp.  1:        26        53\n",
      "chi2/DOF: 0.3709; DOF: 2460; degree = 8; mdegree = 0\n",
      "Global search - Func calls: 180\n",
      "method = capfit; Jac calls: 2; Func calls: 8; Status: 2\n",
      "linear_method = lsq_box; Nonzero Templates (>0.1%): 3/3\n",
      "Templates weights:\n",
      "     0.988       190      68.4\n",
      "Tied parameters:\n",
      "+++++++++++++++++++++++++++++++++++++++++++++++++++++++++++++++++\n",
      "gas_component           name        flux       err      V     sig\n",
      "+++++++++++++++++++++++++++++++++++++++++++++++++++++++++++++++++\n",
      "Comp:  1             Hbeta_(1)      189.9       4.8      26    53\n",
      "Comp:  1      [OIII]5007_d_(1)      90.92       6.0      26    53\n",
      "-----------------------------------------------------------------\n"
     ]
    },
    {
     "name": "stderr",
     "output_type": "stream",
     "text": [
      "\n"
     ]
    }
   ],
   "source": [
    "PP_box = []\n",
    "for i in tqdm(range(len(VNB[2]))):\n",
    "        galaxy = VNB_spectrum_new[:,i]\n",
    "        noise = np.ones_like(galaxy)\n",
    "\n",
    "        template = optimal_templates_VNB[:,i]\n",
    "        stars_gas_templates = np.column_stack([template, gas_templates])\n",
    "\n",
    "        component = [0] + [1]*2\n",
    "        gas_component=np.array(component) > 0\n",
    "        moments = [-2, 2]\n",
    "        ncomp = len(moments)\n",
    "        tied = [['', ''] for _ in range(ncomp)]\n",
    "\n",
    "        start = [[velfield_VNB[i], sigfield_VNB[i]],\n",
    "        [velfield_VNB[i], 50]]\n",
    "        # start = [[0, 50],\n",
    "        # [0, 200]]\n",
    "\n",
    "        vlim = lambda x: velfield_VNB[i] + x*np.array([-100, 100])\n",
    "        bounds = [[vlim(2), [20, 300]],\n",
    "                  [vlim(2), [20, 100]]]\n",
    "\n",
    "        pp = ppxf(stars_gas_templates, galaxy, noise, velscale, start,\n",
    "            plot=False,\n",
    "            moments=moments, degree=8, mdegree=-1,\n",
    "            component=component, \n",
    "            gas_component=gas_component, gas_names=gas_names,\n",
    "            lam=lam_gal_new, lam_temp=sps.lam_temp, tied=tied,\n",
    "            bounds=bounds,\n",
    "            global_search=True)\n",
    "        \n",
    "        PP_box += [pp]"
   ]
  },
  {
   "cell_type": "code",
   "execution_count": 50,
   "metadata": {},
   "outputs": [],
   "source": [
    "def CK_SpFT(I_index):\n",
    "    K_index = I_index\n",
    "\n",
    "    fig, ax = plt.subplots(1, 1, facecolor='white', figsize=(16,12), dpi=300, tight_layout=True)\n",
    "    gs1 = gridspec.GridSpec(1, 1)\n",
    "    gs1.update(left=0.05, right=.95, bottom=0.65, top=0.95, hspace=0.0)\n",
    "    ax1 = plt.subplot(gs1[0])\n",
    "\n",
    "    gs2 = gridspec.GridSpec(1, 1)\n",
    "    gs2.update(left=0.05, right=.95, bottom=0.35, top=0.65, hspace=0.0)\n",
    "    ax2 = plt.subplot(gs2[0])\n",
    "\n",
    "    gs3 = gridspec.GridSpec(1, 1)\n",
    "    gs3.update(left=0.05, right=.95, bottom=0.05, top=0.35, hspace=0.0)\n",
    "    ax3 = plt.subplot(gs3[0])\n",
    "\n",
    "\n",
    "# -------------------------------------------------------------------------------------------------------------------------------------\n",
    "\n",
    "    ax1.plot(lam_gal,VNB_spectrum_new[:,I_index], c='tab:blue', lw=1, alpha=.9, label=galaxy_name+'\\npixel:[{:}]'.format(I_index))\n",
    "    ax1.plot(lam_gal,Bestfitfield_VNB[:,I_index], '--', c='tab:red', alpha=.9)\n",
    "\n",
    "    for i in Index_use:\n",
    "        LHS = Index_Wave.loc[i,'CBP_range'][0]\n",
    "        RHS = Index_Wave.loc[i,'CBP_range'][1]\n",
    "        ax1.fill([LHS,RHS,RHS,LHS], [1000,1000,-10000,-1000], color='tab:gray', alpha=.5, zorder = 0)\n",
    "        ax2.fill([LHS,RHS,RHS,LHS], [1000,1000,-10000,-1000], color='tab:gray', alpha=.5, zorder = 0)\n",
    "        ax3.fill([LHS,RHS,RHS,LHS], [1000,1000,-10000,-1000], color='tab:gray', alpha=.5, zorder = 0)\n",
    "\n",
    "    for i in Index_use:\n",
    "        LHS = Index_Wave.loc[i,'BPC_range'][0]\n",
    "        RHS = Index_Wave.loc[i,'BPC_range'][1]\n",
    "        ax1.fill([LHS,RHS,RHS,LHS], [1000,1000,-10000,-1000], color='tab:gray', alpha=.3, zorder = 0)\n",
    "        ax2.fill([LHS,RHS,RHS,LHS], [1000,1000,-10000,-1000], color='tab:gray', alpha=.3, zorder = 0)\n",
    "        ax3.fill([LHS,RHS,RHS,LHS], [1000,1000,-10000,-1000], color='tab:gray', alpha=.3, zorder = 0)\n",
    "    for i in Index_use:\n",
    "        LHS = Index_Wave.loc[i,'RPC_range'][0]\n",
    "        RHS = Index_Wave.loc[i,'RPC_range'][1]\n",
    "        ax1.fill([LHS,RHS,RHS,LHS], [1000,1000,-10000,-1000], color='tab:gray', alpha=.3, zorder = 0)\n",
    "        ax2.fill([LHS,RHS,RHS,LHS], [1000,1000,-10000,-1000], color='tab:gray', alpha=.3, zorder = 0)\n",
    "        ax3.fill([LHS,RHS,RHS,LHS], [1000,1000,-10000,-1000], color='tab:gray', alpha=.3, zorder = 0)\n",
    "\n",
    "    for i in [0]:\n",
    "        ax1.plot(lam_gal, PP_box[K_index].gas_bestfit_templates[:,i], color='tab:orange', zorder = 1, alpha=.9)\n",
    "\n",
    "    for i in [1]:\n",
    "        ax1.plot(lam_gal, PP_box[K_index].gas_bestfit_templates[:,i], color='tab:purple', zorder = 1, alpha=.9)\n",
    "\n",
    "    ax1.plot(lam_gal,PP_box[K_index].bestfit, '-', lw=.7, c='tab:red')\n",
    "\n",
    "\n",
    "# -------------------------------------------------------------------------------------------------------------------------------------\n",
    "\n",
    "    ax2.plot(lam_gal, np.zeros(lam_gal.shape), '-', color='k', lw=.7, alpha=.9, zorder = 0)\n",
    "    ax2.plot(lam_gal, [np.median(VNB_spectrum_new[:,I_index]-PP_box[K_index].bestfit)]*lam_gal.shape[0], '--', color='tab:blue', lw=1, alpha=.9, zorder = 1)\n",
    "    MPSig = np.median(VNB_spectrum_new[:,I_index]-PP_box[K_index].bestfit) + np.std(VNB_spectrum_new[:,I_index]-PP_box[K_index].bestfit)\n",
    "    MMSig = np.median(VNB_spectrum_new[:,I_index]-PP_box[K_index].bestfit) - np.std(VNB_spectrum_new[:,I_index]-PP_box[K_index].bestfit)\n",
    "    ax2.fill([min(lam_gal), max(lam_gal), max(lam_gal), min(lam_gal)], [MPSig, MPSig, MMSig, MMSig], color='tab:gray', alpha=.2,\n",
    "             label=r'Range:{:1.3f}$\\pm${:1.3f}'.format(np.median(VNB_spectrum_new[:,I_index]-PP_box[K_index].bestfit), np.std(VNB_spectrum_new[:,I_index]-PP_box[K_index].bestfit)), zorder=1)\n",
    "    ax2.plot(lam_gal, VNB_spectrum_new[:,I_index]-PP_box[K_index].bestfit, '+', ms=2, mew=3, color='tab:green', alpha=.9, zorder=2)\n",
    "\n",
    "# -------------------------------------------------------------------------------------------------------------------------------------\n",
    "\n",
    "    ax3.plot(lam_gal, VNB_spectrum_new[:,I_index]-Bestfitfield_VNB[:,I_index], '+', ms=2, mew=3, color='tab:green', alpha=.9, zorder=2)\n",
    "    for i in [0]:\n",
    "        ax3.plot(lam_gal, PP_box[K_index].gas_bestfit_templates[:,i], color='tab:orange', zorder = 2, alpha=.9)\n",
    "    for i in [1]:\n",
    "        ax3.plot(lam_gal, PP_box[K_index].gas_bestfit_templates[:,i], color='tab:purple', zorder = 2, alpha=.9)\n",
    "    \n",
    "    ax3.plot(lam_gal, PP_box[K_index].gas_bestfit_templates[:,0]+PP_box[K_index].gas_bestfit_templates[:,1, ], lw=.7, color='tab:red', zorder = 2, alpha=.9)\n",
    "\n",
    "\n",
    "# -------------------------------------------------------------------------------------------------------------------------------------\n",
    "\n",
    "\n",
    "    ax1.xaxis.set_minor_locator(AutoMinorLocator(5))\n",
    "    ax1.yaxis.set_minor_locator(AutoMinorLocator(5))\n",
    "    ax1.tick_params(axis='both', which='both', labelsize='x-small', right=True, top=True, direction='in')\n",
    "    ax2.xaxis.set_minor_locator(AutoMinorLocator(5))\n",
    "    ax2.yaxis.set_minor_locator(AutoMinorLocator(5))\n",
    "    ax2.tick_params(axis='both', which='both', labelsize='x-small', right=True, top=True, direction='in')\n",
    "    ax3.xaxis.set_minor_locator(AutoMinorLocator(5))\n",
    "    ax3.yaxis.set_minor_locator(AutoMinorLocator(5))\n",
    "    ax3.tick_params(axis='both', which='both', labelsize='x-small', right=True, top=True, direction='in')\n",
    "    \n",
    "\n",
    "    ax1.set_xlim(min(lam_gal), max(lam_gal))\n",
    "    ax2.set_xlim(min(lam_gal), max(lam_gal))\n",
    "    ax3.set_xlim(min(lam_gal), max(lam_gal))\n",
    "    ax1.set_ylim(0,max(VNB_spectrum_new[:,I_index])*1.1)\n",
    "    ax2.set_ylim(min(VNB_spectrum_new[:,I_index]-PP_box[K_index].bestfit)*1.2, max(VNB_spectrum_new[:,I_index]-PP_box[K_index].bestfit)*1.2)\n",
    "    ax3.set_ylim(min(VNB_spectrum_new[:,I_index]-Bestfitfield_VNB[:,I_index])*1.2, max(VNB_spectrum_new[:,I_index]-Bestfitfield_VNB[:,I_index])*1.2)\n",
    "\n",
    "    ax3.set_xlabel(r'Wave Length $[\\AA]$', size=11)\n",
    "    \n",
    "    ax1.legend()\n",
    "    ax2.legend()\n",
    "    # ax3.legend()\n",
    "    plt.show()\n",
    "    plt.savefig('./../../FitPlot/Fit_06[24Dec06][VCC1588RDBFit]/VNB_res/'+galaxy_name+'Fig[{:}].pdf'.format(K_index), format='pdf', bbox_inches='tight')\n",
    "    plt.clf()\n",
    "    plt.close()\n",
    "\n",
    "    PP_box[K_index] = []"
   ]
  },
  {
   "cell_type": "code",
   "execution_count": null,
   "metadata": {},
   "outputs": [
    {
     "name": "stderr",
     "output_type": "stream",
     "text": [
      "C:\\Users\\VacEn-WenJin\\AppData\\Local\\Temp\\ipykernel_25536\\2807276320.py:7: MatplotlibDeprecationWarning: Auto-removal of overlapping axes is deprecated since 3.6 and will be removed two minor releases later; explicitly call ax.remove() as needed.\n",
      "  ax1 = plt.subplot(gs1[0])\n",
      "C:\\Users\\VacEn-WenJin\\AppData\\Local\\Temp\\ipykernel_25536\\2807276320.py:99: UserWarning: Matplotlib is currently using agg, which is a non-GUI backend, so cannot show the figure.\n",
      "  plt.show()\n",
      "C:\\Users\\VacEn-WenJin\\AppData\\Local\\Temp\\ipykernel_25536\\2807276320.py:100: UserWarning: This figure includes Axes that are not compatible with tight_layout, so results might be incorrect.\n",
      "  plt.savefig('./../../FitPlot/Fit_06[24Dec06][VCC1588RDBFit]/VNB_res/'+galaxy_name+'Fig[{:}].pdf'.format(K_index), format='pdf', bbox_inches='tight')\n",
      "C:\\Users\\VacEn-WenJin\\AppData\\Local\\Temp\\ipykernel_25536\\2807276320.py:100: UserWarning: This figure includes Axes that are not compatible with tight_layout, so results might be incorrect.\n",
      "  plt.savefig('./../../FitPlot/Fit_06[24Dec06][VCC1588RDBFit]/VNB_res/'+galaxy_name+'Fig[{:}].pdf'.format(K_index), format='pdf', bbox_inches='tight')\n",
      "C:\\Users\\VacEn-WenJin\\AppData\\Local\\Temp\\ipykernel_25536\\2807276320.py:7: MatplotlibDeprecationWarning: Auto-removal of overlapping axes is deprecated since 3.6 and will be removed two minor releases later; explicitly call ax.remove() as needed.\n",
      "  ax1 = plt.subplot(gs1[0])\n",
      "C:\\Users\\VacEn-WenJin\\AppData\\Local\\Temp\\ipykernel_25536\\2807276320.py:99: UserWarning: Matplotlib is currently using agg, which is a non-GUI backend, so cannot show the figure.\n",
      "  plt.show()\n",
      "C:\\Users\\VacEn-WenJin\\AppData\\Local\\Temp\\ipykernel_25536\\2807276320.py:100: UserWarning: This figure includes Axes that are not compatible with tight_layout, so results might be incorrect.\n",
      "  plt.savefig('./../../FitPlot/Fit_06[24Dec06][VCC1588RDBFit]/VNB_res/'+galaxy_name+'Fig[{:}].pdf'.format(K_index), format='pdf', bbox_inches='tight')\n",
      "C:\\Users\\VacEn-WenJin\\AppData\\Local\\Temp\\ipykernel_25536\\2807276320.py:7: MatplotlibDeprecationWarning: Auto-removal of overlapping axes is deprecated since 3.6 and will be removed two minor releases later; explicitly call ax.remove() as needed.\n",
      "  ax1 = plt.subplot(gs1[0])\n",
      "C:\\Users\\VacEn-WenJin\\AppData\\Local\\Temp\\ipykernel_25536\\2807276320.py:99: UserWarning: Matplotlib is currently using agg, which is a non-GUI backend, so cannot show the figure.\n",
      "  plt.show()\n",
      "C:\\Users\\VacEn-WenJin\\AppData\\Local\\Temp\\ipykernel_25536\\2807276320.py:100: UserWarning: This figure includes Axes that are not compatible with tight_layout, so results might be incorrect.\n",
      "  plt.savefig('./../../FitPlot/Fit_06[24Dec06][VCC1588RDBFit]/VNB_res/'+galaxy_name+'Fig[{:}].pdf'.format(K_index), format='pdf', bbox_inches='tight')\n",
      "C:\\Users\\VacEn-WenJin\\AppData\\Local\\Temp\\ipykernel_25536\\2807276320.py:7: MatplotlibDeprecationWarning: Auto-removal of overlapping axes is deprecated since 3.6 and will be removed two minor releases later; explicitly call ax.remove() as needed.\n",
      "  ax1 = plt.subplot(gs1[0])\n",
      "C:\\Users\\VacEn-WenJin\\AppData\\Local\\Temp\\ipykernel_25536\\2807276320.py:99: UserWarning: Matplotlib is currently using agg, which is a non-GUI backend, so cannot show the figure.\n",
      "  plt.show()\n",
      "C:\\Users\\VacEn-WenJin\\AppData\\Local\\Temp\\ipykernel_25536\\2807276320.py:100: UserWarning: This figure includes Axes that are not compatible with tight_layout, so results might be incorrect.\n",
      "  plt.savefig('./../../FitPlot/Fit_06[24Dec06][VCC1588RDBFit]/VNB_res/'+galaxy_name+'Fig[{:}].pdf'.format(K_index), format='pdf', bbox_inches='tight')\n",
      "C:\\Users\\VacEn-WenJin\\AppData\\Local\\Temp\\ipykernel_25536\\2807276320.py:7: MatplotlibDeprecationWarning: Auto-removal of overlapping axes is deprecated since 3.6 and will be removed two minor releases later; explicitly call ax.remove() as needed.\n",
      "  ax1 = plt.subplot(gs1[0])\n",
      "C:\\Users\\VacEn-WenJin\\AppData\\Local\\Temp\\ipykernel_25536\\2807276320.py:99: UserWarning: Matplotlib is currently using agg, which is a non-GUI backend, so cannot show the figure.\n",
      "  plt.show()\n",
      "C:\\Users\\VacEn-WenJin\\AppData\\Local\\Temp\\ipykernel_25536\\2807276320.py:100: UserWarning: This figure includes Axes that are not compatible with tight_layout, so results might be incorrect.\n",
      "  plt.savefig('./../../FitPlot/Fit_06[24Dec06][VCC1588RDBFit]/VNB_res/'+galaxy_name+'Fig[{:}].pdf'.format(K_index), format='pdf', bbox_inches='tight')\n",
      "C:\\Users\\VacEn-WenJin\\AppData\\Local\\Temp\\ipykernel_25536\\2807276320.py:7: MatplotlibDeprecationWarning: Auto-removal of overlapping axes is deprecated since 3.6 and will be removed two minor releases later; explicitly call ax.remove() as needed.\n",
      "  ax1 = plt.subplot(gs1[0])\n",
      "C:\\Users\\VacEn-WenJin\\AppData\\Local\\Temp\\ipykernel_25536\\2807276320.py:99: UserWarning: Matplotlib is currently using agg, which is a non-GUI backend, so cannot show the figure.\n",
      "  plt.show()\n",
      "C:\\Users\\VacEn-WenJin\\AppData\\Local\\Temp\\ipykernel_25536\\2807276320.py:100: UserWarning: This figure includes Axes that are not compatible with tight_layout, so results might be incorrect.\n",
      "  plt.savefig('./../../FitPlot/Fit_06[24Dec06][VCC1588RDBFit]/VNB_res/'+galaxy_name+'Fig[{:}].pdf'.format(K_index), format='pdf', bbox_inches='tight')\n",
      "C:\\Users\\VacEn-WenJin\\AppData\\Local\\Temp\\ipykernel_25536\\2807276320.py:7: MatplotlibDeprecationWarning: Auto-removal of overlapping axes is deprecated since 3.6 and will be removed two minor releases later; explicitly call ax.remove() as needed.\n",
      "  ax1 = plt.subplot(gs1[0])\n",
      "C:\\Users\\VacEn-WenJin\\AppData\\Local\\Temp\\ipykernel_25536\\2807276320.py:99: UserWarning: Matplotlib is currently using agg, which is a non-GUI backend, so cannot show the figure.\n",
      "  plt.show()\n",
      "C:\\Users\\VacEn-WenJin\\AppData\\Local\\Temp\\ipykernel_25536\\2807276320.py:100: UserWarning: This figure includes Axes that are not compatible with tight_layout, so results might be incorrect.\n",
      "  plt.savefig('./../../FitPlot/Fit_06[24Dec06][VCC1588RDBFit]/VNB_res/'+galaxy_name+'Fig[{:}].pdf'.format(K_index), format='pdf', bbox_inches='tight')\n",
      "C:\\Users\\VacEn-WenJin\\AppData\\Local\\Temp\\ipykernel_25536\\2807276320.py:7: MatplotlibDeprecationWarning: Auto-removal of overlapping axes is deprecated since 3.6 and will be removed two minor releases later; explicitly call ax.remove() as needed.\n",
      "  ax1 = plt.subplot(gs1[0])\n",
      "C:\\Users\\VacEn-WenJin\\AppData\\Local\\Temp\\ipykernel_25536\\2807276320.py:99: UserWarning: Matplotlib is currently using agg, which is a non-GUI backend, so cannot show the figure.\n",
      "  plt.show()\n",
      "C:\\Users\\VacEn-WenJin\\AppData\\Local\\Temp\\ipykernel_25536\\2807276320.py:100: UserWarning: This figure includes Axes that are not compatible with tight_layout, so results might be incorrect.\n",
      "  plt.savefig('./../../FitPlot/Fit_06[24Dec06][VCC1588RDBFit]/VNB_res/'+galaxy_name+'Fig[{:}].pdf'.format(K_index), format='pdf', bbox_inches='tight')\n",
      "C:\\Users\\VacEn-WenJin\\AppData\\Local\\Temp\\ipykernel_25536\\2807276320.py:7: MatplotlibDeprecationWarning: Auto-removal of overlapping axes is deprecated since 3.6 and will be removed two minor releases later; explicitly call ax.remove() as needed.\n",
      "  ax1 = plt.subplot(gs1[0])\n",
      "C:\\Users\\VacEn-WenJin\\AppData\\Local\\Temp\\ipykernel_25536\\2807276320.py:99: UserWarning: Matplotlib is currently using agg, which is a non-GUI backend, so cannot show the figure.\n",
      "  plt.show()\n",
      "C:\\Users\\VacEn-WenJin\\AppData\\Local\\Temp\\ipykernel_25536\\2807276320.py:100: UserWarning: This figure includes Axes that are not compatible with tight_layout, so results might be incorrect.\n",
      "  plt.savefig('./../../FitPlot/Fit_06[24Dec06][VCC1588RDBFit]/VNB_res/'+galaxy_name+'Fig[{:}].pdf'.format(K_index), format='pdf', bbox_inches='tight')\n",
      "C:\\Users\\VacEn-WenJin\\AppData\\Local\\Temp\\ipykernel_25536\\2807276320.py:7: MatplotlibDeprecationWarning: Auto-removal of overlapping axes is deprecated since 3.6 and will be removed two minor releases later; explicitly call ax.remove() as needed.\n",
      "  ax1 = plt.subplot(gs1[0])\n",
      "C:\\Users\\VacEn-WenJin\\AppData\\Local\\Temp\\ipykernel_25536\\2807276320.py:99: UserWarning: Matplotlib is currently using agg, which is a non-GUI backend, so cannot show the figure.\n",
      "  plt.show()\n",
      "C:\\Users\\VacEn-WenJin\\AppData\\Local\\Temp\\ipykernel_25536\\2807276320.py:100: UserWarning: This figure includes Axes that are not compatible with tight_layout, so results might be incorrect.\n",
      "  plt.savefig('./../../FitPlot/Fit_06[24Dec06][VCC1588RDBFit]/VNB_res/'+galaxy_name+'Fig[{:}].pdf'.format(K_index), format='pdf', bbox_inches='tight')\n",
      "C:\\Users\\VacEn-WenJin\\AppData\\Local\\Temp\\ipykernel_25536\\2807276320.py:7: MatplotlibDeprecationWarning: Auto-removal of overlapping axes is deprecated since 3.6 and will be removed two minor releases later; explicitly call ax.remove() as needed.\n",
      "  ax1 = plt.subplot(gs1[0])\n",
      "C:\\Users\\VacEn-WenJin\\AppData\\Local\\Temp\\ipykernel_25536\\2807276320.py:99: UserWarning: Matplotlib is currently using agg, which is a non-GUI backend, so cannot show the figure.\n",
      "  plt.show()\n",
      "C:\\Users\\VacEn-WenJin\\AppData\\Local\\Temp\\ipykernel_25536\\2807276320.py:100: UserWarning: This figure includes Axes that are not compatible with tight_layout, so results might be incorrect.\n",
      "  plt.savefig('./../../FitPlot/Fit_06[24Dec06][VCC1588RDBFit]/VNB_res/'+galaxy_name+'Fig[{:}].pdf'.format(K_index), format='pdf', bbox_inches='tight')\n",
      "C:\\Users\\VacEn-WenJin\\AppData\\Local\\Temp\\ipykernel_25536\\2807276320.py:7: MatplotlibDeprecationWarning: Auto-removal of overlapping axes is deprecated since 3.6 and will be removed two minor releases later; explicitly call ax.remove() as needed.\n",
      "  ax1 = plt.subplot(gs1[0])\n",
      "C:\\Users\\VacEn-WenJin\\AppData\\Local\\Temp\\ipykernel_25536\\2807276320.py:99: UserWarning: Matplotlib is currently using agg, which is a non-GUI backend, so cannot show the figure.\n",
      "  plt.show()\n",
      "C:\\Users\\VacEn-WenJin\\AppData\\Local\\Temp\\ipykernel_25536\\2807276320.py:100: UserWarning: This figure includes Axes that are not compatible with tight_layout, so results might be incorrect.\n",
      "  plt.savefig('./../../FitPlot/Fit_06[24Dec06][VCC1588RDBFit]/VNB_res/'+galaxy_name+'Fig[{:}].pdf'.format(K_index), format='pdf', bbox_inches='tight')\n",
      "C:\\Users\\VacEn-WenJin\\AppData\\Local\\Temp\\ipykernel_25536\\2807276320.py:7: MatplotlibDeprecationWarning: Auto-removal of overlapping axes is deprecated since 3.6 and will be removed two minor releases later; explicitly call ax.remove() as needed.\n",
      "  ax1 = plt.subplot(gs1[0])\n",
      "C:\\Users\\VacEn-WenJin\\AppData\\Local\\Temp\\ipykernel_25536\\2807276320.py:99: UserWarning: Matplotlib is currently using agg, which is a non-GUI backend, so cannot show the figure.\n",
      "  plt.show()\n",
      "C:\\Users\\VacEn-WenJin\\AppData\\Local\\Temp\\ipykernel_25536\\2807276320.py:100: UserWarning: This figure includes Axes that are not compatible with tight_layout, so results might be incorrect.\n",
      "  plt.savefig('./../../FitPlot/Fit_06[24Dec06][VCC1588RDBFit]/VNB_res/'+galaxy_name+'Fig[{:}].pdf'.format(K_index), format='pdf', bbox_inches='tight')\n",
      "C:\\Users\\VacEn-WenJin\\AppData\\Local\\Temp\\ipykernel_25536\\2807276320.py:7: MatplotlibDeprecationWarning: Auto-removal of overlapping axes is deprecated since 3.6 and will be removed two minor releases later; explicitly call ax.remove() as needed.\n",
      "  ax1 = plt.subplot(gs1[0])\n",
      "C:\\Users\\VacEn-WenJin\\AppData\\Local\\Temp\\ipykernel_25536\\2807276320.py:99: UserWarning: Matplotlib is currently using agg, which is a non-GUI backend, so cannot show the figure.\n",
      "  plt.show()\n",
      "C:\\Users\\VacEn-WenJin\\AppData\\Local\\Temp\\ipykernel_25536\\2807276320.py:100: UserWarning: This figure includes Axes that are not compatible with tight_layout, so results might be incorrect.\n",
      "  plt.savefig('./../../FitPlot/Fit_06[24Dec06][VCC1588RDBFit]/VNB_res/'+galaxy_name+'Fig[{:}].pdf'.format(K_index), format='pdf', bbox_inches='tight')\n",
      "C:\\Users\\VacEn-WenJin\\AppData\\Local\\Temp\\ipykernel_25536\\2807276320.py:7: MatplotlibDeprecationWarning: Auto-removal of overlapping axes is deprecated since 3.6 and will be removed two minor releases later; explicitly call ax.remove() as needed.\n",
      "  ax1 = plt.subplot(gs1[0])\n",
      "C:\\Users\\VacEn-WenJin\\AppData\\Local\\Temp\\ipykernel_25536\\2807276320.py:99: UserWarning: Matplotlib is currently using agg, which is a non-GUI backend, so cannot show the figure.\n",
      "  plt.show()\n",
      "C:\\Users\\VacEn-WenJin\\AppData\\Local\\Temp\\ipykernel_25536\\2807276320.py:100: UserWarning: This figure includes Axes that are not compatible with tight_layout, so results might be incorrect.\n",
      "  plt.savefig('./../../FitPlot/Fit_06[24Dec06][VCC1588RDBFit]/VNB_res/'+galaxy_name+'Fig[{:}].pdf'.format(K_index), format='pdf', bbox_inches='tight')\n",
      "C:\\Users\\VacEn-WenJin\\AppData\\Local\\Temp\\ipykernel_25536\\2807276320.py:7: MatplotlibDeprecationWarning: Auto-removal of overlapping axes is deprecated since 3.6 and will be removed two minor releases later; explicitly call ax.remove() as needed.\n",
      "  ax1 = plt.subplot(gs1[0])\n",
      "C:\\Users\\VacEn-WenJin\\AppData\\Local\\Temp\\ipykernel_25536\\2807276320.py:99: UserWarning: Matplotlib is currently using agg, which is a non-GUI backend, so cannot show the figure.\n",
      "  plt.show()\n",
      "C:\\Users\\VacEn-WenJin\\AppData\\Local\\Temp\\ipykernel_25536\\2807276320.py:100: UserWarning: This figure includes Axes that are not compatible with tight_layout, so results might be incorrect.\n",
      "  plt.savefig('./../../FitPlot/Fit_06[24Dec06][VCC1588RDBFit]/VNB_res/'+galaxy_name+'Fig[{:}].pdf'.format(K_index), format='pdf', bbox_inches='tight')\n",
      "C:\\Users\\VacEn-WenJin\\AppData\\Local\\Temp\\ipykernel_25536\\2807276320.py:7: MatplotlibDeprecationWarning: Auto-removal of overlapping axes is deprecated since 3.6 and will be removed two minor releases later; explicitly call ax.remove() as needed.\n",
      "  ax1 = plt.subplot(gs1[0])\n",
      "C:\\Users\\VacEn-WenJin\\AppData\\Local\\Temp\\ipykernel_25536\\2807276320.py:99: UserWarning: Matplotlib is currently using agg, which is a non-GUI backend, so cannot show the figure.\n",
      "  plt.show()\n",
      "C:\\Users\\VacEn-WenJin\\AppData\\Local\\Temp\\ipykernel_25536\\2807276320.py:100: UserWarning: This figure includes Axes that are not compatible with tight_layout, so results might be incorrect.\n",
      "  plt.savefig('./../../FitPlot/Fit_06[24Dec06][VCC1588RDBFit]/VNB_res/'+galaxy_name+'Fig[{:}].pdf'.format(K_index), format='pdf', bbox_inches='tight')\n",
      "C:\\Users\\VacEn-WenJin\\AppData\\Local\\Temp\\ipykernel_25536\\2807276320.py:7: MatplotlibDeprecationWarning: Auto-removal of overlapping axes is deprecated since 3.6 and will be removed two minor releases later; explicitly call ax.remove() as needed.\n",
      "  ax1 = plt.subplot(gs1[0])\n",
      "C:\\Users\\VacEn-WenJin\\AppData\\Local\\Temp\\ipykernel_25536\\2807276320.py:99: UserWarning: Matplotlib is currently using agg, which is a non-GUI backend, so cannot show the figure.\n",
      "  plt.show()\n",
      "C:\\Users\\VacEn-WenJin\\AppData\\Local\\Temp\\ipykernel_25536\\2807276320.py:100: UserWarning: This figure includes Axes that are not compatible with tight_layout, so results might be incorrect.\n",
      "  plt.savefig('./../../FitPlot/Fit_06[24Dec06][VCC1588RDBFit]/VNB_res/'+galaxy_name+'Fig[{:}].pdf'.format(K_index), format='pdf', bbox_inches='tight')\n",
      "C:\\Users\\VacEn-WenJin\\AppData\\Local\\Temp\\ipykernel_25536\\2807276320.py:7: MatplotlibDeprecationWarning: Auto-removal of overlapping axes is deprecated since 3.6 and will be removed two minor releases later; explicitly call ax.remove() as needed.\n",
      "  ax1 = plt.subplot(gs1[0])\n",
      "C:\\Users\\VacEn-WenJin\\AppData\\Local\\Temp\\ipykernel_25536\\2807276320.py:99: UserWarning: Matplotlib is currently using agg, which is a non-GUI backend, so cannot show the figure.\n",
      "  plt.show()\n",
      "C:\\Users\\VacEn-WenJin\\AppData\\Local\\Temp\\ipykernel_25536\\2807276320.py:100: UserWarning: This figure includes Axes that are not compatible with tight_layout, so results might be incorrect.\n",
      "  plt.savefig('./../../FitPlot/Fit_06[24Dec06][VCC1588RDBFit]/VNB_res/'+galaxy_name+'Fig[{:}].pdf'.format(K_index), format='pdf', bbox_inches='tight')\n",
      "C:\\Users\\VacEn-WenJin\\AppData\\Local\\Temp\\ipykernel_25536\\2807276320.py:7: MatplotlibDeprecationWarning: Auto-removal of overlapping axes is deprecated since 3.6 and will be removed two minor releases later; explicitly call ax.remove() as needed.\n",
      "  ax1 = plt.subplot(gs1[0])\n",
      "C:\\Users\\VacEn-WenJin\\AppData\\Local\\Temp\\ipykernel_25536\\2807276320.py:99: UserWarning: Matplotlib is currently using agg, which is a non-GUI backend, so cannot show the figure.\n",
      "  plt.show()\n",
      "C:\\Users\\VacEn-WenJin\\AppData\\Local\\Temp\\ipykernel_25536\\2807276320.py:100: UserWarning: This figure includes Axes that are not compatible with tight_layout, so results might be incorrect.\n",
      "  plt.savefig('./../../FitPlot/Fit_06[24Dec06][VCC1588RDBFit]/VNB_res/'+galaxy_name+'Fig[{:}].pdf'.format(K_index), format='pdf', bbox_inches='tight')\n",
      "C:\\Users\\VacEn-WenJin\\AppData\\Local\\Temp\\ipykernel_25536\\2807276320.py:7: MatplotlibDeprecationWarning: Auto-removal of overlapping axes is deprecated since 3.6 and will be removed two minor releases later; explicitly call ax.remove() as needed.\n",
      "  ax1 = plt.subplot(gs1[0])\n",
      "C:\\Users\\VacEn-WenJin\\AppData\\Local\\Temp\\ipykernel_25536\\2807276320.py:99: UserWarning: Matplotlib is currently using agg, which is a non-GUI backend, so cannot show the figure.\n",
      "  plt.show()\n",
      "C:\\Users\\VacEn-WenJin\\AppData\\Local\\Temp\\ipykernel_25536\\2807276320.py:100: UserWarning: This figure includes Axes that are not compatible with tight_layout, so results might be incorrect.\n",
      "  plt.savefig('./../../FitPlot/Fit_06[24Dec06][VCC1588RDBFit]/VNB_res/'+galaxy_name+'Fig[{:}].pdf'.format(K_index), format='pdf', bbox_inches='tight')\n",
      "C:\\Users\\VacEn-WenJin\\AppData\\Local\\Temp\\ipykernel_25536\\2807276320.py:7: MatplotlibDeprecationWarning: Auto-removal of overlapping axes is deprecated since 3.6 and will be removed two minor releases later; explicitly call ax.remove() as needed.\n",
      "  ax1 = plt.subplot(gs1[0])\n",
      "C:\\Users\\VacEn-WenJin\\AppData\\Local\\Temp\\ipykernel_25536\\2807276320.py:99: UserWarning: Matplotlib is currently using agg, which is a non-GUI backend, so cannot show the figure.\n",
      "  plt.show()\n",
      "C:\\Users\\VacEn-WenJin\\AppData\\Local\\Temp\\ipykernel_25536\\2807276320.py:100: UserWarning: This figure includes Axes that are not compatible with tight_layout, so results might be incorrect.\n",
      "  plt.savefig('./../../FitPlot/Fit_06[24Dec06][VCC1588RDBFit]/VNB_res/'+galaxy_name+'Fig[{:}].pdf'.format(K_index), format='pdf', bbox_inches='tight')\n",
      "C:\\Users\\VacEn-WenJin\\AppData\\Local\\Temp\\ipykernel_25536\\2807276320.py:7: MatplotlibDeprecationWarning: Auto-removal of overlapping axes is deprecated since 3.6 and will be removed two minor releases later; explicitly call ax.remove() as needed.\n",
      "  ax1 = plt.subplot(gs1[0])\n",
      "C:\\Users\\VacEn-WenJin\\AppData\\Local\\Temp\\ipykernel_25536\\2807276320.py:99: UserWarning: Matplotlib is currently using agg, which is a non-GUI backend, so cannot show the figure.\n",
      "  plt.show()\n",
      "C:\\Users\\VacEn-WenJin\\AppData\\Local\\Temp\\ipykernel_25536\\2807276320.py:100: UserWarning: This figure includes Axes that are not compatible with tight_layout, so results might be incorrect.\n",
      "  plt.savefig('./../../FitPlot/Fit_06[24Dec06][VCC1588RDBFit]/VNB_res/'+galaxy_name+'Fig[{:}].pdf'.format(K_index), format='pdf', bbox_inches='tight')\n"
     ]
    }
   ],
   "source": [
    "# for i in range(len(VNB[6])):\n",
    "#     CK_SpFT(i)"
   ]
  },
  {
   "cell_type": "markdown",
   "metadata": {},
   "source": [
    "# Data collect"
   ]
  },
  {
   "cell_type": "markdown",
   "metadata": {},
   "source": [
    "## Spectrum Index"
   ]
  },
  {
   "cell_type": "code",
   "execution_count": null,
   "metadata": {},
   "outputs": [],
   "source": [
    "H_Beta_map = np.ndarray(shape=len(VNB[6]))\n",
    "Fe_5015_map = np.ndarray(shape=len(VNB[6]))\n",
    "Mg_b_map = np.ndarray(shape=len(VNB[6]))"
   ]
  },
  {
   "cell_type": "code",
   "execution_count": null,
   "metadata": {},
   "outputs": [],
   "source": [
    "LP = np.mean([Index_Wave.loc[0,'BPC_range'][0],Index_Wave.loc[0,'BPC_range'][1]])\n",
    "RP = np.mean([Index_Wave.loc[0,'RPC_range'][0],Index_Wave.loc[0,'RPC_range'][1]])"
   ]
  },
  {
   "cell_type": "code",
   "execution_count": null,
   "metadata": {},
   "outputs": [],
   "source": [
    "x_wave = np.ndarray(shape=(len(lam_gal[ np.where((lam_gal>LP) & (lam_gal<RP)) ]),len(VNB[6])))\n",
    "y_spectrum = np.ndarray(shape=(len(lam_gal[ np.where((lam_gal>LP) & (lam_gal<RP)) ]),len(VNB[6])))\n",
    "y_SL = np.ndarray(shape=(len(lam_gal[ np.where((lam_gal>LP) & (lam_gal<RP)) ]),len(VNB[6])))"
   ]
  },
  {
   "cell_type": "code",
   "execution_count": null,
   "metadata": {},
   "outputs": [],
   "source": [
    "for i in range(len(VNB[6])):\n",
    "        \n",
    "        K_index = i\n",
    "        spectrum_fit_NEL = PP_box[K_index].bestfit\n",
    "        for k in [0,1]:\n",
    "            spectrum_fit_NEL = spectrum_fit_NEL - PP_box[K_index].gas_bestfit_templates[:,k]\n",
    "\n",
    "        LP = np.mean([Index_Wave.loc[0,'BPC_range'][0],Index_Wave.loc[0,'BPC_range'][1]])\n",
    "        RP = np.mean([Index_Wave.loc[0,'RPC_range'][0],Index_Wave.loc[0,'RPC_range'][1]])\n",
    "        LCB = Index_Wave.loc[0,'CBP_range'][0]\n",
    "        RCB = Index_Wave.loc[0,'CBP_range'][1]\n",
    "        LPV = np.mean(spectrum_fit_NEL[ np.where((lam_gal>Index_Wave.loc[0,'BPC_range'][0]) & (lam_gal<Index_Wave.loc[0,'BPC_range'][1])) ])\n",
    "        RPV = np.mean(spectrum_fit_NEL[ np.where((lam_gal>Index_Wave.loc[0,'RPC_range'][0]) & (lam_gal<Index_Wave.loc[0,'RPC_range'][1])) ])\n",
    "\n",
    "        # H_Beta_map[i,j] = np.trapz(Bestfitfield[:,i,j][ np.where((lam_gal>LP) & (lam_gal<RP)) ], lam_gal[ np.where((lam_gal>LP) & (lam_gal<RP)) ]) - np.trapz([LPV,RPV],[LP,RP])\n",
    "\n",
    "        x_wave[:,i] = lam_gal[ np.where((lam_gal>LP) & (lam_gal<RP)) ]\n",
    "        y_spectrum[:,i] = spectrum_fit_NEL[ np.where((lam_gal>LP) & (lam_gal<RP)) ]\n",
    "        y_SL[:,i] = x_wave[:,i] * ((RPV-LPV)/(RP-LP)) - LP * ((RPV-LPV)/(RP-LP)) + LPV\n",
    "\n",
    "        NS = y_SL[:,i] - y_spectrum[:,i]\n",
    "        for k in range(len(y_SL[:,i])):\n",
    "            NS[k] = NS[k]/y_SL[k,i]\n",
    "\n",
    "        H_Beta_map[i] = np.trapz(NS, x_wave[:,i])"
   ]
  },
  {
   "cell_type": "code",
   "execution_count": null,
   "metadata": {},
   "outputs": [],
   "source": [
    "#Fe 5015\n",
    "\n",
    "LP = np.mean([Index_Wave.loc[1,'BPC_range'][0],Index_Wave.loc[1,'BPC_range'][1]])\n",
    "RP = np.mean([Index_Wave.loc[1,'RPC_range'][0],Index_Wave.loc[1,'RPC_range'][1]])"
   ]
  },
  {
   "cell_type": "code",
   "execution_count": null,
   "metadata": {},
   "outputs": [],
   "source": [
    "#Fe 5015\n",
    "\n",
    "x_wave = np.ndarray(shape=(len(lam_gal[ np.where((lam_gal>LP) & (lam_gal<RP)) ]),len(VNB[6])))\n",
    "y_spectrum = np.ndarray(shape=(len(lam_gal[ np.where((lam_gal>LP) & (lam_gal<RP)) ]),len(VNB[6])))\n",
    "y_SL = np.ndarray(shape=(len(lam_gal[ np.where((lam_gal>LP) & (lam_gal<RP)) ]),len(VNB[6])))"
   ]
  },
  {
   "cell_type": "code",
   "execution_count": null,
   "metadata": {},
   "outputs": [],
   "source": [
    "#Fe 5015\n",
    "\n",
    "for i in range(len(VNB[6])):\n",
    "        \n",
    "        K_index = i\n",
    "        spectrum_fit_NEL = PP_box[K_index].bestfit\n",
    "        for k in [0,1]:\n",
    "            spectrum_fit_NEL = spectrum_fit_NEL - PP_box[K_index].gas_bestfit_templates[:,k]\n",
    "\n",
    "        LP = np.mean([Index_Wave.loc[1,'BPC_range'][0],Index_Wave.loc[1,'BPC_range'][1]])\n",
    "        RP = np.mean([Index_Wave.loc[1,'RPC_range'][0],Index_Wave.loc[1,'RPC_range'][1]])\n",
    "        LCB = Index_Wave.loc[1,'CBP_range'][0]\n",
    "        RCB = Index_Wave.loc[1,'CBP_range'][1]\n",
    "        LPV = np.mean(spectrum_fit_NEL[ np.where((lam_gal>Index_Wave.loc[1,'BPC_range'][0]) & (lam_gal<Index_Wave.loc[1,'BPC_range'][1])) ])\n",
    "        RPV = np.mean(spectrum_fit_NEL[ np.where((lam_gal>Index_Wave.loc[1,'RPC_range'][0]) & (lam_gal<Index_Wave.loc[1,'RPC_range'][1])) ])\n",
    "\n",
    "        # H_Beta_map[i,j] = np.trapz(Bestfitfield[:,i,j][ np.where((lam_gal>LP) & (lam_gal<RP)) ], lam_gal[ np.where((lam_gal>LP) & (lam_gal<RP)) ]) - np.trapz([LPV,RPV],[LP,RP])\n",
    "\n",
    "        x_wave[:,i] = lam_gal[ np.where((lam_gal>LP) & (lam_gal<RP)) ]\n",
    "        y_spectrum[:,i] = spectrum_fit_NEL[ np.where((lam_gal>LP) & (lam_gal<RP)) ]\n",
    "        y_SL[:,i] = x_wave[:,i] * ((RPV-LPV)/(RP-LP)) - LP * ((RPV-LPV)/(RP-LP)) + LPV\n",
    "\n",
    "        NS = y_SL[:,i] - y_spectrum[:,i]\n",
    "        for k in range(len(y_SL[:,i])):\n",
    "            NS[k] = NS[k]/y_SL[k,i]\n",
    "\n",
    "        Fe_5015_map[i] = np.trapz(NS, x_wave[:,i])"
   ]
  },
  {
   "cell_type": "code",
   "execution_count": null,
   "metadata": {},
   "outputs": [],
   "source": [
    "#Mg b\n",
    "\n",
    "LP = np.mean([Index_Wave.loc[2,'BPC_range'][0],Index_Wave.loc[2,'BPC_range'][1]])\n",
    "RP = np.mean([Index_Wave.loc[2,'RPC_range'][0],Index_Wave.loc[2,'RPC_range'][1]])"
   ]
  },
  {
   "cell_type": "code",
   "execution_count": null,
   "metadata": {},
   "outputs": [],
   "source": [
    "#Mg b\n",
    "\n",
    "x_wave = np.ndarray(shape=(len(lam_gal[ np.where((lam_gal>LP) & (lam_gal<RP)) ]),len(VNB[6])))\n",
    "y_spectrum = np.ndarray(shape=(len(lam_gal[ np.where((lam_gal>LP) & (lam_gal<RP)) ]),len(VNB[6])))\n",
    "y_SL = np.ndarray(shape=(len(lam_gal[ np.where((lam_gal>LP) & (lam_gal<RP)) ]),len(VNB[6])))"
   ]
  },
  {
   "cell_type": "code",
   "execution_count": null,
   "metadata": {},
   "outputs": [],
   "source": [
    "#Mg b\n",
    "\n",
    "for i in range(len(VNB[6])):\n",
    "        \n",
    "        K_index = i\n",
    "        spectrum_fit_NEL = PP_box[K_index].bestfit\n",
    "        for k in [0,1]:\n",
    "            spectrum_fit_NEL = spectrum_fit_NEL - PP_box[K_index].gas_bestfit_templates[:,k]\n",
    "\n",
    "\n",
    "        LP = np.mean([Index_Wave.loc[2,'BPC_range'][0],Index_Wave.loc[2,'BPC_range'][1]])\n",
    "        RP = np.mean([Index_Wave.loc[2,'RPC_range'][0],Index_Wave.loc[2,'RPC_range'][1]])\n",
    "        LCB = Index_Wave.loc[2,'CBP_range'][0]\n",
    "        RCB = Index_Wave.loc[2,'CBP_range'][1]\n",
    "        LPV = np.mean(spectrum_fit_NEL[ np.where((lam_gal>Index_Wave.loc[2,'BPC_range'][0]) & (lam_gal<Index_Wave.loc[2,'BPC_range'][1])) ])\n",
    "        RPV = np.mean(spectrum_fit_NEL[ np.where((lam_gal>Index_Wave.loc[2,'RPC_range'][0]) & (lam_gal<Index_Wave.loc[2,'RPC_range'][1])) ])\n",
    "\n",
    "        # H_Beta_map[i,j] = np.trapz(Bestfitfield[:,i,j][ np.where((lam_gal>LP) & (lam_gal<RP)) ], lam_gal[ np.where((lam_gal>LP) & (lam_gal<RP)) ]) - np.trapz([LPV,RPV],[LP,RP])\n",
    "\n",
    "        x_wave[:,i] = lam_gal[ np.where((lam_gal>LP) & (lam_gal<RP)) ]\n",
    "        y_spectrum[:,i] = spectrum_fit_NEL[ np.where((lam_gal>LP) & (lam_gal<RP)) ]\n",
    "        y_SL[:,i] = x_wave[:,i] * ((RPV-LPV)/(RP-LP)) - LP * ((RPV-LPV)/(RP-LP)) + LPV\n",
    "\n",
    "        NS = y_SL[:,i] - y_spectrum[:,i]\n",
    "        for k in range(len(y_SL[:,i])):\n",
    "            NS[k] = NS[k]/y_SL[k,i]\n",
    "\n",
    "        Mg_b_map[i] = np.trapz(NS, x_wave[:,i])"
   ]
  },
  {
   "cell_type": "markdown",
   "metadata": {},
   "source": [
    "## OTP"
   ]
  },
  {
   "cell_type": "code",
   "execution_count": null,
   "metadata": {},
   "outputs": [],
   "source": [
    "names = ['Hbeta', '[OIII]5007_d']\n",
    "c_kms = 299792.458  # speed of light in km/s"
   ]
  },
  {
   "cell_type": "code",
   "execution_count": null,
   "metadata": {},
   "outputs": [],
   "source": [
    "VNB_Sol = pd.DataFrame({'H_beta_EL_value':[],'H_beta_EL_ANR':[],\n",
    "                        'O_3_5007_EL_value':[],'O_3_5007_EL_ANR':[],\n",
    "                        'Component_Sol':[],\n",
    "                        'H_beta_SI':[],'Mg_b_SI':[],'Fe_5015_SI':[],\n",
    "                        'R':[],'SNR':[],'Signal':[],'Noise':[],\n",
    "                        'K_index':[]})"
   ]
  },
  {
   "cell_type": "code",
   "execution_count": null,
   "metadata": {},
   "outputs": [],
   "source": [
    "for Index_num in range(len(VNB[2])):\n",
    "    K_index = np.where(VNB[0] == Index_num)[0]\n",
    "    dx = []\n",
    "    dy = []\n",
    "    dr = []\n",
    "\n",
    "    for k_index in K_index:\n",
    "        i = int(k_index/max(Galaxy_info.col))\n",
    "        j = k_index%max(Galaxy_info.col)\n",
    "\n",
    "        Ori_ra  = Galaxy_info.CRVAL1 + ((i)*Galaxy_info.CD1_2) + ((j)*Galaxy_info.CD1_1) + (Galaxy_info.CD1_2+Galaxy_info.CD1_1)/2\n",
    "        Ori_dec = Galaxy_info.CRVAL2 + ((i)*Galaxy_info.CD2_2) + ((j)*Galaxy_info.CD2_1) + (Galaxy_info.CD2_2+Galaxy_info.CD2_1)/2\n",
    "        O_x = (Galaxy_info.CRVAL1 + (((Galaxy_info.cube.shape[1])*Galaxy_info.CD1_2) + ((Galaxy_info.cube.shape[2])*Galaxy_info.CD1_1))/2)\n",
    "        O_y = (Galaxy_info.CRVAL2 + (((Galaxy_info.cube.shape[1])*Galaxy_info.CD2_2) + ((Galaxy_info.cube.shape[2])*Galaxy_info.CD2_1))/2)\n",
    "        dx += [Ori_ra - O_x]\n",
    "        dy += [Ori_dec - O_y]\n",
    "        dr += [np.sqrt((Ori_ra - O_x)**2 + (Ori_dec - O_y)**2)]\n",
    "    R = np.mean(dr)\n",
    "\n",
    "    rms = robust_sigma(VNB_spectrum_new[:,Index_num] - PP_box[Index_num].bestfit, zero=1)\n",
    "    for p, name in enumerate(names):\n",
    "        kk = gas_names == name + '_(1)'   # Extract first gas kinematic component\n",
    "        dlam = line_wave[kk]*Galaxy_info.velscale/c_kms   # Angstrom per pixel at line wavelength (dlam/lam = dv/c)\n",
    "        flux = (PP_box[Index_num].gas_flux[kk]*dlam)[0]  # Convert to ergs/(cm^2 s)\n",
    "        an = np.max(PP_box[Index_num].gas_bestfit_templates[:, kk])/rms\n",
    "        if(kk[0]):\n",
    "            H_Beta_EL = flux\n",
    "            H_Beta_EL_AN = an\n",
    "        if(kk[1]):\n",
    "            O_5007_EL = flux\n",
    "            O_5007_EL_AN = an\n",
    "\n",
    "    S_val = np.mean(VNB_spectrum_new[:,Index_num][ np.where((lam_gal>5075) & (lam_gal<5125)) ]/PP_box[Index_num].bestfit[ np.where((lam_gal>5075) & (lam_gal<5125)) ])\n",
    "    N_val = np.std(VNB_spectrum_new[:,Index_num][ np.where((lam_gal>5075) & (lam_gal<5125)) ]/PP_box[Index_num].bestfit[ np.where((lam_gal>5075) & (lam_gal<5125)) ])\n",
    "\n",
    "\n",
    "    VNB_Sol_lim = pd.DataFrame({'H_beta_EL_value':[H_Beta_EL],'H_beta_EL_ANR':[H_Beta_EL_AN],\n",
    "                        'O_3_5007_EL_value':[O_5007_EL],'O_3_5007_EL_ANR':[O_5007_EL_AN],\n",
    "                        'Component_Sol':[PP_box[Index_num].sol],\n",
    "                        'H_beta_SI':[H_Beta_map[Index_num]],'Mg_b_SI':[Fe_5015_map[Index_num]],'Fe_5015_SI':[Mg_b_map[Index_num]],\n",
    "                        'R':[R],'SNR':[S_val/N_val],'Signal':[S_val],'Noise':[N_val],'K_index':[K_index]})\n",
    "    VNB_Sol = TB_reindex(pd.concat([VNB_Sol, VNB_Sol_lim]))"
   ]
  },
  {
   "cell_type": "code",
   "execution_count": null,
   "metadata": {},
   "outputs": [],
   "source": [
    "VNB_Sol.to_csv('./../FitData/Fit_DS_06[24Dec02][VCC1588]/'+galaxy_name+'_VNB_SFR.csv')"
   ]
  }
 ],
 "metadata": {
  "kernelspec": {
   "display_name": "Ast_Base",
   "language": "python",
   "name": "python3"
  },
  "language_info": {
   "codemirror_mode": {
    "name": "ipython",
    "version": 3
   },
   "file_extension": ".py",
   "mimetype": "text/x-python",
   "name": "python",
   "nbconvert_exporter": "python",
   "pygments_lexer": "ipython3",
   "version": "3.8.19"
  }
 },
 "nbformat": 4,
 "nbformat_minor": 2
}
